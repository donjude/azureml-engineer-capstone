{
 "cells": [
  {
   "cell_type": "markdown",
   "metadata": {},
   "source": [
    "# Automated ML\n",
    "\n",
    "TODO: Import Dependencies. In the cell below, import all the dependencies that you will need to complete the project.\n",
    "\n",
    "## Import libraries for Azure Machine Learning SDK"
   ]
  },
  {
   "cell_type": "code",
   "execution_count": 1,
   "metadata": {
    "gather": {
     "logged": 1598423888013
    },
    "jupyter": {
     "outputs_hidden": false,
     "source_hidden": false
    },
    "nteract": {
     "transient": {
      "deleting": false
     }
    }
   },
   "outputs": [
    {
     "output_type": "stream",
     "name": "stdout",
     "text": [
      "SDK version: 1.19.0\n"
     ]
    }
   ],
   "source": [
    "import logging\n",
    "import os\n",
    "import csv\n",
    "\n",
    "from matplotlib import pyplot as pyplot\n",
    "import numpy as pd\n",
    "import pandas as pd\n",
    "from sklearn import datasets\n",
    "import pkg_resources\n",
    "\n",
    "import azureml.core\n",
    "from azureml.core.experiment import Experiment\n",
    "from azureml.core.workspace import Workspace\n",
    "from azureml.train.automl import AutoMLConfig\n",
    "from azureml.core.dataset import Dataset\n",
    "\n",
    "# Check the core SDK version number\n",
    "print(\"SDK version:\", azureml.core.VERSION)"
   ]
  },
  {
   "source": [
    "## Initialize Workspace and Experiment"
   ],
   "cell_type": "markdown",
   "metadata": {}
  },
  {
   "cell_type": "code",
   "execution_count": 2,
   "metadata": {},
   "outputs": [
    {
     "output_type": "stream",
     "name": "stderr",
     "text": [
      "Warning: Falling back to use azure cli login credentials.\nIf you run your code in unattended mode, i.e., where you can't give a user input, then we recommend to use ServicePrincipalAuthentication or MsiAuthentication.\nPlease refer to aka.ms/aml-notebook-auth for different authentication mechanisms in azureml-sdk.\n"
     ]
    },
    {
     "output_type": "execute_result",
     "data": {
      "text/plain": [
       "                                                     \n",
       "Subscription ID  e36180a3-997b-4765-87a8-36f70eefc1fb\n",
       "Workspace        ws-airevo                           \n",
       "Resource Group   rg-ai                               \n",
       "Location         westus2                             \n",
       "Experiment Name  auto-ml-heart-failure-exp           "
      ],
      "text/html": "<div>\n<style scoped>\n    .dataframe tbody tr th:only-of-type {\n        vertical-align: middle;\n    }\n\n    .dataframe tbody tr th {\n        vertical-align: top;\n    }\n\n    .dataframe thead th {\n        text-align: right;\n    }\n</style>\n<table border=\"1\" class=\"dataframe\">\n  <thead>\n    <tr style=\"text-align: right;\">\n      <th></th>\n      <th></th>\n    </tr>\n  </thead>\n  <tbody>\n    <tr>\n      <th>Subscription ID</th>\n      <td>e36180a3-997b-4765-87a8-36f70eefc1fb</td>\n    </tr>\n    <tr>\n      <th>Workspace</th>\n      <td>ws-airevo</td>\n    </tr>\n    <tr>\n      <th>Resource Group</th>\n      <td>rg-ai</td>\n    </tr>\n    <tr>\n      <th>Location</th>\n      <td>westus2</td>\n    </tr>\n    <tr>\n      <th>Experiment Name</th>\n      <td>auto-ml-heart-failure-exp</td>\n    </tr>\n  </tbody>\n</table>\n</div>"
     },
     "metadata": {},
     "execution_count": 2
    }
   ],
   "source": [
    "# initialized a workspace from a persisted configuration\n",
    "ws = Workspace.from_config()\n",
    "\n",
    "project_folder = './heart_failure_proj'\n",
    "# choose a name for experiment\n",
    "experiment_name = 'auto-ml-heart-failure-exp'\n",
    "\n",
    "experiment = Experiment(ws, experiment_name)\n",
    "\n",
    "# get workspace details and print\n",
    "output = {}\n",
    "output['Subscription ID'] = ws.subscription_id\n",
    "output['Workspace'] = ws.name\n",
    "output['Resource Group'] = ws.resource_group \n",
    "output['Location'] = ws.location \n",
    "output['Experiment Name'] = experiment.name\n",
    "pd.set_option('display.max_colwidth', -1)\n",
    "output_df = pd.DataFrame(data = output, index=[''])\n",
    "output_df.T"
   ]
  },
  {
   "cell_type": "markdown",
   "metadata": {},
   "source": [
    "## Dataset\n",
    "\n",
    "### Overview\n",
    "TODO: In this markdown cell, give an overview of the dataset you are using. Also mention the task you will be performing.\n",
    "\n",
    "\n",
    "TODO: Get data. In the cell below, write code to access the data you will be using in this project. Remember that the dataset needs to be external."
   ]
  },
  {
   "source": [
    "## Prepare the dataset for Automation"
   ],
   "cell_type": "markdown",
   "metadata": {}
  },
  {
   "cell_type": "code",
   "execution_count": 3,
   "metadata": {},
   "outputs": [
    {
     "output_type": "execute_result",
     "data": {
      "text/plain": [
       "              age     anaemia  creatinine_phosphokinase    diabetes  \\\n",
       "count  299.000000  299.000000  299.000000                299.000000   \n",
       "mean   60.833893   0.431438    581.839465                0.418060     \n",
       "std    11.894809   0.496107    970.287881                0.494067     \n",
       "min    40.000000   0.000000    23.000000                 0.000000     \n",
       "25%    51.000000   0.000000    116.500000                0.000000     \n",
       "50%    60.000000   0.000000    250.000000                0.000000     \n",
       "75%    70.000000   1.000000    582.000000                1.000000     \n",
       "max    95.000000   1.000000    7861.000000               1.000000     \n",
       "\n",
       "       ejection_fraction  high_blood_pressure      platelets  \\\n",
       "count  299.000000         299.000000           299.000000      \n",
       "mean   38.083612          0.351171             263358.029264   \n",
       "std    11.834841          0.478136             97804.236869    \n",
       "min    14.000000          0.000000             25100.000000    \n",
       "25%    30.000000          0.000000             212500.000000   \n",
       "50%    38.000000          0.000000             262000.000000   \n",
       "75%    45.000000          1.000000             303500.000000   \n",
       "max    80.000000          1.000000             850000.000000   \n",
       "\n",
       "       serum_creatinine  serum_sodium         sex    smoking        time  \\\n",
       "count  299.00000         299.000000    299.000000  299.00000  299.000000   \n",
       "mean   1.39388           136.625418    0.648829    0.32107    130.260870   \n",
       "std    1.03451           4.412477      0.478136    0.46767    77.614208    \n",
       "min    0.50000           113.000000    0.000000    0.00000    4.000000     \n",
       "25%    0.90000           134.000000    0.000000    0.00000    73.000000    \n",
       "50%    1.10000           137.000000    1.000000    0.00000    115.000000   \n",
       "75%    1.40000           140.000000    1.000000    1.00000    203.000000   \n",
       "max    9.40000           148.000000    1.000000    1.00000    285.000000   \n",
       "\n",
       "       DEATH_EVENT  \n",
       "count  299.00000    \n",
       "mean   0.32107      \n",
       "std    0.46767      \n",
       "min    0.00000      \n",
       "25%    0.00000      \n",
       "50%    0.00000      \n",
       "75%    1.00000      \n",
       "max    1.00000      "
      ],
      "text/html": "<div>\n<style scoped>\n    .dataframe tbody tr th:only-of-type {\n        vertical-align: middle;\n    }\n\n    .dataframe tbody tr th {\n        vertical-align: top;\n    }\n\n    .dataframe thead th {\n        text-align: right;\n    }\n</style>\n<table border=\"1\" class=\"dataframe\">\n  <thead>\n    <tr style=\"text-align: right;\">\n      <th></th>\n      <th>age</th>\n      <th>anaemia</th>\n      <th>creatinine_phosphokinase</th>\n      <th>diabetes</th>\n      <th>ejection_fraction</th>\n      <th>high_blood_pressure</th>\n      <th>platelets</th>\n      <th>serum_creatinine</th>\n      <th>serum_sodium</th>\n      <th>sex</th>\n      <th>smoking</th>\n      <th>time</th>\n      <th>DEATH_EVENT</th>\n    </tr>\n  </thead>\n  <tbody>\n    <tr>\n      <th>count</th>\n      <td>299.000000</td>\n      <td>299.000000</td>\n      <td>299.000000</td>\n      <td>299.000000</td>\n      <td>299.000000</td>\n      <td>299.000000</td>\n      <td>299.000000</td>\n      <td>299.00000</td>\n      <td>299.000000</td>\n      <td>299.000000</td>\n      <td>299.00000</td>\n      <td>299.000000</td>\n      <td>299.00000</td>\n    </tr>\n    <tr>\n      <th>mean</th>\n      <td>60.833893</td>\n      <td>0.431438</td>\n      <td>581.839465</td>\n      <td>0.418060</td>\n      <td>38.083612</td>\n      <td>0.351171</td>\n      <td>263358.029264</td>\n      <td>1.39388</td>\n      <td>136.625418</td>\n      <td>0.648829</td>\n      <td>0.32107</td>\n      <td>130.260870</td>\n      <td>0.32107</td>\n    </tr>\n    <tr>\n      <th>std</th>\n      <td>11.894809</td>\n      <td>0.496107</td>\n      <td>970.287881</td>\n      <td>0.494067</td>\n      <td>11.834841</td>\n      <td>0.478136</td>\n      <td>97804.236869</td>\n      <td>1.03451</td>\n      <td>4.412477</td>\n      <td>0.478136</td>\n      <td>0.46767</td>\n      <td>77.614208</td>\n      <td>0.46767</td>\n    </tr>\n    <tr>\n      <th>min</th>\n      <td>40.000000</td>\n      <td>0.000000</td>\n      <td>23.000000</td>\n      <td>0.000000</td>\n      <td>14.000000</td>\n      <td>0.000000</td>\n      <td>25100.000000</td>\n      <td>0.50000</td>\n      <td>113.000000</td>\n      <td>0.000000</td>\n      <td>0.00000</td>\n      <td>4.000000</td>\n      <td>0.00000</td>\n    </tr>\n    <tr>\n      <th>25%</th>\n      <td>51.000000</td>\n      <td>0.000000</td>\n      <td>116.500000</td>\n      <td>0.000000</td>\n      <td>30.000000</td>\n      <td>0.000000</td>\n      <td>212500.000000</td>\n      <td>0.90000</td>\n      <td>134.000000</td>\n      <td>0.000000</td>\n      <td>0.00000</td>\n      <td>73.000000</td>\n      <td>0.00000</td>\n    </tr>\n    <tr>\n      <th>50%</th>\n      <td>60.000000</td>\n      <td>0.000000</td>\n      <td>250.000000</td>\n      <td>0.000000</td>\n      <td>38.000000</td>\n      <td>0.000000</td>\n      <td>262000.000000</td>\n      <td>1.10000</td>\n      <td>137.000000</td>\n      <td>1.000000</td>\n      <td>0.00000</td>\n      <td>115.000000</td>\n      <td>0.00000</td>\n    </tr>\n    <tr>\n      <th>75%</th>\n      <td>70.000000</td>\n      <td>1.000000</td>\n      <td>582.000000</td>\n      <td>1.000000</td>\n      <td>45.000000</td>\n      <td>1.000000</td>\n      <td>303500.000000</td>\n      <td>1.40000</td>\n      <td>140.000000</td>\n      <td>1.000000</td>\n      <td>1.00000</td>\n      <td>203.000000</td>\n      <td>1.00000</td>\n    </tr>\n    <tr>\n      <th>max</th>\n      <td>95.000000</td>\n      <td>1.000000</td>\n      <td>7861.000000</td>\n      <td>1.000000</td>\n      <td>80.000000</td>\n      <td>1.000000</td>\n      <td>850000.000000</td>\n      <td>9.40000</td>\n      <td>148.000000</td>\n      <td>1.000000</td>\n      <td>1.00000</td>\n      <td>285.000000</td>\n      <td>1.00000</td>\n    </tr>\n  </tbody>\n</table>\n</div>"
     },
     "metadata": {},
     "execution_count": 3
    }
   ],
   "source": [
    "# Try to load the dataset from the Workspace. Otherwise, create it from the file\n",
    "# NOTE: update the key to match the dataset name\n",
    "found = False\n",
    "key = \"heart-failure-dataset\"\n",
    "description_text = \"heart failure clinical records dataset from UCI repo \"\n",
    "\n",
    "if key in ws.datasets.keys(): \n",
    "        found = True\n",
    "        dataset = ws.datasets[key] \n",
    "\n",
    "if not found:\n",
    "        # Create AML Dataset and register it into Workspace\n",
    "        example_data = 'https://archive.ics.uci.edu/ml/machine-learning-databases/00519/heart_failure_clinical_records_dataset.csv'\n",
    "        dataset = Dataset.Tabular.from_delimited_files(example_data)        \n",
    "        #Register Dataset in Workspace\n",
    "        dataset = dataset.register(workspace=ws,\n",
    "                                   name=key,\n",
    "                                   description=description_text)\n",
    "\n",
    "\n",
    "df = dataset.to_pandas_dataframe()\n",
    "df.describe()"
   ]
  },
  {
   "source": [
    "## Create a Compute Target"
   ],
   "cell_type": "markdown",
   "metadata": {}
  },
  {
   "cell_type": "code",
   "execution_count": 4,
   "metadata": {},
   "outputs": [
    {
     "output_type": "stream",
     "name": "stdout",
     "text": [
      "Found existing cluster, use it.\n"
     ]
    }
   ],
   "source": [
    "from azureml.core.compute import ComputeTarget, AmlCompute\n",
    "from azureml.core.compute_target import ComputeTargetException\n",
    "\n",
    "cluster_name = 'cpu-cluster'\n",
    "\n",
    "try:\n",
    "    # check for existing compute target\n",
    "    training_cluster = ComputeTarget(\n",
    "        workspace=ws,\n",
    "        name=cluster_name,\n",
    "    )\n",
    "    print('Found existing cluster, use it.')\n",
    "except:\n",
    "    # create compute target if non exists\n",
    "    try:\n",
    "        compute_config = AmlCompute.provisioning_configuration(\n",
    "            vm_size='STANDARD_DS12_V2',\n",
    "            max_nodes=4\n",
    "        )\n",
    "        training_cluster = ComputeTarget.create(ws, cluster_name, compute_config)\n",
    "        training_cluster.wait_for_completion(show_output=True)\n",
    "    except Exception as ex:\n",
    "        print(ex)"
   ]
  },
  {
   "cell_type": "markdown",
   "metadata": {},
   "source": [
    "## AutoML Configuration\n",
    "\n",
    "TODO: Explain why you chose the automl settings and cofiguration you used below."
   ]
  },
  {
   "cell_type": "code",
   "execution_count": 5,
   "metadata": {
    "gather": {
     "logged": 1598429217746
    },
    "jupyter": {
     "outputs_hidden": false,
     "source_hidden": false
    },
    "nteract": {
     "transient": {
      "deleting": false
     }
    }
   },
   "outputs": [],
   "source": [
    "# define automl settings\n",
    "automl_settings = {\n",
    "    \"n_cross_validations\": 5,\n",
    "    \"experiment_timeout_minutes\": 60,\n",
    "    \"max_concurrent_iterations\": 2,\n",
    "    \"primary_metric\" : 'AUC_weighted'\n",
    "}\n",
    "\n",
    "# define automl configuration settings\n",
    "automl_config = AutoMLConfig(compute_target=training_cluster,\n",
    "                             task = \"classification\",\n",
    "                             training_data=dataset,\n",
    "                             label_column_name=\"DEATH_EVENT\",   \n",
    "                             path = project_folder,\n",
    "                             enable_early_stopping= True,\n",
    "                             featurization= 'auto',\n",
    "                             debug_log = \"automl_errors.log\",\n",
    "                             **automl_settings\n",
    "                            )"
   ]
  },
  {
   "cell_type": "code",
   "execution_count": 11,
   "metadata": {
    "gather": {
     "logged": 1598431107951
    },
    "jupyter": {
     "outputs_hidden": false,
     "source_hidden": false
    },
    "nteract": {
     "transient": {
      "deleting": false
     }
    }
   },
   "outputs": [
    {
     "output_type": "stream",
     "name": "stderr",
     "text": [
      "WARNING:root:Received unrecognized parameter n_cross_validation\n",
      "Running on remote.\n"
     ]
    }
   ],
   "source": [
    "# Submit the experiment to a remote compute cluster\n",
    "remote_run = experiment.submit(automl_config)"
   ]
  },
  {
   "cell_type": "markdown",
   "metadata": {},
   "source": [
    "## Run Details\n",
    "\n",
    "OPTIONAL: Write about the different models trained and their performance. Why do you think some models did better than others?\n",
    "\n",
    "TODO: In the cell below, use the `RunDetails` widget to show the different experiments."
   ]
  },
  {
   "cell_type": "code",
   "execution_count": 6,
   "metadata": {},
   "outputs": [],
   "source": [
    "# retrieve an existing run\n",
    "from azureml.train.automl.run import AutoMLRun\n",
    "remote_run = AutoMLRun(experiment = experiment, run_id = 'AutoML_c2ada1fe-bf94-48d0-802e-fcb1cc580787')"
   ]
  },
  {
   "cell_type": "code",
   "execution_count": 7,
   "metadata": {
    "gather": {
     "logged": 1598431121770
    },
    "jupyter": {
     "outputs_hidden": false,
     "source_hidden": false
    },
    "nteract": {
     "transient": {
      "deleting": false
     }
    }
   },
   "outputs": [
    {
     "output_type": "display_data",
     "data": {
      "text/plain": "_AutoMLWidget(widget_settings={'childWidgetDisplay': 'popup', 'send_telemetry': False, 'log_level': 'INFO', 's…",
      "application/vnd.jupyter.widget-view+json": {
       "version_major": 2,
       "version_minor": 0,
       "model_id": "d8001d24768f4bd795bbc56975df91bb"
      }
     },
     "metadata": {}
    },
    {
     "output_type": "display_data",
     "data": {
      "application/aml.mini.widget.v1": "{\"status\": \"Completed\", \"workbench_run_details_uri\": \"https://ml.azure.com/experiments/auto-ml-heart-failure-exp/runs/AutoML_c2ada1fe-bf94-48d0-802e-fcb1cc580787?wsid=/subscriptions/e36180a3-997b-4765-87a8-36f70eefc1fb/resourcegroups/rg-ai/workspaces/ws-airevo\", \"run_id\": \"AutoML_c2ada1fe-bf94-48d0-802e-fcb1cc580787\", \"run_properties\": {\"run_id\": \"AutoML_c2ada1fe-bf94-48d0-802e-fcb1cc580787\", \"created_utc\": \"2021-01-09T15:34:08.521223Z\", \"properties\": {\"num_iterations\": \"1000\", \"training_type\": \"TrainFull\", \"acquisition_function\": \"EI\", \"primary_metric\": \"AUC_weighted\", \"train_split\": \"0\", \"acquisition_parameter\": \"0\", \"num_cross_validation\": null, \"target\": \"cpu-cluster\", \"AMLSettingsJsonString\": \"{\\\"path\\\":null,\\\"name\\\":\\\"auto-ml-heart-failure-exp\\\",\\\"subscription_id\\\":\\\"e36180a3-997b-4765-87a8-36f70eefc1fb\\\",\\\"resource_group\\\":\\\"rg-ai\\\",\\\"workspace_name\\\":\\\"ws-airevo\\\",\\\"region\\\":\\\"westus2\\\",\\\"compute_target\\\":\\\"cpu-cluster\\\",\\\"spark_service\\\":null,\\\"azure_service\\\":\\\"remote\\\",\\\"many_models\\\":false,\\\"pipeline_fetch_max_batch_size\\\":1,\\\"iterations\\\":1000,\\\"primary_metric\\\":\\\"AUC_weighted\\\",\\\"task_type\\\":\\\"classification\\\",\\\"data_script\\\":null,\\\"validation_size\\\":0.0,\\\"n_cross_validations\\\":null,\\\"y_min\\\":null,\\\"y_max\\\":null,\\\"num_classes\\\":null,\\\"featurization\\\":\\\"auto\\\",\\\"_ignore_package_version_incompatibilities\\\":false,\\\"is_timeseries\\\":false,\\\"max_cores_per_iteration\\\":1,\\\"max_concurrent_iterations\\\":2,\\\"iteration_timeout_minutes\\\":null,\\\"mem_in_mb\\\":null,\\\"enforce_time_on_windows\\\":false,\\\"experiment_timeout_minutes\\\":60,\\\"experiment_exit_score\\\":null,\\\"whitelist_models\\\":null,\\\"blacklist_algos\\\":[\\\"TensorFlowLinearClassifier\\\",\\\"TensorFlowDNN\\\"],\\\"supported_models\\\":[\\\"XGBoostClassifier\\\",\\\"TensorFlowLinearClassifier\\\",\\\"LightGBM\\\",\\\"LogisticRegression\\\",\\\"DecisionTree\\\",\\\"LinearSVM\\\",\\\"RandomForest\\\",\\\"SGD\\\",\\\"ExtremeRandomTrees\\\",\\\"SVM\\\",\\\"GradientBoosting\\\",\\\"KNN\\\",\\\"BernoulliNaiveBayes\\\",\\\"MultinomialNaiveBayes\\\",\\\"TensorFlowDNN\\\",\\\"AveragedPerceptronClassifier\\\"],\\\"auto_blacklist\\\":true,\\\"blacklist_samples_reached\\\":false,\\\"exclude_nan_labels\\\":true,\\\"verbosity\\\":20,\\\"_debug_log\\\":\\\"azureml_automl.log\\\",\\\"show_warnings\\\":false,\\\"model_explainability\\\":true,\\\"service_url\\\":null,\\\"sdk_url\\\":null,\\\"sdk_packages\\\":null,\\\"enable_onnx_compatible_models\\\":false,\\\"enable_split_onnx_featurizer_estimator_models\\\":false,\\\"vm_type\\\":\\\"STANDARD_DS11_V2\\\",\\\"telemetry_verbosity\\\":20,\\\"send_telemetry\\\":true,\\\"enable_dnn\\\":false,\\\"scenario\\\":\\\"SDK-1.13.0\\\",\\\"environment_label\\\":null,\\\"force_text_dnn\\\":false,\\\"enable_feature_sweeping\\\":true,\\\"enable_early_stopping\\\":true,\\\"early_stopping_n_iters\\\":10,\\\"metrics\\\":null,\\\"enable_ensembling\\\":true,\\\"enable_stack_ensembling\\\":true,\\\"ensemble_iterations\\\":15,\\\"enable_tf\\\":false,\\\"enable_subsampling\\\":null,\\\"subsample_seed\\\":null,\\\"enable_nimbusml\\\":false,\\\"enable_streaming\\\":false,\\\"force_streaming\\\":false,\\\"track_child_runs\\\":true,\\\"allowed_private_models\\\":[],\\\"label_column_name\\\":\\\"DEATH_EVENT\\\",\\\"weight_column_name\\\":null,\\\"cv_split_column_names\\\":null,\\\"enable_local_managed\\\":false,\\\"_local_managed_run_id\\\":null,\\\"cost_mode\\\":1,\\\"lag_length\\\":0,\\\"metric_operation\\\":\\\"maximize\\\",\\\"preprocess\\\":true,\\\"n_cross_validation\\\":5}\", \"DataPrepJsonString\": \"{\\\\\\\"training_data\\\\\\\": \\\\\\\"{\\\\\\\\\\\\\\\"blocks\\\\\\\\\\\\\\\": [{\\\\\\\\\\\\\\\"id\\\\\\\\\\\\\\\": \\\\\\\\\\\\\\\"fb749920-e179-4402-a759-3a4367853152\\\\\\\\\\\\\\\", \\\\\\\\\\\\\\\"type\\\\\\\\\\\\\\\": \\\\\\\\\\\\\\\"Microsoft.DPrep.GetFilesBlock\\\\\\\\\\\\\\\", \\\\\\\\\\\\\\\"arguments\\\\\\\\\\\\\\\": {\\\\\\\\\\\\\\\"isArchive\\\\\\\\\\\\\\\": false, \\\\\\\\\\\\\\\"path\\\\\\\\\\\\\\\": {\\\\\\\\\\\\\\\"target\\\\\\\\\\\\\\\": 4, \\\\\\\\\\\\\\\"resourceDetails\\\\\\\\\\\\\\\": [{\\\\\\\\\\\\\\\"path\\\\\\\\\\\\\\\": \\\\\\\\\\\\\\\"https://archive.ics.uci.edu/ml/machine-learning-databases/00519/heart_failure_clinical_records_dataset.csv\\\\\\\\\\\\\\\"}]}}, \\\\\\\\\\\\\\\"localData\\\\\\\\\\\\\\\": {}, \\\\\\\\\\\\\\\"isEnabled\\\\\\\\\\\\\\\": true, \\\\\\\\\\\\\\\"name\\\\\\\\\\\\\\\": null, \\\\\\\\\\\\\\\"annotation\\\\\\\\\\\\\\\": null}, {\\\\\\\\\\\\\\\"id\\\\\\\\\\\\\\\": \\\\\\\\\\\\\\\"61fbb5f2-e990-40ca-89c0-63520569b98d\\\\\\\\\\\\\\\", \\\\\\\\\\\\\\\"type\\\\\\\\\\\\\\\": \\\\\\\\\\\\\\\"Microsoft.DPrep.ParseDelimitedBlock\\\\\\\\\\\\\\\", \\\\\\\\\\\\\\\"arguments\\\\\\\\\\\\\\\": {\\\\\\\\\\\\\\\"columnHeadersMode\\\\\\\\\\\\\\\": 3, \\\\\\\\\\\\\\\"fileEncoding\\\\\\\\\\\\\\\": 0, \\\\\\\\\\\\\\\"handleQuotedLineBreaks\\\\\\\\\\\\\\\": false, \\\\\\\\\\\\\\\"preview\\\\\\\\\\\\\\\": false, \\\\\\\\\\\\\\\"separator\\\\\\\\\\\\\\\": \\\\\\\\\\\\\\\",\\\\\\\\\\\\\\\", \\\\\\\\\\\\\\\"skipRows\\\\\\\\\\\\\\\": 0, \\\\\\\\\\\\\\\"skipRowsMode\\\\\\\\\\\\\\\": 0}, \\\\\\\\\\\\\\\"localData\\\\\\\\\\\\\\\": {}, \\\\\\\\\\\\\\\"isEnabled\\\\\\\\\\\\\\\": true, \\\\\\\\\\\\\\\"name\\\\\\\\\\\\\\\": null, \\\\\\\\\\\\\\\"annotation\\\\\\\\\\\\\\\": null}, {\\\\\\\\\\\\\\\"id\\\\\\\\\\\\\\\": \\\\\\\\\\\\\\\"c20743a6-907f-4bfd-a6b3-882e301d4058\\\\\\\\\\\\\\\", \\\\\\\\\\\\\\\"type\\\\\\\\\\\\\\\": \\\\\\\\\\\\\\\"Microsoft.DPrep.DropColumnsBlock\\\\\\\\\\\\\\\", \\\\\\\\\\\\\\\"arguments\\\\\\\\\\\\\\\": {\\\\\\\\\\\\\\\"columns\\\\\\\\\\\\\\\": {\\\\\\\\\\\\\\\"type\\\\\\\\\\\\\\\": 0, \\\\\\\\\\\\\\\"details\\\\\\\\\\\\\\\": {\\\\\\\\\\\\\\\"selectedColumns\\\\\\\\\\\\\\\": [\\\\\\\\\\\\\\\"Path\\\\\\\\\\\\\\\"]}}}, \\\\\\\\\\\\\\\"localData\\\\\\\\\\\\\\\": {}, \\\\\\\\\\\\\\\"isEnabled\\\\\\\\\\\\\\\": true, \\\\\\\\\\\\\\\"name\\\\\\\\\\\\\\\": null, \\\\\\\\\\\\\\\"annotation\\\\\\\\\\\\\\\": null}, {\\\\\\\\\\\\\\\"id\\\\\\\\\\\\\\\": \\\\\\\\\\\\\\\"7c323e25-2b3a-422d-8a8e-582d5c048f29\\\\\\\\\\\\\\\", \\\\\\\\\\\\\\\"type\\\\\\\\\\\\\\\": \\\\\\\\\\\\\\\"Microsoft.DPrep.SetColumnTypesBlock\\\\\\\\\\\\\\\", \\\\\\\\\\\\\\\"arguments\\\\\\\\\\\\\\\": {\\\\\\\\\\\\\\\"columnConversion\\\\\\\\\\\\\\\": [{\\\\\\\\\\\\\\\"column\\\\\\\\\\\\\\\": {\\\\\\\\\\\\\\\"type\\\\\\\\\\\\\\\": 2, \\\\\\\\\\\\\\\"details\\\\\\\\\\\\\\\": {\\\\\\\\\\\\\\\"selectedColumn\\\\\\\\\\\\\\\": \\\\\\\\\\\\\\\"age\\\\\\\\\\\\\\\"}}, \\\\\\\\\\\\\\\"typeProperty\\\\\\\\\\\\\\\": 3}, {\\\\\\\\\\\\\\\"column\\\\\\\\\\\\\\\": {\\\\\\\\\\\\\\\"type\\\\\\\\\\\\\\\": 2, \\\\\\\\\\\\\\\"details\\\\\\\\\\\\\\\": {\\\\\\\\\\\\\\\"selectedColumn\\\\\\\\\\\\\\\": \\\\\\\\\\\\\\\"anaemia\\\\\\\\\\\\\\\"}}, \\\\\\\\\\\\\\\"typeProperty\\\\\\\\\\\\\\\": 2}, {\\\\\\\\\\\\\\\"column\\\\\\\\\\\\\\\": {\\\\\\\\\\\\\\\"type\\\\\\\\\\\\\\\": 2, \\\\\\\\\\\\\\\"details\\\\\\\\\\\\\\\": {\\\\\\\\\\\\\\\"selectedColumn\\\\\\\\\\\\\\\": \\\\\\\\\\\\\\\"creatinine_phosphokinase\\\\\\\\\\\\\\\"}}, \\\\\\\\\\\\\\\"typeProperty\\\\\\\\\\\\\\\": 2}, {\\\\\\\\\\\\\\\"column\\\\\\\\\\\\\\\": {\\\\\\\\\\\\\\\"type\\\\\\\\\\\\\\\": 2, \\\\\\\\\\\\\\\"details\\\\\\\\\\\\\\\": {\\\\\\\\\\\\\\\"selectedColumn\\\\\\\\\\\\\\\": \\\\\\\\\\\\\\\"diabetes\\\\\\\\\\\\\\\"}}, \\\\\\\\\\\\\\\"typeProperty\\\\\\\\\\\\\\\": 2}, {\\\\\\\\\\\\\\\"column\\\\\\\\\\\\\\\": {\\\\\\\\\\\\\\\"type\\\\\\\\\\\\\\\": 2, \\\\\\\\\\\\\\\"details\\\\\\\\\\\\\\\": {\\\\\\\\\\\\\\\"selectedColumn\\\\\\\\\\\\\\\": \\\\\\\\\\\\\\\"ejection_fraction\\\\\\\\\\\\\\\"}}, \\\\\\\\\\\\\\\"typeProperty\\\\\\\\\\\\\\\": 2}, {\\\\\\\\\\\\\\\"column\\\\\\\\\\\\\\\": {\\\\\\\\\\\\\\\"type\\\\\\\\\\\\\\\": 2, \\\\\\\\\\\\\\\"details\\\\\\\\\\\\\\\": {\\\\\\\\\\\\\\\"selectedColumn\\\\\\\\\\\\\\\": \\\\\\\\\\\\\\\"high_blood_pressure\\\\\\\\\\\\\\\"}}, \\\\\\\\\\\\\\\"typeProperty\\\\\\\\\\\\\\\": 2}, {\\\\\\\\\\\\\\\"column\\\\\\\\\\\\\\\": {\\\\\\\\\\\\\\\"type\\\\\\\\\\\\\\\": 2, \\\\\\\\\\\\\\\"details\\\\\\\\\\\\\\\": {\\\\\\\\\\\\\\\"selectedColumn\\\\\\\\\\\\\\\": \\\\\\\\\\\\\\\"platelets\\\\\\\\\\\\\\\"}}, \\\\\\\\\\\\\\\"typeProperty\\\\\\\\\\\\\\\": 3}, {\\\\\\\\\\\\\\\"column\\\\\\\\\\\\\\\": {\\\\\\\\\\\\\\\"type\\\\\\\\\\\\\\\": 2, \\\\\\\\\\\\\\\"details\\\\\\\\\\\\\\\": {\\\\\\\\\\\\\\\"selectedColumn\\\\\\\\\\\\\\\": \\\\\\\\\\\\\\\"serum_creatinine\\\\\\\\\\\\\\\"}}, \\\\\\\\\\\\\\\"typeProperty\\\\\\\\\\\\\\\": 3}, {\\\\\\\\\\\\\\\"column\\\\\\\\\\\\\\\": {\\\\\\\\\\\\\\\"type\\\\\\\\\\\\\\\": 2, \\\\\\\\\\\\\\\"details\\\\\\\\\\\\\\\": {\\\\\\\\\\\\\\\"selectedColumn\\\\\\\\\\\\\\\": \\\\\\\\\\\\\\\"serum_sodium\\\\\\\\\\\\\\\"}}, \\\\\\\\\\\\\\\"typeProperty\\\\\\\\\\\\\\\": 2}, {\\\\\\\\\\\\\\\"column\\\\\\\\\\\\\\\": {\\\\\\\\\\\\\\\"type\\\\\\\\\\\\\\\": 2, \\\\\\\\\\\\\\\"details\\\\\\\\\\\\\\\": {\\\\\\\\\\\\\\\"selectedColumn\\\\\\\\\\\\\\\": \\\\\\\\\\\\\\\"sex\\\\\\\\\\\\\\\"}}, \\\\\\\\\\\\\\\"typeProperty\\\\\\\\\\\\\\\": 2}, {\\\\\\\\\\\\\\\"column\\\\\\\\\\\\\\\": {\\\\\\\\\\\\\\\"type\\\\\\\\\\\\\\\": 2, \\\\\\\\\\\\\\\"details\\\\\\\\\\\\\\\": {\\\\\\\\\\\\\\\"selectedColumn\\\\\\\\\\\\\\\": \\\\\\\\\\\\\\\"smoking\\\\\\\\\\\\\\\"}}, \\\\\\\\\\\\\\\"typeProperty\\\\\\\\\\\\\\\": 2}, {\\\\\\\\\\\\\\\"column\\\\\\\\\\\\\\\": {\\\\\\\\\\\\\\\"type\\\\\\\\\\\\\\\": 2, \\\\\\\\\\\\\\\"details\\\\\\\\\\\\\\\": {\\\\\\\\\\\\\\\"selectedColumn\\\\\\\\\\\\\\\": \\\\\\\\\\\\\\\"time\\\\\\\\\\\\\\\"}}, \\\\\\\\\\\\\\\"typeProperty\\\\\\\\\\\\\\\": 2}, {\\\\\\\\\\\\\\\"column\\\\\\\\\\\\\\\": {\\\\\\\\\\\\\\\"type\\\\\\\\\\\\\\\": 2, \\\\\\\\\\\\\\\"details\\\\\\\\\\\\\\\": {\\\\\\\\\\\\\\\"selectedColumn\\\\\\\\\\\\\\\": \\\\\\\\\\\\\\\"DEATH_EVENT\\\\\\\\\\\\\\\"}}, \\\\\\\\\\\\\\\"typeProperty\\\\\\\\\\\\\\\": 2}]}, \\\\\\\\\\\\\\\"localData\\\\\\\\\\\\\\\": {}, \\\\\\\\\\\\\\\"isEnabled\\\\\\\\\\\\\\\": true, \\\\\\\\\\\\\\\"name\\\\\\\\\\\\\\\": null, \\\\\\\\\\\\\\\"annotation\\\\\\\\\\\\\\\": null}], \\\\\\\\\\\\\\\"inspectors\\\\\\\\\\\\\\\": [], \\\\\\\\\\\\\\\"meta\\\\\\\\\\\\\\\": {\\\\\\\\\\\\\\\"steps_added\\\\\\\\\\\\\\\": \\\\\\\\\\\\\\\"4\\\\\\\\\\\\\\\"}}\\\\\\\", \\\\\\\"activities\\\\\\\": 0}\", \"EnableSubsampling\": null, \"runTemplate\": \"AutoML\", \"azureml.runsource\": \"automl\", \"display_task_type\": \"classification\", \"dependencies_versions\": \"{\\\"azureml-widgets\\\": \\\"1.19.0\\\", \\\"azureml-train-restclients-hyperdrive\\\": \\\"1.19.0\\\", \\\"azureml-train-core\\\": \\\"1.19.0\\\", \\\"azureml-train-automl\\\": \\\"1.19.0\\\", \\\"azureml-train-automl-runtime\\\": \\\"1.19.0\\\", \\\"azureml-train-automl-client\\\": \\\"1.19.0\\\", \\\"azureml-telemetry\\\": \\\"1.19.0\\\", \\\"azureml-pipeline-steps\\\": \\\"1.19.0\\\", \\\"azureml-pipeline-core\\\": \\\"1.19.0\\\", \\\"azureml-model-management-sdk\\\": \\\"1.0.1b6.post1\\\", \\\"azureml-interpret\\\": \\\"1.19.0\\\", \\\"azureml-defaults\\\": \\\"1.19.0\\\", \\\"azureml-dataset-runtime\\\": \\\"1.19.0.post1\\\", \\\"azureml-dataprep\\\": \\\"2.6.1\\\", \\\"azureml-dataprep-rslex\\\": \\\"1.4.0\\\", \\\"azureml-dataprep-native\\\": \\\"26.0.0\\\", \\\"azureml-core\\\": \\\"1.19.0\\\", \\\"azureml-automl-runtime\\\": \\\"1.19.0\\\", \\\"azureml-automl-core\\\": \\\"1.19.0\\\"}\", \"_aml_system_scenario_identification\": \"Remote.Parent\", \"ClientType\": \"SDK\", \"environment_cpu_name\": \"AzureML-AutoML\", \"environment_cpu_label\": \"prod\", \"environment_gpu_name\": \"AzureML-AutoML-GPU\", \"environment_gpu_label\": \"prod\", \"root_attribution\": \"automl\", \"attribution\": \"AutoML\", \"Orchestrator\": \"AutoML\", \"CancelUri\": \"https://westus2.experiments.azureml.net/jasmine/v1.0/subscriptions/e36180a3-997b-4765-87a8-36f70eefc1fb/resourceGroups/rg-ai/providers/Microsoft.MachineLearningServices/workspaces/ws-airevo/experimentids/8bde1135-ac2b-45f5-bcdb-c5b9a225435b/cancel/AutoML_c2ada1fe-bf94-48d0-802e-fcb1cc580787\", \"azureml.git.repository_uri\": \"https://github.com/donjude/azureml-engineer-capstone.git\", \"mlflow.source.git.repoURL\": \"https://github.com/donjude/azureml-engineer-capstone.git\", \"azureml.git.branch\": \"main\", \"mlflow.source.git.branch\": \"main\", \"azureml.git.commit\": \"dd3e3e393f32c03ca1986fd3d99a05f93219a8ba\", \"mlflow.source.git.commit\": \"dd3e3e393f32c03ca1986fd3d99a05f93219a8ba\", \"azureml.git.dirty\": \"False\", \"ClientSdkVersion\": \"1.19.0\", \"snapshotId\": \"00000000-0000-0000-0000-000000000000\", \"SetupRunId\": \"AutoML_c2ada1fe-bf94-48d0-802e-fcb1cc580787_setup\", \"SetupRunContainerId\": \"dcid.AutoML_c2ada1fe-bf94-48d0-802e-fcb1cc580787_setup\", \"FeaturizationRunJsonPath\": \"featurizer_container.json\", \"FeaturizationRunId\": \"AutoML_c2ada1fe-bf94-48d0-802e-fcb1cc580787_featurize\", \"ProblemInfoJsonString\": \"{\\\"dataset_num_categorical\\\": 0, \\\"is_sparse\\\": false, \\\"subsampling\\\": false, \\\"dataset_classes\\\": 2, \\\"dataset_features\\\": 12, \\\"dataset_samples\\\": 299, \\\"single_frequency_class_detected\\\": false}\", \"ModelExplainRunId\": \"AutoML_c2ada1fe-bf94-48d0-802e-fcb1cc580787_ModelExplain\"}, \"tags\": {\"model_explain_run\": \"best_run\", \"_aml_system_azureml.automlComponent\": \"AutoML\", \"pipeline_id\": \"\", \"score\": \"\", \"predicted_cost\": \"\", \"fit_time\": \"\", \"training_percent\": \"\", \"iteration\": \"\", \"run_preprocessor\": \"\", \"run_algorithm\": \"\", \"dynamic_whitelisting_iterations\": \"<25>;<30>;\", \"automl_best_child_run_id\": \"AutoML_c2ada1fe-bf94-48d0-802e-fcb1cc580787_32\", \"model_explain_best_run_child_id\": \"AutoML_c2ada1fe-bf94-48d0-802e-fcb1cc580787_32\"}, \"end_time_utc\": \"2021-01-09T16:00:54.542083Z\", \"status\": \"Completed\", \"log_files\": {}, \"log_groups\": [], \"run_duration\": \"0:26:46\"}, \"child_runs\": [{\"run_id\": \"AutoML_c2ada1fe-bf94-48d0-802e-fcb1cc580787_0\", \"run_number\": 5, \"metric\": null, \"status\": \"Completed\", \"run_type\": \"azureml.scriptrun\", \"training_percent\": \"100\", \"start_time\": \"2021-01-09T15:42:43.592157Z\", \"end_time\": \"2021-01-09T15:43:30.543037Z\", \"created_time\": \"2021-01-09T15:41:53.132973Z\", \"created_time_dt\": \"2021-01-09T15:41:53.132973Z\", \"duration\": \"0:01:37\", \"iteration\": \"0\", \"goal\": \"AUC_weighted_max\", \"run_name\": \"MaxAbsScaler, LightGBM\", \"run_properties\": \"copy=True\", \"primary_metric\": 0.88409554, \"best_metric\": 0.88409554}, {\"run_id\": \"AutoML_c2ada1fe-bf94-48d0-802e-fcb1cc580787_1\", \"run_number\": 6, \"metric\": null, \"status\": \"Completed\", \"run_type\": \"azureml.scriptrun\", \"training_percent\": \"100\", \"start_time\": \"2021-01-09T15:42:03.732609Z\", \"end_time\": \"2021-01-09T15:42:40.067874Z\", \"created_time\": \"2021-01-09T15:41:53.230884Z\", \"created_time_dt\": \"2021-01-09T15:41:53.230884Z\", \"duration\": \"0:00:46\", \"iteration\": \"1\", \"goal\": \"AUC_weighted_max\", \"run_name\": \"MaxAbsScaler, XGBoostClassifier\", \"run_properties\": \"copy=True\", \"primary_metric\": 0.88473694, \"best_metric\": 0.88473694}, {\"run_id\": \"AutoML_c2ada1fe-bf94-48d0-802e-fcb1cc580787_2\", \"run_number\": 7, \"metric\": null, \"status\": \"Completed\", \"run_type\": \"azureml.scriptrun\", \"training_percent\": \"100\", \"start_time\": \"2021-01-09T15:43:33.172267Z\", \"end_time\": \"2021-01-09T15:44:23.176324Z\", \"created_time\": \"2021-01-09T15:42:42.78451Z\", \"created_time_dt\": \"2021-01-09T15:42:42.78451Z\", \"duration\": \"0:01:40\", \"iteration\": \"2\", \"goal\": \"AUC_weighted_max\", \"run_name\": \"MinMaxScaler, RandomForest\", \"run_properties\": \"copy=True, feature_range=(0, 1\", \"primary_metric\": 0.89632924, \"best_metric\": 0.89632924}, {\"run_id\": \"AutoML_c2ada1fe-bf94-48d0-802e-fcb1cc580787_3\", \"run_number\": 8, \"metric\": null, \"status\": \"Completed\", \"run_type\": \"azureml.scriptrun\", \"training_percent\": \"100\", \"start_time\": \"2021-01-09T15:44:26.037082Z\", \"end_time\": \"2021-01-09T15:45:17.378686Z\", \"created_time\": \"2021-01-09T15:43:31.97657Z\", \"created_time_dt\": \"2021-01-09T15:43:31.97657Z\", \"duration\": \"0:01:45\", \"iteration\": \"3\", \"goal\": \"AUC_weighted_max\", \"run_name\": \"RobustScaler, ExtremeRandomTrees\", \"run_properties\": \"copy=True, quantile_range=[10, 90], with_centering=False,\\n             with_scaling=False\", \"primary_metric\": 0.87725706, \"best_metric\": 0.89632924}, {\"run_id\": \"AutoML_c2ada1fe-bf94-48d0-802e-fcb1cc580787_4\", \"run_number\": 9, \"metric\": null, \"status\": \"Completed\", \"run_type\": \"azureml.scriptrun\", \"training_percent\": \"100\", \"start_time\": \"2021-01-09T15:45:19.606974Z\", \"end_time\": \"2021-01-09T15:46:06.94788Z\", \"created_time\": \"2021-01-09T15:44:27.752776Z\", \"created_time_dt\": \"2021-01-09T15:44:27.752776Z\", \"duration\": \"0:01:39\", \"iteration\": \"4\", \"goal\": \"AUC_weighted_max\", \"run_name\": \"MinMaxScaler, RandomForest\", \"run_properties\": \"copy=True, feature_range=(0, 1\", \"primary_metric\": 0.89792976, \"best_metric\": 0.89792976}, {\"run_id\": \"AutoML_c2ada1fe-bf94-48d0-802e-fcb1cc580787_5\", \"run_number\": 10, \"metric\": null, \"status\": \"Completed\", \"run_type\": \"azureml.scriptrun\", \"training_percent\": \"100\", \"start_time\": \"2021-01-09T15:45:30.065944Z\", \"end_time\": \"2021-01-09T15:48:09.002984Z\", \"created_time\": \"2021-01-09T15:45:19.81426Z\", \"created_time_dt\": \"2021-01-09T15:45:19.81426Z\", \"duration\": \"0:02:49\", \"iteration\": \"5\", \"goal\": \"AUC_weighted_max\", \"run_name\": \"MinMaxScaler, RandomForest\", \"run_properties\": \"copy=True, feature_range=(0, 1\", \"primary_metric\": 0.88753743, \"best_metric\": 0.89792976}, {\"run_id\": \"AutoML_c2ada1fe-bf94-48d0-802e-fcb1cc580787_6\", \"run_number\": 11, \"metric\": null, \"status\": \"Completed\", \"run_type\": \"azureml.scriptrun\", \"training_percent\": \"100\", \"start_time\": \"2021-01-09T15:46:22.198984Z\", \"end_time\": \"2021-01-09T15:47:04.838322Z\", \"created_time\": \"2021-01-09T15:46:11.424116Z\", \"created_time_dt\": \"2021-01-09T15:46:11.424116Z\", \"duration\": \"0:00:53\", \"iteration\": \"6\", \"goal\": \"AUC_weighted_max\", \"run_name\": \"StandardScalerWrapper, RandomForest\", \"run_properties\": \"<azureml.automl.runtime.shared.model_wrappers.StandardScalerWrapper object at 0x7f15d4d39da0\", \"primary_metric\": 0.89605443, \"best_metric\": 0.89792976}, {\"run_id\": \"AutoML_c2ada1fe-bf94-48d0-802e-fcb1cc580787_7\", \"run_number\": 12, \"metric\": null, \"status\": \"Completed\", \"run_type\": \"azureml.scriptrun\", \"training_percent\": \"100\", \"start_time\": \"2021-01-09T15:47:17.698092Z\", \"end_time\": \"2021-01-09T15:47:56.811493Z\", \"created_time\": \"2021-01-09T15:47:07.718145Z\", \"created_time_dt\": \"2021-01-09T15:47:07.718145Z\", \"duration\": \"0:00:49\", \"iteration\": \"7\", \"goal\": \"AUC_weighted_max\", \"run_name\": \"MinMaxScaler, ExtremeRandomTrees\", \"run_properties\": \"copy=True, feature_range=(0, 1\", \"primary_metric\": 0.88431533, \"best_metric\": 0.89792976}, {\"run_id\": \"AutoML_c2ada1fe-bf94-48d0-802e-fcb1cc580787_8\", \"run_number\": 13, \"metric\": null, \"status\": \"Completed\", \"run_type\": \"azureml.scriptrun\", \"training_percent\": \"100\", \"start_time\": \"2021-01-09T15:48:11.239833Z\", \"end_time\": \"2021-01-09T15:48:47.89825Z\", \"created_time\": \"2021-01-09T15:47:59.837866Z\", \"created_time_dt\": \"2021-01-09T15:47:59.837866Z\", \"duration\": \"0:00:48\", \"iteration\": \"8\", \"goal\": \"AUC_weighted_max\", \"run_name\": \"MinMaxScaler, ExtremeRandomTrees\", \"run_properties\": \"copy=True, feature_range=(0, 1\", \"primary_metric\": 0.87179076, \"best_metric\": 0.89792976}, {\"run_id\": \"AutoML_c2ada1fe-bf94-48d0-802e-fcb1cc580787_9\", \"run_number\": 14, \"metric\": null, \"status\": \"Completed\", \"run_type\": \"azureml.scriptrun\", \"training_percent\": \"100\", \"start_time\": \"2021-01-09T15:48:21.854074Z\", \"end_time\": \"2021-01-09T15:49:04.692788Z\", \"created_time\": \"2021-01-09T15:48:11.596155Z\", \"created_time_dt\": \"2021-01-09T15:48:11.596155Z\", \"duration\": \"0:00:53\", \"iteration\": \"9\", \"goal\": \"AUC_weighted_max\", \"run_name\": \"SparseNormalizer, KNN\", \"run_properties\": \"<azureml.automl.runtime.shared.model_wrappers.SparseNormalizer object at 0x7fc69c545a90\", \"primary_metric\": 0.7496161, \"best_metric\": 0.89792976}, {\"run_id\": \"AutoML_c2ada1fe-bf94-48d0-802e-fcb1cc580787_10\", \"run_number\": 15, \"metric\": null, \"status\": \"Completed\", \"run_type\": \"azureml.scriptrun\", \"training_percent\": \"100\", \"start_time\": \"2021-01-09T15:49:01.036588Z\", \"end_time\": \"2021-01-09T15:49:37.243345Z\", \"created_time\": \"2021-01-09T15:48:50.553199Z\", \"created_time_dt\": \"2021-01-09T15:48:50.553199Z\", \"duration\": \"0:00:46\", \"iteration\": \"10\", \"goal\": \"AUC_weighted_max\", \"run_name\": \"MinMaxScaler, ExtremeRandomTrees\", \"run_properties\": \"copy=True, feature_range=(0, 1\", \"primary_metric\": 0.87008148, \"best_metric\": 0.89792976}, {\"run_id\": \"AutoML_c2ada1fe-bf94-48d0-802e-fcb1cc580787_11\", \"run_number\": 16, \"metric\": null, \"status\": \"Completed\", \"run_type\": \"azureml.scriptrun\", \"training_percent\": \"100\", \"start_time\": \"2021-01-09T15:49:17.304181Z\", \"end_time\": \"2021-01-09T15:50:04.567725Z\", \"created_time\": \"2021-01-09T15:49:07.440483Z\", \"created_time_dt\": \"2021-01-09T15:49:07.440483Z\", \"duration\": \"0:00:57\", \"iteration\": \"11\", \"goal\": \"AUC_weighted_max\", \"run_name\": \"RobustScaler, ExtremeRandomTrees\", \"run_properties\": \"copy=True, quantile_range=[10, 90], with_centering=True,\\n             with_scaling=False\", \"primary_metric\": 0.88636208, \"best_metric\": 0.89792976}, {\"run_id\": \"AutoML_c2ada1fe-bf94-48d0-802e-fcb1cc580787_12\", \"run_number\": 17, \"metric\": null, \"status\": \"Completed\", \"run_type\": \"azureml.scriptrun\", \"training_percent\": \"100\", \"start_time\": \"2021-01-09T15:49:51.895099Z\", \"end_time\": \"2021-01-09T15:50:34.170834Z\", \"created_time\": \"2021-01-09T15:49:39.913677Z\", \"created_time_dt\": \"2021-01-09T15:49:39.913677Z\", \"duration\": \"0:00:54\", \"iteration\": \"12\", \"goal\": \"AUC_weighted_max\", \"run_name\": \"StandardScalerWrapper, RandomForest\", \"run_properties\": \"<azureml.automl.runtime.shared.model_wrappers.StandardScalerWrapper object at 0x7fa7556d1b38\", \"primary_metric\": 0.90789102, \"best_metric\": 0.90789102}, {\"run_id\": \"AutoML_c2ada1fe-bf94-48d0-802e-fcb1cc580787_13\", \"run_number\": 18, \"metric\": null, \"status\": \"Completed\", \"run_type\": \"azureml.scriptrun\", \"training_percent\": \"100\", \"start_time\": \"2021-01-09T15:50:17.414588Z\", \"end_time\": \"2021-01-09T15:50:51.332442Z\", \"created_time\": \"2021-01-09T15:50:07.249367Z\", \"created_time_dt\": \"2021-01-09T15:50:07.249367Z\", \"duration\": \"0:00:44\", \"iteration\": \"13\", \"goal\": \"AUC_weighted_max\", \"run_name\": \"StandardScalerWrapper, SGD\", \"run_properties\": \"<azureml.automl.runtime.shared.model_wrappers.StandardScalerWrapper object at 0x7f3587955080\", \"primary_metric\": 0.866618, \"best_metric\": 0.90789102}, {\"run_id\": \"AutoML_c2ada1fe-bf94-48d0-802e-fcb1cc580787_14\", \"run_number\": 19, \"metric\": null, \"status\": \"Completed\", \"run_type\": \"azureml.scriptrun\", \"training_percent\": \"100\", \"start_time\": \"2021-01-09T15:50:47.267659Z\", \"end_time\": \"2021-01-09T15:51:28.896578Z\", \"created_time\": \"2021-01-09T15:50:36.829998Z\", \"created_time_dt\": \"2021-01-09T15:50:36.829998Z\", \"duration\": \"0:00:52\", \"iteration\": \"14\", \"goal\": \"AUC_weighted_max\", \"run_name\": \"RobustScaler, RandomForest\", \"run_properties\": \"copy=True, quantile_range=[10, 90], with_centering=True,\\n             with_scaling=False\", \"primary_metric\": 0.89098777, \"best_metric\": 0.90789102}, {\"run_id\": \"AutoML_c2ada1fe-bf94-48d0-802e-fcb1cc580787_15\", \"run_number\": 20, \"metric\": null, \"status\": \"Completed\", \"run_type\": \"azureml.scriptrun\", \"training_percent\": \"100\", \"start_time\": \"2021-01-09T15:51:05.758462Z\", \"end_time\": \"2021-01-09T15:51:45.436577Z\", \"created_time\": \"2021-01-09T15:50:53.976208Z\", \"created_time_dt\": \"2021-01-09T15:50:53.976208Z\", \"duration\": \"0:00:51\", \"iteration\": \"15\", \"goal\": \"AUC_weighted_max\", \"run_name\": \"StandardScalerWrapper, KNN\", \"run_properties\": \"<azureml.automl.runtime.shared.model_wrappers.StandardScalerWrapper object at 0x7f8c480ab630\", \"primary_metric\": 0.52030533, \"best_metric\": 0.90789102}, {\"run_id\": \"AutoML_c2ada1fe-bf94-48d0-802e-fcb1cc580787_16\", \"run_number\": 21, \"metric\": null, \"status\": \"Completed\", \"run_type\": \"azureml.scriptrun\", \"training_percent\": \"100\", \"start_time\": \"2021-01-09T15:51:41.448769Z\", \"end_time\": \"2021-01-09T15:52:17.618271Z\", \"created_time\": \"2021-01-09T15:51:31.390459Z\", \"created_time_dt\": \"2021-01-09T15:51:31.390459Z\", \"duration\": \"0:00:46\", \"iteration\": \"16\", \"goal\": \"AUC_weighted_max\", \"run_name\": \"MinMaxScaler, RandomForest\", \"run_properties\": \"copy=True, feature_range=(0, 1\", \"primary_metric\": 0.88571075, \"best_metric\": 0.90789102}, {\"run_id\": \"AutoML_c2ada1fe-bf94-48d0-802e-fcb1cc580787_17\", \"run_number\": 22, \"metric\": null, \"status\": \"Completed\", \"run_type\": \"azureml.scriptrun\", \"training_percent\": \"100\", \"start_time\": \"2021-01-09T15:51:58.755949Z\", \"end_time\": \"2021-01-09T15:52:38.441789Z\", \"created_time\": \"2021-01-09T15:51:48.13972Z\", \"created_time_dt\": \"2021-01-09T15:51:48.13972Z\", \"duration\": \"0:00:50\", \"iteration\": \"17\", \"goal\": \"AUC_weighted_max\", \"run_name\": \"MinMaxScaler, ExtremeRandomTrees\", \"run_properties\": \"copy=True, feature_range=(0, 1\", \"primary_metric\": 0.83122783, \"best_metric\": 0.90789102}, {\"run_id\": \"AutoML_c2ada1fe-bf94-48d0-802e-fcb1cc580787_18\", \"run_number\": 23, \"metric\": null, \"status\": \"Completed\", \"run_type\": \"azureml.scriptrun\", \"training_percent\": \"100\", \"start_time\": \"2021-01-09T15:52:30.165901Z\", \"end_time\": \"2021-01-09T15:53:09.017127Z\", \"created_time\": \"2021-01-09T15:52:20.32248Z\", \"created_time_dt\": \"2021-01-09T15:52:20.32248Z\", \"duration\": \"0:00:48\", \"iteration\": \"18\", \"goal\": \"AUC_weighted_max\", \"run_name\": \"MaxAbsScaler, RandomForest\", \"run_properties\": \"copy=True\", \"primary_metric\": 0.89569531, \"best_metric\": 0.90789102}, {\"run_id\": \"AutoML_c2ada1fe-bf94-48d0-802e-fcb1cc580787_19\", \"run_number\": 24, \"metric\": null, \"status\": \"Completed\", \"run_type\": \"azureml.scriptrun\", \"training_percent\": \"100\", \"start_time\": \"2021-01-09T15:52:51.779803Z\", \"end_time\": \"2021-01-09T15:53:31.408642Z\", \"created_time\": \"2021-01-09T15:52:41.04379Z\", \"created_time_dt\": \"2021-01-09T15:52:41.04379Z\", \"duration\": \"0:00:50\", \"iteration\": \"19\", \"goal\": \"AUC_weighted_max\", \"run_name\": \"StandardScalerWrapper, XGBoostClassifier\", \"run_properties\": \"<azureml.automl.runtime.shared.model_wrappers.StandardScalerWrapper object at 0x7f51b4c0beb8\", \"primary_metric\": 0.89267109, \"best_metric\": 0.90789102}, {\"run_id\": \"AutoML_c2ada1fe-bf94-48d0-802e-fcb1cc580787_20\", \"run_number\": 25, \"metric\": null, \"status\": \"Completed\", \"run_type\": \"azureml.scriptrun\", \"training_percent\": \"100\", \"start_time\": \"2021-01-09T15:53:21.900029Z\", \"end_time\": \"2021-01-09T15:53:58.03526Z\", \"created_time\": \"2021-01-09T15:53:11.456129Z\", \"created_time_dt\": \"2021-01-09T15:53:11.456129Z\", \"duration\": \"0:00:46\", \"iteration\": \"20\", \"goal\": \"AUC_weighted_max\", \"run_name\": \"MaxAbsScaler, RandomForest\", \"run_properties\": \"copy=True\", \"primary_metric\": 0.89072487, \"best_metric\": 0.90789102}, {\"run_id\": \"AutoML_c2ada1fe-bf94-48d0-802e-fcb1cc580787_21\", \"run_number\": 26, \"metric\": null, \"status\": \"Completed\", \"run_type\": \"azureml.scriptrun\", \"training_percent\": \"100\", \"start_time\": \"2021-01-09T15:53:44.921308Z\", \"end_time\": \"2021-01-09T15:54:21.993121Z\", \"created_time\": \"2021-01-09T15:53:34.254057Z\", \"created_time_dt\": \"2021-01-09T15:53:34.254057Z\", \"duration\": \"0:00:47\", \"iteration\": \"21\", \"goal\": \"AUC_weighted_max\", \"run_name\": \"MaxAbsScaler, ExtremeRandomTrees\", \"run_properties\": \"copy=True\", \"primary_metric\": 0.8472341, \"best_metric\": 0.90789102}, {\"run_id\": \"AutoML_c2ada1fe-bf94-48d0-802e-fcb1cc580787_22\", \"run_number\": 27, \"metric\": null, \"status\": \"Completed\", \"run_type\": \"azureml.scriptrun\", \"training_percent\": \"100\", \"start_time\": \"2021-01-09T15:54:10.460857Z\", \"end_time\": \"2021-01-09T15:54:52.082169Z\", \"created_time\": \"2021-01-09T15:54:00.643655Z\", \"created_time_dt\": \"2021-01-09T15:54:00.643655Z\", \"duration\": \"0:00:51\", \"iteration\": \"22\", \"goal\": \"AUC_weighted_max\", \"run_name\": \"MaxAbsScaler, ExtremeRandomTrees\", \"run_properties\": \"copy=True\", \"primary_metric\": 0.88540468, \"best_metric\": 0.90789102}, {\"run_id\": \"AutoML_c2ada1fe-bf94-48d0-802e-fcb1cc580787_23\", \"run_number\": 28, \"metric\": null, \"status\": \"Completed\", \"run_type\": \"azureml.scriptrun\", \"training_percent\": \"100\", \"start_time\": \"2021-01-09T15:54:35.40151Z\", \"end_time\": \"2021-01-09T15:55:19.436087Z\", \"created_time\": \"2021-01-09T15:54:24.139615Z\", \"created_time_dt\": \"2021-01-09T15:54:24.139615Z\", \"duration\": \"0:00:55\", \"iteration\": \"23\", \"goal\": \"AUC_weighted_max\", \"run_name\": \"MaxAbsScaler, ExtremeRandomTrees\", \"run_properties\": \"copy=True\", \"primary_metric\": 0.89600733, \"best_metric\": 0.90789102}, {\"run_id\": \"AutoML_c2ada1fe-bf94-48d0-802e-fcb1cc580787_24\", \"run_number\": 29, \"metric\": null, \"status\": \"Completed\", \"run_type\": \"azureml.scriptrun\", \"training_percent\": \"100\", \"start_time\": \"2021-01-09T15:55:05.215333Z\", \"end_time\": \"2021-01-09T15:55:44.069321Z\", \"created_time\": \"2021-01-09T15:54:55.527703Z\", \"created_time_dt\": \"2021-01-09T15:54:55.527703Z\", \"duration\": \"0:00:48\", \"iteration\": \"24\", \"goal\": \"AUC_weighted_max\", \"run_name\": \"StandardScalerWrapper, LightGBM\", \"run_properties\": \"<azureml.automl.runtime.shared.model_wrappers.StandardScalerWrapper object at 0x7f8ac3416e10\", \"primary_metric\": 0.87124668, \"best_metric\": 0.90789102}, {\"run_id\": \"AutoML_c2ada1fe-bf94-48d0-802e-fcb1cc580787_25\", \"run_number\": 30, \"metric\": null, \"status\": \"Completed\", \"run_type\": \"azureml.scriptrun\", \"training_percent\": \"100\", \"start_time\": \"2021-01-09T15:55:34.283534Z\", \"end_time\": \"2021-01-09T15:56:11.31595Z\", \"created_time\": \"2021-01-09T15:55:23.581543Z\", \"created_time_dt\": \"2021-01-09T15:55:23.581543Z\", \"duration\": \"0:00:47\", \"iteration\": \"25\", \"goal\": \"AUC_weighted_max\", \"run_name\": \"RobustScaler, RandomForest\", \"run_properties\": \"copy=True, quantile_range=[25, 75], with_centering=False,\\n             with_scaling=True\", \"primary_metric\": 0.76962104, \"best_metric\": 0.90789102}, {\"run_id\": \"AutoML_c2ada1fe-bf94-48d0-802e-fcb1cc580787_26\", \"run_number\": 31, \"metric\": null, \"status\": \"Completed\", \"run_type\": \"azureml.scriptrun\", \"training_percent\": \"100\", \"start_time\": \"2021-01-09T15:55:57.918282Z\", \"end_time\": \"2021-01-09T15:56:46.175482Z\", \"created_time\": \"2021-01-09T15:55:46.725971Z\", \"created_time_dt\": \"2021-01-09T15:55:46.725971Z\", \"duration\": \"0:00:59\", \"iteration\": \"26\", \"goal\": \"AUC_weighted_max\", \"run_name\": \"MinMaxScaler, RandomForest\", \"run_properties\": \"copy=True, feature_range=(0, 1\", \"primary_metric\": 0.90619999, \"best_metric\": 0.90789102}, {\"run_id\": \"AutoML_c2ada1fe-bf94-48d0-802e-fcb1cc580787_27\", \"run_number\": 32, \"metric\": null, \"status\": \"Completed\", \"run_type\": \"azureml.scriptrun\", \"training_percent\": \"100\", \"start_time\": \"2021-01-09T15:56:24.884779Z\", \"end_time\": \"2021-01-09T15:57:04.041447Z\", \"created_time\": \"2021-01-09T15:56:14.065041Z\", \"created_time_dt\": \"2021-01-09T15:56:14.065041Z\", \"duration\": \"0:00:49\", \"iteration\": \"27\", \"goal\": \"AUC_weighted_max\", \"run_name\": \"MinMaxScaler, LightGBM\", \"run_properties\": \"copy=True, feature_range=(0, 1\", \"primary_metric\": 0.89916644, \"best_metric\": 0.90789102}, {\"run_id\": \"AutoML_c2ada1fe-bf94-48d0-802e-fcb1cc580787_28\", \"run_number\": 33, \"metric\": null, \"status\": \"Completed\", \"run_type\": \"azureml.scriptrun\", \"training_percent\": \"100\", \"start_time\": \"2021-01-09T15:57:00.437835Z\", \"end_time\": \"2021-01-09T15:57:40.638739Z\", \"created_time\": \"2021-01-09T15:56:49.059074Z\", \"created_time_dt\": \"2021-01-09T15:56:49.059074Z\", \"duration\": \"0:00:51\", \"iteration\": \"28\", \"goal\": \"AUC_weighted_max\", \"run_name\": \"StandardScalerWrapper, LightGBM\", \"run_properties\": \"<azureml.automl.runtime.shared.model_wrappers.StandardScalerWrapper object at 0x7f9995ae57f0\", \"primary_metric\": 0.90436439, \"best_metric\": 0.90789102}, {\"run_id\": \"AutoML_c2ada1fe-bf94-48d0-802e-fcb1cc580787_29\", \"run_number\": 34, \"metric\": null, \"status\": \"Completed\", \"run_type\": \"azureml.scriptrun\", \"training_percent\": \"100\", \"start_time\": \"2021-01-09T15:57:16.64438Z\", \"end_time\": \"2021-01-09T15:58:01.140664Z\", \"created_time\": \"2021-01-09T15:57:06.674011Z\", \"created_time_dt\": \"2021-01-09T15:57:06.674011Z\", \"duration\": \"0:00:54\", \"iteration\": \"29\", \"goal\": \"AUC_weighted_max\", \"run_name\": \"MaxAbsScaler, GradientBoosting\", \"run_properties\": \"copy=True\", \"primary_metric\": 0.90776747, \"best_metric\": 0.90789102}, {\"run_id\": \"AutoML_c2ada1fe-bf94-48d0-802e-fcb1cc580787_30\", \"run_number\": 35, \"metric\": null, \"status\": \"Completed\", \"run_type\": \"azureml.scriptrun\", \"training_percent\": \"100\", \"start_time\": \"2021-01-09T15:57:57.395677Z\", \"end_time\": \"2021-01-09T15:58:43.025126Z\", \"created_time\": \"2021-01-09T15:57:44.396414Z\", \"created_time_dt\": \"2021-01-09T15:57:44.396414Z\", \"duration\": \"0:00:58\", \"iteration\": \"30\", \"goal\": \"AUC_weighted_max\", \"run_name\": \"RobustScaler, RandomForest\", \"run_properties\": \"copy=True, quantile_range=[10, 90], with_centering=True,\\n             with_scaling=False\", \"primary_metric\": 0.89174865, \"best_metric\": 0.90789102}, {\"run_id\": \"AutoML_c2ada1fe-bf94-48d0-802e-fcb1cc580787_31\", \"run_number\": 36, \"metric\": null, \"status\": \"Canceled\", \"run_type\": \"azureml.scriptrun\", \"training_percent\": \"100\", \"start_time\": \"2021-01-09T15:58:14.477673Z\", \"end_time\": \"2021-01-09T15:58:51.107063Z\", \"created_time\": \"2021-01-09T15:58:03.812888Z\", \"created_time_dt\": \"2021-01-09T15:58:03.812888Z\", \"duration\": \"0:00:47\", \"iteration\": \"31\", \"goal\": \"AUC_weighted_max\", \"run_name\": \"RobustScaler, LightGBM\", \"run_properties\": \"copy=True, quantile_range=[25, 75], with_centering=False,\\n             with_scaling=True\", \"primary_metric\": 0.90247596, \"best_metric\": 0.90789102}, {\"run_id\": \"AutoML_c2ada1fe-bf94-48d0-802e-fcb1cc580787_33\", \"run_number\": 37, \"metric\": null, \"status\": \"Completed\", \"run_type\": \"azureml.scriptrun\", \"training_percent\": \"100\", \"start_time\": \"2021-01-09T15:59:03.971113Z\", \"end_time\": \"2021-01-09T16:00:44.702395Z\", \"created_time\": \"2021-01-09T15:58:53.248031Z\", \"created_time_dt\": \"2021-01-09T15:58:53.248031Z\", \"duration\": \"0:01:51\", \"iteration\": \"33\", \"goal\": \"AUC_weighted_max\", \"run_name\": \"StackEnsemble\", \"run_properties\": \"base_learners=[('12',\\n                                        Pipeline(memory=None,\\n                                                 steps=[('standardscalerwrapper',\\n                                                         <azureml.automl.runtime.shared.model_wrappers.StandardScalerWrapper object at 0x7f4dfc502400>\", \"primary_metric\": 0.91027186, \"best_metric\": 0.91778401}, {\"run_id\": \"AutoML_c2ada1fe-bf94-48d0-802e-fcb1cc580787_32\", \"run_number\": 38, \"metric\": null, \"status\": \"Completed\", \"run_type\": \"azureml.scriptrun\", \"training_percent\": \"100\", \"start_time\": \"2021-01-09T15:59:03.60421Z\", \"end_time\": \"2021-01-09T16:00:43.344301Z\", \"created_time\": \"2021-01-09T15:58:53.259618Z\", \"created_time_dt\": \"2021-01-09T15:58:53.259618Z\", \"duration\": \"0:01:50\", \"iteration\": \"32\", \"goal\": \"AUC_weighted_max\", \"run_name\": \"VotingEnsemble\", \"run_properties\": \"classification_labels=None,\\n                              estimators=[('12',\\n                                           Pipeline(memory=None,\\n                                                    steps=[('standardscalerwrapper',\\n                                                            <azureml.automl.runtime.shared.model_wrappers.StandardScalerWrapper object at 0x7f8568171da0>\", \"primary_metric\": 0.91778401, \"best_metric\": 0.91778401}], \"children_metrics\": {\"categories\": [0], \"series\": {\"accuracy\": [{\"categories\": [\"0\", \"1\", \"2\", \"3\", \"4\", \"5\", \"6\", \"7\", \"8\", \"9\", \"10\", \"11\", \"12\", \"13\", \"14\", \"15\", \"16\", \"17\", \"18\", \"19\", \"20\", \"21\", \"22\", \"23\", \"24\", \"25\", \"26\", \"27\", \"28\", \"29\", \"30\", \"31\", \"32\", \"33\"], \"mode\": \"markers\", \"name\": \"accuracy\", \"stepped\": false, \"type\": \"scatter\", \"data\": [0.8359770114942527, 0.8358620689655172, 0.8493103448275863, 0.7994252873563219, 0.8293103448275861, 0.8324137931034482, 0.8260919540229885, 0.8462068965517242, 0.7995402298850575, 0.7659770114942528, 0.7727586206896551, 0.8260919540229885, 0.829080459770115, 0.8258620689655173, 0.8191954022988506, 0.6389655172413793, 0.7862068965517242, 0.8026436781609195, 0.8124137931034483, 0.8459770114942529, 0.8425287356321839, 0.8124137931034483, 0.842528735632184, 0.835977011494253, 0.7860919540229884, 0.698735632183908, 0.8257471264367817, 0.8558620689655173, 0.8493103448275863, 0.8527586206896552, 0.8493103448275863, 0.8459770114942529, 0.8528735632183908, 0.7760919540229885]}, {\"categories\": [\"0\", \"1\", \"2\", \"3\", \"4\", \"5\", \"6\", \"7\", \"8\", \"9\", \"10\", \"11\", \"12\", \"13\", \"14\", \"15\", \"16\", \"17\", \"18\", \"19\", \"20\", \"21\", \"22\", \"23\", \"24\", \"25\", \"26\", \"27\", \"28\", \"29\", \"30\", \"31\", \"32\", \"33\"], \"mode\": \"lines\", \"name\": \"accuracy_max\", \"stepped\": true, \"type\": \"scatter\", \"data\": [0.8359770114942527, 0.8359770114942527, 0.8493103448275863, 0.8493103448275863, 0.8493103448275863, 0.8493103448275863, 0.8493103448275863, 0.8493103448275863, 0.8493103448275863, 0.8493103448275863, 0.8493103448275863, 0.8493103448275863, 0.8493103448275863, 0.8493103448275863, 0.8493103448275863, 0.8493103448275863, 0.8493103448275863, 0.8493103448275863, 0.8493103448275863, 0.8493103448275863, 0.8493103448275863, 0.8493103448275863, 0.8493103448275863, 0.8493103448275863, 0.8493103448275863, 0.8493103448275863, 0.8493103448275863, 0.8558620689655173, 0.8558620689655173, 0.8558620689655173, 0.8558620689655173, 0.8558620689655173, 0.8558620689655173, 0.8558620689655173]}], \"recall_score_macro\": [{\"categories\": [\"0\", \"1\", \"2\", \"3\", \"4\", \"5\", \"6\", \"7\", \"8\", \"9\", \"10\", \"11\", \"12\", \"13\", \"14\", \"15\", \"16\", \"17\", \"18\", \"19\", \"20\", \"21\", \"22\", \"23\", \"24\", \"25\", \"26\", \"27\", \"28\", \"29\", \"30\", \"31\", \"32\", \"33\"], \"mode\": \"markers\", \"name\": \"recall_score_macro\", \"stepped\": false, \"type\": \"scatter\", \"data\": [0.8077082895810014, 0.8130249020938379, 0.8208666589893706, 0.7221950272585285, 0.8132443968121885, 0.7833648866071635, 0.7937103372726944, 0.8048901932036943, 0.7192816073451085, 0.6780357113964093, 0.6710973807212366, 0.745974820532887, 0.8332308051089516, 0.7933053417469893, 0.7978956044591057, 0.5513534193685796, 0.6902764297106402, 0.7768176159271697, 0.8097057746474222, 0.8143370774597891, 0.8051251271294178, 0.8006066851086875, 0.8240490504918423, 0.817390595642598, 0.6843540546029105, 0.674417757172906, 0.8226191309961333, 0.8289380561912025, 0.8209433725123084, 0.8290624201313561, 0.8092150802731467, 0.807938173001674, 0.8299217588602599, 0.6971079687856003]}, {\"categories\": [\"0\", \"1\", \"2\", \"3\", \"4\", \"5\", \"6\", \"7\", \"8\", \"9\", \"10\", \"11\", \"12\", \"13\", \"14\", \"15\", \"16\", \"17\", \"18\", \"19\", \"20\", \"21\", \"22\", \"23\", \"24\", \"25\", \"26\", \"27\", \"28\", \"29\", \"30\", \"31\", \"32\", \"33\"], \"mode\": \"lines\", \"name\": \"recall_score_macro_max\", \"stepped\": true, \"type\": \"scatter\", \"data\": [0.8077082895810014, 0.8130249020938379, 0.8208666589893706, 0.8208666589893706, 0.8208666589893706, 0.8208666589893706, 0.8208666589893706, 0.8208666589893706, 0.8208666589893706, 0.8208666589893706, 0.8208666589893706, 0.8208666589893706, 0.8332308051089516, 0.8332308051089516, 0.8332308051089516, 0.8332308051089516, 0.8332308051089516, 0.8332308051089516, 0.8332308051089516, 0.8332308051089516, 0.8332308051089516, 0.8332308051089516, 0.8332308051089516, 0.8332308051089516, 0.8332308051089516, 0.8332308051089516, 0.8332308051089516, 0.8332308051089516, 0.8332308051089516, 0.8332308051089516, 0.8332308051089516, 0.8332308051089516, 0.8332308051089516, 0.8332308051089516]}], \"weighted_accuracy\": [{\"categories\": [\"0\", \"1\", \"2\", \"3\", \"4\", \"5\", \"6\", \"7\", \"8\", \"9\", \"10\", \"11\", \"12\", \"13\", \"14\", \"15\", \"16\", \"17\", \"18\", \"19\", \"20\", \"21\", \"22\", \"23\", \"24\", \"25\", \"26\", \"27\", \"28\", \"29\", \"30\", \"31\", \"32\", \"33\"], \"mode\": \"markers\", \"name\": \"weighted_accuracy\", \"stepped\": false, \"type\": \"scatter\", \"data\": [0.8541321922200625, 0.8502962163535492, 0.8669490882098966, 0.850714480607808, 0.8399340133280966, 0.8641299031919324, 0.8480792921463951, 0.8729998416763152, 0.8517538248923424, 0.8227930918585225, 0.839075606942035, 0.8749160319363259, 0.8253049654542602, 0.8466057819414303, 0.8313782221741025, 0.6980167624045801, 0.8487559540871983, 0.8168087846417362, 0.8133260366156586, 0.8663413826199623, 0.8664654566560449, 0.8182714098197612, 0.8541588979304086, 0.8475305661528653, 0.8486916214081333, 0.719089950249187, 0.8272819599755842, 0.8734552353586752, 0.8673945124493319, 0.8674715007512063, 0.8752202473332839, 0.8693194594039753, 0.8672616130622612, 0.8278041068667571]}, {\"categories\": [\"0\", \"1\", \"2\", \"3\", \"4\", \"5\", \"6\", \"7\", \"8\", \"9\", \"10\", \"11\", \"12\", \"13\", \"14\", \"15\", \"16\", \"17\", \"18\", \"19\", \"20\", \"21\", \"22\", \"23\", \"24\", \"25\", \"26\", \"27\", \"28\", \"29\", \"30\", \"31\", \"32\", \"33\"], \"mode\": \"lines\", \"name\": \"weighted_accuracy_max\", \"stepped\": true, \"type\": \"scatter\", \"data\": [0.8541321922200625, 0.8541321922200625, 0.8669490882098966, 0.8669490882098966, 0.8669490882098966, 0.8669490882098966, 0.8669490882098966, 0.8729998416763152, 0.8729998416763152, 0.8729998416763152, 0.8729998416763152, 0.8749160319363259, 0.8749160319363259, 0.8749160319363259, 0.8749160319363259, 0.8749160319363259, 0.8749160319363259, 0.8749160319363259, 0.8749160319363259, 0.8749160319363259, 0.8749160319363259, 0.8749160319363259, 0.8749160319363259, 0.8749160319363259, 0.8749160319363259, 0.8749160319363259, 0.8749160319363259, 0.8749160319363259, 0.8749160319363259, 0.8749160319363259, 0.8752202473332839, 0.8752202473332839, 0.8752202473332839, 0.8752202473332839]}], \"precision_score_weighted\": [{\"categories\": [\"0\", \"1\", \"2\", \"3\", \"4\", \"5\", \"6\", \"7\", \"8\", \"9\", \"10\", \"11\", \"12\", \"13\", \"14\", \"15\", \"16\", \"17\", \"18\", \"19\", \"20\", \"21\", \"22\", \"23\", \"24\", \"25\", \"26\", \"27\", \"28\", \"29\", \"30\", \"31\", \"32\", \"33\"], \"mode\": \"markers\", \"name\": \"precision_score_weighted\", \"stepped\": false, \"type\": \"scatter\", \"data\": [0.8443308716969533, 0.8506678986628277, 0.8588426404660201, 0.8241481822774925, 0.8478701091373505, 0.8353819975108344, 0.8422768447457747, 0.857133165358625, 0.8237330527441722, 0.7837569262377359, 0.7948058371811245, 0.8471701642657414, 0.856059760331665, 0.8455365714699041, 0.8308116708525057, 0.6261394969463244, 0.8281645657024967, 0.8139550355192551, 0.8400180856256766, 0.8575007112244745, 0.84965161074054, 0.8327862669201945, 0.8597898808532243, 0.8514915336539157, 0.8229786783246553, 0.7152493846039574, 0.8471554695330242, 0.8675207004362177, 0.8626772368869335, 0.8643169070226792, 0.8592282684415368, 0.8633987657937565, 0.8667205960511808, 0.7166805670424861]}, {\"categories\": [\"0\", \"1\", \"2\", \"3\", \"4\", \"5\", \"6\", \"7\", \"8\", \"9\", \"10\", \"11\", \"12\", \"13\", \"14\", \"15\", \"16\", \"17\", \"18\", \"19\", \"20\", \"21\", \"22\", \"23\", \"24\", \"25\", \"26\", \"27\", \"28\", \"29\", \"30\", \"31\", \"32\", \"33\"], \"mode\": \"lines\", \"name\": \"precision_score_weighted_max\", \"stepped\": true, \"type\": \"scatter\", \"data\": [0.8443308716969533, 0.8506678986628277, 0.8588426404660201, 0.8588426404660201, 0.8588426404660201, 0.8588426404660201, 0.8588426404660201, 0.8588426404660201, 0.8588426404660201, 0.8588426404660201, 0.8588426404660201, 0.8588426404660201, 0.8588426404660201, 0.8588426404660201, 0.8588426404660201, 0.8588426404660201, 0.8588426404660201, 0.8588426404660201, 0.8588426404660201, 0.8588426404660201, 0.8588426404660201, 0.8588426404660201, 0.8597898808532243, 0.8597898808532243, 0.8597898808532243, 0.8597898808532243, 0.8597898808532243, 0.8675207004362177, 0.8675207004362177, 0.8675207004362177, 0.8675207004362177, 0.8675207004362177, 0.8675207004362177, 0.8675207004362177]}], \"average_precision_score_macro\": [{\"categories\": [\"0\", \"1\", \"2\", \"3\", \"4\", \"5\", \"6\", \"7\", \"8\", \"9\", \"10\", \"11\", \"12\", \"13\", \"14\", \"15\", \"16\", \"17\", \"18\", \"19\", \"20\", \"21\", \"22\", \"23\", \"24\", \"25\", \"26\", \"27\", \"28\", \"29\", \"30\", \"31\", \"32\", \"33\"], \"mode\": \"markers\", \"name\": \"average_precision_score_macro\", \"stepped\": false, \"type\": \"scatter\", \"data\": [0.8807888197525153, 0.8807340475847678, 0.8834550357772087, 0.87438309672018, 0.8801621132483997, 0.8796085063655916, 0.8903633489949577, 0.8727836860316529, 0.871920225745981, 0.7610796181270093, 0.8638993726222092, 0.8773521178154047, 0.8908819292721052, 0.8548984644483572, 0.8774692651617746, 0.5793782772753733, 0.8772541753614755, 0.8174652382920982, 0.8873965740817518, 0.88294953870567, 0.8785239377765125, 0.847098696409622, 0.8822172471841722, 0.8884899863396478, 0.8671023639082318, 0.7160965673432047, 0.899741622488429, 0.891238874528044, 0.8990016774039853, 0.9057547789267375, 0.8828526930032957, 0.8972729902798482, 0.9098499816071971, 0.9017392983386975]}, {\"categories\": [\"0\", \"1\", \"2\", \"3\", \"4\", \"5\", \"6\", \"7\", \"8\", \"9\", \"10\", \"11\", \"12\", \"13\", \"14\", \"15\", \"16\", \"17\", \"18\", \"19\", \"20\", \"21\", \"22\", \"23\", \"24\", \"25\", \"26\", \"27\", \"28\", \"29\", \"30\", \"31\", \"32\", \"33\"], \"mode\": \"lines\", \"name\": \"average_precision_score_macro_max\", \"stepped\": true, \"type\": \"scatter\", \"data\": [0.8807888197525153, 0.8807888197525153, 0.8834550357772087, 0.8834550357772087, 0.8834550357772087, 0.8834550357772087, 0.8903633489949577, 0.8903633489949577, 0.8903633489949577, 0.8903633489949577, 0.8903633489949577, 0.8903633489949577, 0.8908819292721052, 0.8908819292721052, 0.8908819292721052, 0.8908819292721052, 0.8908819292721052, 0.8908819292721052, 0.8908819292721052, 0.8908819292721052, 0.8908819292721052, 0.8908819292721052, 0.8908819292721052, 0.8908819292721052, 0.8908819292721052, 0.8908819292721052, 0.899741622488429, 0.899741622488429, 0.899741622488429, 0.9057547789267375, 0.9057547789267375, 0.9057547789267375, 0.9098499816071971, 0.9098499816071971]}], \"average_precision_score_weighted\": [{\"categories\": [\"0\", \"1\", \"2\", \"3\", \"4\", \"5\", \"6\", \"7\", \"8\", \"9\", \"10\", \"11\", \"12\", \"13\", \"14\", \"15\", \"16\", \"17\", \"18\", \"19\", \"20\", \"21\", \"22\", \"23\", \"24\", \"25\", \"26\", \"27\", \"28\", \"29\", \"30\", \"31\", \"32\", \"33\"], \"mode\": \"markers\", \"name\": \"average_precision_score_weighted\", \"stepped\": false, \"type\": \"scatter\", \"data\": [0.9061112830231934, 0.907154018724502, 0.9090077072739309, 0.900195053707726, 0.9129945410250911, 0.9093627799500134, 0.9148504693031864, 0.8966459069121953, 0.8967339778670947, 0.7960613547349917, 0.8920559490949959, 0.9035385390610106, 0.9176202670130842, 0.8903633049932436, 0.9071852602291791, 0.6358285919365991, 0.9053894844462869, 0.8562918119043156, 0.9140235325564541, 0.9083415973457256, 0.9088820322680137, 0.873453236763368, 0.9095082484361299, 0.9128653957345649, 0.8991624353381736, 0.7758523481625936, 0.9224769665764526, 0.9150607863099189, 0.9224133805996548, 0.9271575779878478, 0.9044336914402911, 0.9199318197222255, 0.9307134537355628, 0.9248239192706841]}, {\"categories\": [\"0\", \"1\", \"2\", \"3\", \"4\", \"5\", \"6\", \"7\", \"8\", \"9\", \"10\", \"11\", \"12\", \"13\", \"14\", \"15\", \"16\", \"17\", \"18\", \"19\", \"20\", \"21\", \"22\", \"23\", \"24\", \"25\", \"26\", \"27\", \"28\", \"29\", \"30\", \"31\", \"32\", \"33\"], \"mode\": \"lines\", \"name\": \"average_precision_score_weighted_max\", \"stepped\": true, \"type\": \"scatter\", \"data\": [0.9061112830231934, 0.907154018724502, 0.9090077072739309, 0.9090077072739309, 0.9129945410250911, 0.9129945410250911, 0.9148504693031864, 0.9148504693031864, 0.9148504693031864, 0.9148504693031864, 0.9148504693031864, 0.9148504693031864, 0.9176202670130842, 0.9176202670130842, 0.9176202670130842, 0.9176202670130842, 0.9176202670130842, 0.9176202670130842, 0.9176202670130842, 0.9176202670130842, 0.9176202670130842, 0.9176202670130842, 0.9176202670130842, 0.9176202670130842, 0.9176202670130842, 0.9176202670130842, 0.9224769665764526, 0.9224769665764526, 0.9224769665764526, 0.9271575779878478, 0.9271575779878478, 0.9271575779878478, 0.9307134537355628, 0.9307134537355628]}], \"balanced_accuracy\": [{\"categories\": [\"0\", \"1\", \"2\", \"3\", \"4\", \"5\", \"6\", \"7\", \"8\", \"9\", \"10\", \"11\", \"12\", \"13\", \"14\", \"15\", \"16\", \"17\", \"18\", \"19\", \"20\", \"21\", \"22\", \"23\", \"24\", \"25\", \"26\", \"27\", \"28\", \"29\", \"30\", \"31\", \"32\", \"33\"], \"mode\": \"markers\", \"name\": \"balanced_accuracy\", \"stepped\": false, \"type\": \"scatter\", \"data\": [0.8077082895810014, 0.8130249020938379, 0.8208666589893706, 0.7221950272585285, 0.8132443968121885, 0.7833648866071635, 0.7937103372726944, 0.8048901932036943, 0.7192816073451085, 0.6780357113964093, 0.6710973807212366, 0.745974820532887, 0.8332308051089516, 0.7933053417469893, 0.7978956044591057, 0.5513534193685796, 0.6902764297106402, 0.7768176159271697, 0.8097057746474222, 0.8143370774597891, 0.8051251271294178, 0.8006066851086875, 0.8240490504918423, 0.817390595642598, 0.6843540546029105, 0.674417757172906, 0.8226191309961333, 0.8289380561912025, 0.8209433725123084, 0.8290624201313561, 0.8092150802731467, 0.807938173001674, 0.8299217588602599, 0.6971079687856003]}, {\"categories\": [\"0\", \"1\", \"2\", \"3\", \"4\", \"5\", \"6\", \"7\", \"8\", \"9\", \"10\", \"11\", \"12\", \"13\", \"14\", \"15\", \"16\", \"17\", \"18\", \"19\", \"20\", \"21\", \"22\", \"23\", \"24\", \"25\", \"26\", \"27\", \"28\", \"29\", \"30\", \"31\", \"32\", \"33\"], \"mode\": \"lines\", \"name\": \"balanced_accuracy_max\", \"stepped\": true, \"type\": \"scatter\", \"data\": [0.8077082895810014, 0.8130249020938379, 0.8208666589893706, 0.8208666589893706, 0.8208666589893706, 0.8208666589893706, 0.8208666589893706, 0.8208666589893706, 0.8208666589893706, 0.8208666589893706, 0.8208666589893706, 0.8208666589893706, 0.8332308051089516, 0.8332308051089516, 0.8332308051089516, 0.8332308051089516, 0.8332308051089516, 0.8332308051089516, 0.8332308051089516, 0.8332308051089516, 0.8332308051089516, 0.8332308051089516, 0.8332308051089516, 0.8332308051089516, 0.8332308051089516, 0.8332308051089516, 0.8332308051089516, 0.8332308051089516, 0.8332308051089516, 0.8332308051089516, 0.8332308051089516, 0.8332308051089516, 0.8332308051089516, 0.8332308051089516]}], \"AUC_macro\": [{\"categories\": [\"0\", \"1\", \"2\", \"3\", \"4\", \"5\", \"6\", \"7\", \"8\", \"9\", \"10\", \"11\", \"12\", \"13\", \"14\", \"15\", \"16\", \"17\", \"18\", \"19\", \"20\", \"21\", \"22\", \"23\", \"24\", \"25\", \"26\", \"27\", \"28\", \"29\", \"30\", \"31\", \"32\", \"33\"], \"mode\": \"markers\", \"name\": \"AUC_macro\", \"stepped\": false, \"type\": \"scatter\", \"data\": [0.8840955354735103, 0.8847369443591411, 0.8963292397385647, 0.8772570585719898, 0.8979297602812476, 0.8875374298999583, 0.8960312843758496, 0.8843153312849538, 0.8717907557651264, 0.7496161006793443, 0.8700814777666608, 0.8863620813121956, 0.907891020893252, 0.8666180014154843, 0.8909877664076749, 0.5203053263648802, 0.8857107536077787, 0.8312278288496824, 0.8956953144004058, 0.8926710928479522, 0.8907248702289319, 0.8472341016958295, 0.8854046768491276, 0.8960073314324457, 0.871246677161723, 0.7696210381988128, 0.9061999940287698, 0.8991664393746774, 0.9043643887936795, 0.9077674671967578, 0.8917486503368653, 0.9024759589465539, 0.9177840079172459, 0.9102718647464071]}, {\"categories\": [\"0\", \"1\", \"2\", \"3\", \"4\", \"5\", \"6\", \"7\", \"8\", \"9\", \"10\", \"11\", \"12\", \"13\", \"14\", \"15\", \"16\", \"17\", \"18\", \"19\", \"20\", \"21\", \"22\", \"23\", \"24\", \"25\", \"26\", \"27\", \"28\", \"29\", \"30\", \"31\", \"32\", \"33\"], \"mode\": \"lines\", \"name\": \"AUC_macro_max\", \"stepped\": true, \"type\": \"scatter\", \"data\": [0.8840955354735103, 0.8847369443591411, 0.8963292397385647, 0.8963292397385647, 0.8979297602812476, 0.8979297602812476, 0.8979297602812476, 0.8979297602812476, 0.8979297602812476, 0.8979297602812476, 0.8979297602812476, 0.8979297602812476, 0.907891020893252, 0.907891020893252, 0.907891020893252, 0.907891020893252, 0.907891020893252, 0.907891020893252, 0.907891020893252, 0.907891020893252, 0.907891020893252, 0.907891020893252, 0.907891020893252, 0.907891020893252, 0.907891020893252, 0.907891020893252, 0.907891020893252, 0.907891020893252, 0.907891020893252, 0.907891020893252, 0.907891020893252, 0.907891020893252, 0.9177840079172459, 0.9177840079172459]}], \"f1_score_micro\": [{\"categories\": [\"0\", \"1\", \"2\", \"3\", \"4\", \"5\", \"6\", \"7\", \"8\", \"9\", \"10\", \"11\", \"12\", \"13\", \"14\", \"15\", \"16\", \"17\", \"18\", \"19\", \"20\", \"21\", \"22\", \"23\", \"24\", \"25\", \"26\", \"27\", \"28\", \"29\", \"30\", \"31\", \"32\", \"33\"], \"mode\": \"markers\", \"name\": \"f1_score_micro\", \"stepped\": false, \"type\": \"scatter\", \"data\": [0.8359770114942527, 0.8358620689655172, 0.8493103448275863, 0.7994252873563219, 0.8293103448275863, 0.8324137931034482, 0.8260919540229885, 0.8462068965517242, 0.7995402298850575, 0.7659770114942528, 0.7727586206896551, 0.8260919540229885, 0.829080459770115, 0.8258620689655173, 0.8191954022988506, 0.6389655172413793, 0.7862068965517242, 0.8026436781609195, 0.8124137931034483, 0.8459770114942529, 0.8425287356321839, 0.8124137931034483, 0.842528735632184, 0.835977011494253, 0.7860919540229884, 0.698735632183908, 0.8257471264367817, 0.8558620689655173, 0.8493103448275863, 0.8527586206896552, 0.8493103448275863, 0.8459770114942529, 0.852873563218391, 0.7760919540229885]}, {\"categories\": [\"0\", \"1\", \"2\", \"3\", \"4\", \"5\", \"6\", \"7\", \"8\", \"9\", \"10\", \"11\", \"12\", \"13\", \"14\", \"15\", \"16\", \"17\", \"18\", \"19\", \"20\", \"21\", \"22\", \"23\", \"24\", \"25\", \"26\", \"27\", \"28\", \"29\", \"30\", \"31\", \"32\", \"33\"], \"mode\": \"lines\", \"name\": \"f1_score_micro_max\", \"stepped\": true, \"type\": \"scatter\", \"data\": [0.8359770114942527, 0.8359770114942527, 0.8493103448275863, 0.8493103448275863, 0.8493103448275863, 0.8493103448275863, 0.8493103448275863, 0.8493103448275863, 0.8493103448275863, 0.8493103448275863, 0.8493103448275863, 0.8493103448275863, 0.8493103448275863, 0.8493103448275863, 0.8493103448275863, 0.8493103448275863, 0.8493103448275863, 0.8493103448275863, 0.8493103448275863, 0.8493103448275863, 0.8493103448275863, 0.8493103448275863, 0.8493103448275863, 0.8493103448275863, 0.8493103448275863, 0.8493103448275863, 0.8493103448275863, 0.8558620689655173, 0.8558620689655173, 0.8558620689655173, 0.8558620689655173, 0.8558620689655173, 0.8558620689655173, 0.8558620689655173]}], \"norm_macro_recall\": [{\"categories\": [\"0\", \"1\", \"2\", \"3\", \"4\", \"5\", \"6\", \"7\", \"8\", \"9\", \"10\", \"11\", \"12\", \"13\", \"14\", \"15\", \"16\", \"17\", \"18\", \"19\", \"20\", \"21\", \"22\", \"23\", \"24\", \"25\", \"26\", \"27\", \"28\", \"29\", \"30\", \"31\", \"32\", \"33\"], \"mode\": \"markers\", \"name\": \"norm_macro_recall\", \"stepped\": false, \"type\": \"scatter\", \"data\": [0.6154165791620023, 0.626049804187676, 0.6417333179787412, 0.44439005451705677, 0.626488793624377, 0.566729773214327, 0.5874206745453885, 0.6097803864073887, 0.438563214690217, 0.3560714227928186, 0.34219476144247307, 0.49194964106577377, 0.6664616102179032, 0.5866106834939787, 0.5957912089182112, 0.1267612930547713, 0.3805528594212805, 0.5536352318543394, 0.6194115492948447, 0.6286741549195781, 0.6102502542588354, 0.6012133702173749, 0.6480981009836846, 0.6347811912851957, 0.3687081092058208, 0.34883551434581184, 0.6452382619922666, 0.6578761123824053, 0.6418867450246168, 0.658124840262712, 0.6184301605462933, 0.6158763460033482, 0.65984351772052, 0.39421593757120077]}, {\"categories\": [\"0\", \"1\", \"2\", \"3\", \"4\", \"5\", \"6\", \"7\", \"8\", \"9\", \"10\", \"11\", \"12\", \"13\", \"14\", \"15\", \"16\", \"17\", \"18\", \"19\", \"20\", \"21\", \"22\", \"23\", \"24\", \"25\", \"26\", \"27\", \"28\", \"29\", \"30\", \"31\", \"32\", \"33\"], \"mode\": \"lines\", \"name\": \"norm_macro_recall_max\", \"stepped\": true, \"type\": \"scatter\", \"data\": [0.6154165791620023, 0.626049804187676, 0.6417333179787412, 0.6417333179787412, 0.6417333179787412, 0.6417333179787412, 0.6417333179787412, 0.6417333179787412, 0.6417333179787412, 0.6417333179787412, 0.6417333179787412, 0.6417333179787412, 0.6664616102179032, 0.6664616102179032, 0.6664616102179032, 0.6664616102179032, 0.6664616102179032, 0.6664616102179032, 0.6664616102179032, 0.6664616102179032, 0.6664616102179032, 0.6664616102179032, 0.6664616102179032, 0.6664616102179032, 0.6664616102179032, 0.6664616102179032, 0.6664616102179032, 0.6664616102179032, 0.6664616102179032, 0.6664616102179032, 0.6664616102179032, 0.6664616102179032, 0.6664616102179032, 0.6664616102179032]}], \"precision_score_micro\": [{\"categories\": [\"0\", \"1\", \"2\", \"3\", \"4\", \"5\", \"6\", \"7\", \"8\", \"9\", \"10\", \"11\", \"12\", \"13\", \"14\", \"15\", \"16\", \"17\", \"18\", \"19\", \"20\", \"21\", \"22\", \"23\", \"24\", \"25\", \"26\", \"27\", \"28\", \"29\", \"30\", \"31\", \"32\", \"33\"], \"mode\": \"markers\", \"name\": \"precision_score_micro\", \"stepped\": false, \"type\": \"scatter\", \"data\": [0.8359770114942527, 0.8358620689655172, 0.8493103448275863, 0.7994252873563219, 0.8293103448275861, 0.8324137931034482, 0.8260919540229885, 0.8462068965517242, 0.7995402298850575, 0.7659770114942528, 0.7727586206896551, 0.8260919540229885, 0.829080459770115, 0.8258620689655173, 0.8191954022988506, 0.6389655172413793, 0.7862068965517242, 0.8026436781609195, 0.8124137931034483, 0.8459770114942529, 0.8425287356321839, 0.8124137931034483, 0.842528735632184, 0.835977011494253, 0.7860919540229884, 0.698735632183908, 0.8257471264367817, 0.8558620689655173, 0.8493103448275863, 0.8527586206896552, 0.8493103448275863, 0.8459770114942529, 0.8528735632183908, 0.7760919540229885]}, {\"categories\": [\"0\", \"1\", \"2\", \"3\", \"4\", \"5\", \"6\", \"7\", \"8\", \"9\", \"10\", \"11\", \"12\", \"13\", \"14\", \"15\", \"16\", \"17\", \"18\", \"19\", \"20\", \"21\", \"22\", \"23\", \"24\", \"25\", \"26\", \"27\", \"28\", \"29\", \"30\", \"31\", \"32\", \"33\"], \"mode\": \"lines\", \"name\": \"precision_score_micro_max\", \"stepped\": true, \"type\": \"scatter\", \"data\": [0.8359770114942527, 0.8359770114942527, 0.8493103448275863, 0.8493103448275863, 0.8493103448275863, 0.8493103448275863, 0.8493103448275863, 0.8493103448275863, 0.8493103448275863, 0.8493103448275863, 0.8493103448275863, 0.8493103448275863, 0.8493103448275863, 0.8493103448275863, 0.8493103448275863, 0.8493103448275863, 0.8493103448275863, 0.8493103448275863, 0.8493103448275863, 0.8493103448275863, 0.8493103448275863, 0.8493103448275863, 0.8493103448275863, 0.8493103448275863, 0.8493103448275863, 0.8493103448275863, 0.8493103448275863, 0.8558620689655173, 0.8558620689655173, 0.8558620689655173, 0.8558620689655173, 0.8558620689655173, 0.8558620689655173, 0.8558620689655173]}], \"matthews_correlation\": [{\"categories\": [\"0\", \"1\", \"2\", \"3\", \"4\", \"5\", \"6\", \"7\", \"8\", \"9\", \"10\", \"11\", \"12\", \"13\", \"14\", \"15\", \"16\", \"17\", \"18\", \"19\", \"20\", \"21\", \"22\", \"23\", \"24\", \"25\", \"26\", \"27\", \"28\", \"29\", \"30\", \"31\", \"32\", \"33\"], \"mode\": \"markers\", \"name\": \"matthews_correlation\", \"stepped\": false, \"type\": \"scatter\", \"data\": [0.6231314496952846, 0.6345538749068885, 0.6523770765069445, 0.527319132736388, 0.6150226088801137, 0.5981721852780228, 0.6027272854462783, 0.6419839898425888, 0.5325441891347484, 0.4352854456898543, 0.4533088603944009, 0.58883931874724, 0.6346839556412163, 0.6078636154279606, 0.5807385200217855, 0.10426477830980234, 0.504592223974316, 0.552818696851697, 0.5941657141013719, 0.646988587139857, 0.6266478177038828, 0.5832447375834495, 0.6444825411103121, 0.6290474917321546, 0.4930251663474037, 0.342973308115491, 0.6168727516913868, 0.6705158268002641, 0.6627569915939044, 0.663015445772287, 0.6460602625834247, 0.6463963864221716, 0.6668249142688998, 0.4326334324663274]}, {\"categories\": [\"0\", \"1\", \"2\", \"3\", \"4\", \"5\", \"6\", \"7\", \"8\", \"9\", \"10\", \"11\", \"12\", \"13\", \"14\", \"15\", \"16\", \"17\", \"18\", \"19\", \"20\", \"21\", \"22\", \"23\", \"24\", \"25\", \"26\", \"27\", \"28\", \"29\", \"30\", \"31\", \"32\", \"33\"], \"mode\": \"lines\", \"name\": \"matthews_correlation_max\", \"stepped\": true, \"type\": \"scatter\", \"data\": [0.6231314496952846, 0.6345538749068885, 0.6523770765069445, 0.6523770765069445, 0.6523770765069445, 0.6523770765069445, 0.6523770765069445, 0.6523770765069445, 0.6523770765069445, 0.6523770765069445, 0.6523770765069445, 0.6523770765069445, 0.6523770765069445, 0.6523770765069445, 0.6523770765069445, 0.6523770765069445, 0.6523770765069445, 0.6523770765069445, 0.6523770765069445, 0.6523770765069445, 0.6523770765069445, 0.6523770765069445, 0.6523770765069445, 0.6523770765069445, 0.6523770765069445, 0.6523770765069445, 0.6523770765069445, 0.6705158268002641, 0.6705158268002641, 0.6705158268002641, 0.6705158268002641, 0.6705158268002641, 0.6705158268002641, 0.6705158268002641]}], \"AUC_micro\": [{\"categories\": [\"0\", \"1\", \"2\", \"3\", \"4\", \"5\", \"6\", \"7\", \"8\", \"9\", \"10\", \"11\", \"12\", \"13\", \"14\", \"15\", \"16\", \"17\", \"18\", \"19\", \"20\", \"21\", \"22\", \"23\", \"24\", \"25\", \"26\", \"27\", \"28\", \"29\", \"30\", \"31\", \"32\", \"33\"], \"mode\": \"markers\", \"name\": \"AUC_micro\", \"stepped\": false, \"type\": \"scatter\", \"data\": [0.9035422116527941, 0.9042166732725592, 0.9074291187739464, 0.8810412207689259, 0.9072304135288677, 0.9035753732329237, 0.906516845025763, 0.8982049147839873, 0.8737352358303605, 0.8096416963931828, 0.8635480248381556, 0.8961991015986259, 0.9014877790989564, 0.8837118509710662, 0.8931387237415773, 0.6464215880565465, 0.8698871713568502, 0.8506689126701017, 0.900612498348527, 0.9007410490157222, 0.9049184832870921, 0.8662108600871978, 0.9031874752279034, 0.9100334258158277, 0.8738637864975558, 0.7915658607477869, 0.911228431761131, 0.9141035803937113, 0.9156981107147576, 0.9181015986259743, 0.8837469943189324, 0.9083979389615537, 0.9236337693222353, 0.8861971198308891]}, {\"categories\": [\"0\", \"1\", \"2\", \"3\", \"4\", \"5\", \"6\", \"7\", \"8\", \"9\", \"10\", \"11\", \"12\", \"13\", \"14\", \"15\", \"16\", \"17\", \"18\", \"19\", \"20\", \"21\", \"22\", \"23\", \"24\", \"25\", \"26\", \"27\", \"28\", \"29\", \"30\", \"31\", \"32\", \"33\"], \"mode\": \"lines\", \"name\": \"AUC_micro_max\", \"stepped\": true, \"type\": \"scatter\", \"data\": [0.9035422116527941, 0.9042166732725592, 0.9074291187739464, 0.9074291187739464, 0.9074291187739464, 0.9074291187739464, 0.9074291187739464, 0.9074291187739464, 0.9074291187739464, 0.9074291187739464, 0.9074291187739464, 0.9074291187739464, 0.9074291187739464, 0.9074291187739464, 0.9074291187739464, 0.9074291187739464, 0.9074291187739464, 0.9074291187739464, 0.9074291187739464, 0.9074291187739464, 0.9074291187739464, 0.9074291187739464, 0.9074291187739464, 0.9100334258158277, 0.9100334258158277, 0.9100334258158277, 0.911228431761131, 0.9141035803937113, 0.9156981107147576, 0.9181015986259743, 0.9181015986259743, 0.9181015986259743, 0.9236337693222353, 0.9236337693222353]}], \"f1_score_weighted\": [{\"categories\": [\"0\", \"1\", \"2\", \"3\", \"4\", \"5\", \"6\", \"7\", \"8\", \"9\", \"10\", \"11\", \"12\", \"13\", \"14\", \"15\", \"16\", \"17\", \"18\", \"19\", \"20\", \"21\", \"22\", \"23\", \"24\", \"25\", \"26\", \"27\", \"28\", \"29\", \"30\", \"31\", \"32\", \"33\"], \"mode\": \"markers\", \"name\": \"f1_score_weighted\", \"stepped\": false, \"type\": \"scatter\", \"data\": [0.8333388901455894, 0.8342588560383983, 0.8471322992784465, 0.7801659531686745, 0.8300518053245884, 0.8222716212713405, 0.8214510036856462, 0.8411387246493028, 0.7791644081578051, 0.743922190318357, 0.7394469658696137, 0.8110375032332326, 0.8337454280577571, 0.8230318617675783, 0.8214341617480532, 0.6071892452709331, 0.7552110364525599, 0.8020744922814396, 0.8169117840652322, 0.8423687340762982, 0.8377431468409853, 0.8133682646643253, 0.8429730612333206, 0.8356125525311364, 0.7563026505826744, 0.6849031358277279, 0.8301828375277353, 0.8543345906525722, 0.8452347862926761, 0.8507658720681223, 0.8439663225676011, 0.8399639284192582, 0.8500937279345925, 0.7281356751060071]}, {\"categories\": [\"0\", \"1\", \"2\", \"3\", \"4\", \"5\", \"6\", \"7\", \"8\", \"9\", \"10\", \"11\", \"12\", \"13\", \"14\", \"15\", \"16\", \"17\", \"18\", \"19\", \"20\", \"21\", \"22\", \"23\", \"24\", \"25\", \"26\", \"27\", \"28\", \"29\", \"30\", \"31\", \"32\", \"33\"], \"mode\": \"lines\", \"name\": \"f1_score_weighted_max\", \"stepped\": true, \"type\": \"scatter\", \"data\": [0.8333388901455894, 0.8342588560383983, 0.8471322992784465, 0.8471322992784465, 0.8471322992784465, 0.8471322992784465, 0.8471322992784465, 0.8471322992784465, 0.8471322992784465, 0.8471322992784465, 0.8471322992784465, 0.8471322992784465, 0.8471322992784465, 0.8471322992784465, 0.8471322992784465, 0.8471322992784465, 0.8471322992784465, 0.8471322992784465, 0.8471322992784465, 0.8471322992784465, 0.8471322992784465, 0.8471322992784465, 0.8471322992784465, 0.8471322992784465, 0.8471322992784465, 0.8471322992784465, 0.8471322992784465, 0.8543345906525722, 0.8543345906525722, 0.8543345906525722, 0.8543345906525722, 0.8543345906525722, 0.8543345906525722, 0.8543345906525722]}], \"log_loss\": [{\"categories\": [\"0\", \"1\", \"2\", \"3\", \"4\", \"5\", \"6\", \"7\", \"8\", \"9\", \"10\", \"11\", \"12\", \"13\", \"14\", \"15\", \"16\", \"17\", \"18\", \"19\", \"20\", \"21\", \"22\", \"23\", \"24\", \"25\", \"26\", \"27\", \"28\", \"29\", \"30\", \"31\", \"32\", \"33\"], \"mode\": \"markers\", \"name\": \"log_loss\", \"stepped\": false, \"type\": \"scatter\", \"data\": [0.4772179826627182, 0.41764279466886123, 0.37414535195161586, 0.4593535377539447, 0.38340560467790497, 0.3980586825474128, 0.47890992496955126, 0.4097271746973016, 0.4674991286989375, 1.2837639362986895, 0.47462363557239307, 0.4354176118263564, 0.42123108732081144, 0.4191413430354919, 0.4509832479101905, 0.7617709563916407, 0.47489803586349677, 0.6354918122612598, 0.5258360843069724, 0.48001321655997786, 0.38159004326263457, 0.5142416742574725, 0.4701261859090963, 0.40876612702428583, 0.4640878516000558, 0.552491945343403, 0.464197723203322, 0.36093765320777554, 0.3569219247087082, 0.35840177682891217, 0.4814322569473221, 0.4184445861440155, 0.3697273495185291, 0.4617352132765024]}, {\"categories\": [\"0\", \"1\", \"2\", \"3\", \"4\", \"5\", \"6\", \"7\", \"8\", \"9\", \"10\", \"11\", \"12\", \"13\", \"14\", \"15\", \"16\", \"17\", \"18\", \"19\", \"20\", \"21\", \"22\", \"23\", \"24\", \"25\", \"26\", \"27\", \"28\", \"29\", \"30\", \"31\", \"32\", \"33\"], \"mode\": \"lines\", \"name\": \"log_loss_min\", \"stepped\": true, \"type\": \"scatter\", \"data\": [0.4772179826627182, 0.41764279466886123, 0.37414535195161586, 0.37414535195161586, 0.37414535195161586, 0.37414535195161586, 0.37414535195161586, 0.37414535195161586, 0.37414535195161586, 0.37414535195161586, 0.37414535195161586, 0.37414535195161586, 0.37414535195161586, 0.37414535195161586, 0.37414535195161586, 0.37414535195161586, 0.37414535195161586, 0.37414535195161586, 0.37414535195161586, 0.37414535195161586, 0.37414535195161586, 0.37414535195161586, 0.37414535195161586, 0.37414535195161586, 0.37414535195161586, 0.37414535195161586, 0.37414535195161586, 0.36093765320777554, 0.3569219247087082, 0.3569219247087082, 0.3569219247087082, 0.3569219247087082, 0.3569219247087082, 0.3569219247087082]}], \"recall_score_micro\": [{\"categories\": [\"0\", \"1\", \"2\", \"3\", \"4\", \"5\", \"6\", \"7\", \"8\", \"9\", \"10\", \"11\", \"12\", \"13\", \"14\", \"15\", \"16\", \"17\", \"18\", \"19\", \"20\", \"21\", \"22\", \"23\", \"24\", \"25\", \"26\", \"27\", \"28\", \"29\", \"30\", \"31\", \"32\", \"33\"], \"mode\": \"markers\", \"name\": \"recall_score_micro\", \"stepped\": false, \"type\": \"scatter\", \"data\": [0.8359770114942527, 0.8358620689655172, 0.8493103448275863, 0.7994252873563219, 0.8293103448275861, 0.8324137931034482, 0.8260919540229885, 0.8462068965517242, 0.7995402298850575, 0.7659770114942528, 0.7727586206896551, 0.8260919540229885, 0.829080459770115, 0.8258620689655173, 0.8191954022988506, 0.6389655172413793, 0.7862068965517242, 0.8026436781609195, 0.8124137931034483, 0.8459770114942529, 0.8425287356321839, 0.8124137931034483, 0.842528735632184, 0.835977011494253, 0.7860919540229884, 0.698735632183908, 0.8257471264367817, 0.8558620689655173, 0.8493103448275863, 0.8527586206896552, 0.8493103448275863, 0.8459770114942529, 0.8528735632183908, 0.7760919540229885]}, {\"categories\": [\"0\", \"1\", \"2\", \"3\", \"4\", \"5\", \"6\", \"7\", \"8\", \"9\", \"10\", \"11\", \"12\", \"13\", \"14\", \"15\", \"16\", \"17\", \"18\", \"19\", \"20\", \"21\", \"22\", \"23\", \"24\", \"25\", \"26\", \"27\", \"28\", \"29\", \"30\", \"31\", \"32\", \"33\"], \"mode\": \"lines\", \"name\": \"recall_score_micro_max\", \"stepped\": true, \"type\": \"scatter\", \"data\": [0.8359770114942527, 0.8359770114942527, 0.8493103448275863, 0.8493103448275863, 0.8493103448275863, 0.8493103448275863, 0.8493103448275863, 0.8493103448275863, 0.8493103448275863, 0.8493103448275863, 0.8493103448275863, 0.8493103448275863, 0.8493103448275863, 0.8493103448275863, 0.8493103448275863, 0.8493103448275863, 0.8493103448275863, 0.8493103448275863, 0.8493103448275863, 0.8493103448275863, 0.8493103448275863, 0.8493103448275863, 0.8493103448275863, 0.8493103448275863, 0.8493103448275863, 0.8493103448275863, 0.8493103448275863, 0.8558620689655173, 0.8558620689655173, 0.8558620689655173, 0.8558620689655173, 0.8558620689655173, 0.8558620689655173, 0.8558620689655173]}], \"precision_score_macro\": [{\"categories\": [\"0\", \"1\", \"2\", \"3\", \"4\", \"5\", \"6\", \"7\", \"8\", \"9\", \"10\", \"11\", \"12\", \"13\", \"14\", \"15\", \"16\", \"17\", \"18\", \"19\", \"20\", \"21\", \"22\", \"23\", \"24\", \"25\", \"26\", \"27\", \"28\", \"29\", \"30\", \"31\", \"32\", \"33\"], \"mode\": \"markers\", \"name\": \"precision_score_macro\", \"stepped\": false, \"type\": \"scatter\", \"data\": [0.8167365852764965, 0.8232986049897815, 0.8323343332569676, 0.8178384393384392, 0.8036282467532467, 0.8170480152316536, 0.8121473768413127, 0.8418976173838875, 0.8274095670834802, 0.7703082497212932, 0.8048276353276353, 0.8600696907762126, 0.8031455183421297, 0.8167164613609122, 0.7836382375570019, 0.5543597592139792, 0.8435111925111926, 0.7763313628535058, 0.7861750369831034, 0.8340552732291864, 0.8230202210070632, 0.7837015304526915, 0.8218215148378192, 0.8129201421624697, 0.8425080066804206, 0.6522877353535922, 0.7957240990321652, 0.8437283549783551, 0.8441179788526336, 0.8354564354727397, 0.8389070048309177, 0.8418600319827941, 0.838872380638685, 0.6844718060353071]}, {\"categories\": [\"0\", \"1\", \"2\", \"3\", \"4\", \"5\", \"6\", \"7\", \"8\", \"9\", \"10\", \"11\", \"12\", \"13\", \"14\", \"15\", \"16\", \"17\", \"18\", \"19\", \"20\", \"21\", \"22\", \"23\", \"24\", \"25\", \"26\", \"27\", \"28\", \"29\", \"30\", \"31\", \"32\", \"33\"], \"mode\": \"lines\", \"name\": \"precision_score_macro_max\", \"stepped\": true, \"type\": \"scatter\", \"data\": [0.8167365852764965, 0.8232986049897815, 0.8323343332569676, 0.8323343332569676, 0.8323343332569676, 0.8323343332569676, 0.8323343332569676, 0.8418976173838875, 0.8418976173838875, 0.8418976173838875, 0.8418976173838875, 0.8600696907762126, 0.8600696907762126, 0.8600696907762126, 0.8600696907762126, 0.8600696907762126, 0.8600696907762126, 0.8600696907762126, 0.8600696907762126, 0.8600696907762126, 0.8600696907762126, 0.8600696907762126, 0.8600696907762126, 0.8600696907762126, 0.8600696907762126, 0.8600696907762126, 0.8600696907762126, 0.8600696907762126, 0.8600696907762126, 0.8600696907762126, 0.8600696907762126, 0.8600696907762126, 0.8600696907762126, 0.8600696907762126]}], \"f1_score_macro\": [{\"categories\": [\"0\", \"1\", \"2\", \"3\", \"4\", \"5\", \"6\", \"7\", \"8\", \"9\", \"10\", \"11\", \"12\", \"13\", \"14\", \"15\", \"16\", \"17\", \"18\", \"19\", \"20\", \"21\", \"22\", \"23\", \"24\", \"25\", \"26\", \"27\", \"28\", \"29\", \"30\", \"31\", \"32\", \"33\"], \"mode\": \"markers\", \"name\": \"f1_score_macro\", \"stepped\": false, \"type\": \"scatter\", \"data\": [0.8043314151248963, 0.8078501228997539, 0.8192402248077635, 0.7310506044383971, 0.7980396450805906, 0.7867087620154977, 0.7883553811034885, 0.809424888875608, 0.7319584179054577, 0.6844538166645457, 0.6784096301084656, 0.7648655942758875, 0.807051382876191, 0.7906306111951619, 0.7861564367580687, 0.5251633085767229, 0.6986548022038545, 0.769932040288498, 0.786500457875458, 0.8142843879199096, 0.8045753687970411, 0.78170361548666, 0.8135234577104515, 0.8058700097962397, 0.6936535716854779, 0.6369570726643683, 0.8009033198203456, 0.8273007888863775, 0.8202664410375939, 0.8232498794514511, 0.8125508017586867, 0.8088143262720665, 0.8232769505350765, 0.6708430358379605]}, {\"categories\": [\"0\", \"1\", \"2\", \"3\", \"4\", \"5\", \"6\", \"7\", \"8\", \"9\", \"10\", \"11\", \"12\", \"13\", \"14\", \"15\", \"16\", \"17\", \"18\", \"19\", \"20\", \"21\", \"22\", \"23\", \"24\", \"25\", \"26\", \"27\", \"28\", \"29\", \"30\", \"31\", \"32\", \"33\"], \"mode\": \"lines\", \"name\": \"f1_score_macro_max\", \"stepped\": true, \"type\": \"scatter\", \"data\": [0.8043314151248963, 0.8078501228997539, 0.8192402248077635, 0.8192402248077635, 0.8192402248077635, 0.8192402248077635, 0.8192402248077635, 0.8192402248077635, 0.8192402248077635, 0.8192402248077635, 0.8192402248077635, 0.8192402248077635, 0.8192402248077635, 0.8192402248077635, 0.8192402248077635, 0.8192402248077635, 0.8192402248077635, 0.8192402248077635, 0.8192402248077635, 0.8192402248077635, 0.8192402248077635, 0.8192402248077635, 0.8192402248077635, 0.8192402248077635, 0.8192402248077635, 0.8192402248077635, 0.8192402248077635, 0.8273007888863775, 0.8273007888863775, 0.8273007888863775, 0.8273007888863775, 0.8273007888863775, 0.8273007888863775, 0.8273007888863775]}], \"average_precision_score_micro\": [{\"categories\": [\"0\", \"1\", \"2\", \"3\", \"4\", \"5\", \"6\", \"7\", \"8\", \"9\", \"10\", \"11\", \"12\", \"13\", \"14\", \"15\", \"16\", \"17\", \"18\", \"19\", \"20\", \"21\", \"22\", \"23\", \"24\", \"25\", \"26\", \"27\", \"28\", \"29\", \"30\", \"31\", \"32\", \"33\"], \"mode\": \"markers\", \"name\": \"average_precision_score_micro\", \"stepped\": false, \"type\": \"scatter\", \"data\": [0.9020054536251629, 0.9033793522124445, 0.9098683663973652, 0.8825039873046917, 0.9118943506141102, 0.9093670512224378, 0.9081856127282923, 0.8955889955853114, 0.8762419002348734, 0.7964089391804331, 0.8713710987076679, 0.897074146418538, 0.8933697932497434, 0.8880132101347048, 0.8935757147634167, 0.6466874753087125, 0.8809743382400235, 0.8475960515167831, 0.9004655318946526, 0.9018748387824994, 0.9080735572876273, 0.8623187930814492, 0.9057811481963887, 0.9070689477688301, 0.8821753864044453, 0.7828742164237338, 0.9107270061343012, 0.9147545414218705, 0.9188886316010068, 0.9223652411337218, 0.8721638480791093, 0.9102663809713614, 0.925548366658607, 0.8962366879461605]}, {\"categories\": [\"0\", \"1\", \"2\", \"3\", \"4\", \"5\", \"6\", \"7\", \"8\", \"9\", \"10\", \"11\", \"12\", \"13\", \"14\", \"15\", \"16\", \"17\", \"18\", \"19\", \"20\", \"21\", \"22\", \"23\", \"24\", \"25\", \"26\", \"27\", \"28\", \"29\", \"30\", \"31\", \"32\", \"33\"], \"mode\": \"lines\", \"name\": \"average_precision_score_micro_max\", \"stepped\": true, \"type\": \"scatter\", \"data\": [0.9020054536251629, 0.9033793522124445, 0.9098683663973652, 0.9098683663973652, 0.9118943506141102, 0.9118943506141102, 0.9118943506141102, 0.9118943506141102, 0.9118943506141102, 0.9118943506141102, 0.9118943506141102, 0.9118943506141102, 0.9118943506141102, 0.9118943506141102, 0.9118943506141102, 0.9118943506141102, 0.9118943506141102, 0.9118943506141102, 0.9118943506141102, 0.9118943506141102, 0.9118943506141102, 0.9118943506141102, 0.9118943506141102, 0.9118943506141102, 0.9118943506141102, 0.9118943506141102, 0.9118943506141102, 0.9147545414218705, 0.9188886316010068, 0.9223652411337218, 0.9223652411337218, 0.9223652411337218, 0.925548366658607, 0.925548366658607]}], \"recall_score_weighted\": [{\"categories\": [\"0\", \"1\", \"2\", \"3\", \"4\", \"5\", \"6\", \"7\", \"8\", \"9\", \"10\", \"11\", \"12\", \"13\", \"14\", \"15\", \"16\", \"17\", \"18\", \"19\", \"20\", \"21\", \"22\", \"23\", \"24\", \"25\", \"26\", \"27\", \"28\", \"29\", \"30\", \"31\", \"32\", \"33\"], \"mode\": \"markers\", \"name\": \"recall_score_weighted\", \"stepped\": false, \"type\": \"scatter\", \"data\": [0.8359770114942527, 0.8358620689655172, 0.8493103448275863, 0.7994252873563219, 0.8293103448275861, 0.8324137931034482, 0.8260919540229885, 0.8462068965517242, 0.7995402298850575, 0.7659770114942528, 0.7727586206896551, 0.8260919540229885, 0.829080459770115, 0.8258620689655173, 0.8191954022988506, 0.6389655172413793, 0.7862068965517242, 0.8026436781609195, 0.8124137931034483, 0.8459770114942529, 0.8425287356321839, 0.8124137931034483, 0.842528735632184, 0.835977011494253, 0.7860919540229884, 0.698735632183908, 0.8257471264367817, 0.8558620689655173, 0.8493103448275863, 0.8527586206896552, 0.8493103448275863, 0.8459770114942529, 0.8528735632183908, 0.7760919540229885]}, {\"categories\": [\"0\", \"1\", \"2\", \"3\", \"4\", \"5\", \"6\", \"7\", \"8\", \"9\", \"10\", \"11\", \"12\", \"13\", \"14\", \"15\", \"16\", \"17\", \"18\", \"19\", \"20\", \"21\", \"22\", \"23\", \"24\", \"25\", \"26\", \"27\", \"28\", \"29\", \"30\", \"31\", \"32\", \"33\"], \"mode\": \"lines\", \"name\": \"recall_score_weighted_max\", \"stepped\": true, \"type\": \"scatter\", \"data\": [0.8359770114942527, 0.8359770114942527, 0.8493103448275863, 0.8493103448275863, 0.8493103448275863, 0.8493103448275863, 0.8493103448275863, 0.8493103448275863, 0.8493103448275863, 0.8493103448275863, 0.8493103448275863, 0.8493103448275863, 0.8493103448275863, 0.8493103448275863, 0.8493103448275863, 0.8493103448275863, 0.8493103448275863, 0.8493103448275863, 0.8493103448275863, 0.8493103448275863, 0.8493103448275863, 0.8493103448275863, 0.8493103448275863, 0.8493103448275863, 0.8493103448275863, 0.8493103448275863, 0.8493103448275863, 0.8558620689655173, 0.8558620689655173, 0.8558620689655173, 0.8558620689655173, 0.8558620689655173, 0.8558620689655173, 0.8558620689655173]}], \"AUC_weighted\": [{\"categories\": [\"0\", \"1\", \"2\", \"3\", \"4\", \"5\", \"6\", \"7\", \"8\", \"9\", \"10\", \"11\", \"12\", \"13\", \"14\", \"15\", \"16\", \"17\", \"18\", \"19\", \"20\", \"21\", \"22\", \"23\", \"24\", \"25\", \"26\", \"27\", \"28\", \"29\", \"30\", \"31\", \"32\", \"33\"], \"mode\": \"markers\", \"name\": \"AUC_weighted\", \"stepped\": false, \"type\": \"scatter\", \"data\": [0.8840955354735103, 0.8847369443591411, 0.8963292397385647, 0.8772570585719899, 0.8979297602812476, 0.8875374298999585, 0.8960544325239977, 0.8843153312849538, 0.8717907557651265, 0.7496161006793443, 0.8700814777666608, 0.8863620813121956, 0.907891020893252, 0.8666180014154843, 0.8909877664076749, 0.5203053263648802, 0.8857107536077787, 0.8312278288496824, 0.8956953144004058, 0.8926710928479522, 0.8907248702289319, 0.8472341016958295, 0.8854046768491276, 0.8960073314324457, 0.8712466771617228, 0.7696210381988128, 0.9061999940287698, 0.8991664393746774, 0.9043643887936795, 0.9077674671967578, 0.8917486503368653, 0.9024759589465539, 0.9177840079172459, 0.9102718647464071]}, {\"categories\": [\"0\", \"1\", \"2\", \"3\", \"4\", \"5\", \"6\", \"7\", \"8\", \"9\", \"10\", \"11\", \"12\", \"13\", \"14\", \"15\", \"16\", \"17\", \"18\", \"19\", \"20\", \"21\", \"22\", \"23\", \"24\", \"25\", \"26\", \"27\", \"28\", \"29\", \"30\", \"31\", \"32\", \"33\"], \"mode\": \"lines\", \"name\": \"AUC_weighted_max\", \"stepped\": true, \"type\": \"scatter\", \"data\": [0.8840955354735103, 0.8847369443591411, 0.8963292397385647, 0.8963292397385647, 0.8979297602812476, 0.8979297602812476, 0.8979297602812476, 0.8979297602812476, 0.8979297602812476, 0.8979297602812476, 0.8979297602812476, 0.8979297602812476, 0.907891020893252, 0.907891020893252, 0.907891020893252, 0.907891020893252, 0.907891020893252, 0.907891020893252, 0.907891020893252, 0.907891020893252, 0.907891020893252, 0.907891020893252, 0.907891020893252, 0.907891020893252, 0.907891020893252, 0.907891020893252, 0.907891020893252, 0.907891020893252, 0.907891020893252, 0.907891020893252, 0.907891020893252, 0.907891020893252, 0.9177840079172459, 0.9177840079172459]}]}, \"metricName\": null, \"primaryMetricName\": \"AUC_weighted\", \"showLegend\": false}, \"run_metrics\": [{\"name\": \"experiment_status\", \"run_id\": \"AutoML_c2ada1fe-bf94-48d0-802e-fcb1cc580787\", \"categories\": [0, 1, 2, 3, 4, 5, 6, 7, 8, 9, 10, 11, 12, 13], \"series\": [{\"data\": [\"DatasetEvaluation\", \"FeaturesGeneration\", \"DatasetFeaturization\", \"DatasetFeaturizationCompleted\", \"DatasetCrossValidationSplit\", \"ModelSelection\", \"BestRunExplainModel\", \"ModelExplanationDataSetSetup\", \"PickSurrogateModel\", \"EngineeredFeatureExplanations\", \"EngineeredFeatureExplanations\", \"RawFeaturesExplanations\", \"RawFeaturesExplanations\", \"BestRunExplainModel\"]}]}, {\"name\": \"experiment_status_description\", \"run_id\": \"AutoML_c2ada1fe-bf94-48d0-802e-fcb1cc580787\", \"categories\": [0, 1, 2, 3, 4, 5, 6, 7, 8, 9, 10, 11, 12, 13], \"series\": [{\"data\": [\"Gathering dataset statistics.\", \"Generating features for the dataset.\", \"Beginning to fit featurizers and featurize the dataset.\", \"Completed fit featurizers and featurizing the dataset.\", \"Generating individually featurized CV splits.\", \"Beginning model selection.\", \"Best run model explanations started\", \"Model explanations data setup completed\", \"Choosing LightGBM as the surrogate model for explanations\", \"Computation of engineered features started\", \"Computation of engineered features completed\", \"Computation of raw features started\", \"Computation of raw features completed\", \"Best run model explanations completed\"]}]}, {\"name\": \"average_precision_score_micro\", \"run_id\": \"AutoML_c2ada1fe-bf94-48d0-802e-fcb1cc580787\", \"categories\": [0], \"series\": [{\"data\": [0.925548366658607]}]}, {\"name\": \"f1_score_micro\", \"run_id\": \"AutoML_c2ada1fe-bf94-48d0-802e-fcb1cc580787\", \"categories\": [0], \"series\": [{\"data\": [0.852873563218391]}]}, {\"name\": \"precision_score_macro\", \"run_id\": \"AutoML_c2ada1fe-bf94-48d0-802e-fcb1cc580787\", \"categories\": [0], \"series\": [{\"data\": [0.838872380638685]}]}, {\"name\": \"f1_score_macro\", \"run_id\": \"AutoML_c2ada1fe-bf94-48d0-802e-fcb1cc580787\", \"categories\": [0], \"series\": [{\"data\": [0.8232769505350765]}]}, {\"name\": \"recall_score_macro\", \"run_id\": \"AutoML_c2ada1fe-bf94-48d0-802e-fcb1cc580787\", \"categories\": [0], \"series\": [{\"data\": [0.8299217588602599]}]}, {\"name\": \"recall_score_weighted\", \"run_id\": \"AutoML_c2ada1fe-bf94-48d0-802e-fcb1cc580787\", \"categories\": [0], \"series\": [{\"data\": [0.8528735632183908]}]}, {\"name\": \"accuracy\", \"run_id\": \"AutoML_c2ada1fe-bf94-48d0-802e-fcb1cc580787\", \"categories\": [0], \"series\": [{\"data\": [0.8528735632183908]}]}, {\"name\": \"norm_macro_recall\", \"run_id\": \"AutoML_c2ada1fe-bf94-48d0-802e-fcb1cc580787\", \"categories\": [0], \"series\": [{\"data\": [0.65984351772052]}]}, {\"name\": \"f1_score_weighted\", \"run_id\": \"AutoML_c2ada1fe-bf94-48d0-802e-fcb1cc580787\", \"categories\": [0], \"series\": [{\"data\": [0.8500937279345925]}]}, {\"name\": \"average_precision_score_macro\", \"run_id\": \"AutoML_c2ada1fe-bf94-48d0-802e-fcb1cc580787\", \"categories\": [0], \"series\": [{\"data\": [0.9098499816071971]}]}, {\"name\": \"log_loss\", \"run_id\": \"AutoML_c2ada1fe-bf94-48d0-802e-fcb1cc580787\", \"categories\": [0], \"series\": [{\"data\": [0.3697273495185291]}]}, {\"name\": \"matthews_correlation\", \"run_id\": \"AutoML_c2ada1fe-bf94-48d0-802e-fcb1cc580787\", \"categories\": [0], \"series\": [{\"data\": [0.6668249142688998]}]}, {\"name\": \"precision_score_micro\", \"run_id\": \"AutoML_c2ada1fe-bf94-48d0-802e-fcb1cc580787\", \"categories\": [0], \"series\": [{\"data\": [0.8528735632183908]}]}, {\"name\": \"AUC_macro\", \"run_id\": \"AutoML_c2ada1fe-bf94-48d0-802e-fcb1cc580787\", \"categories\": [0], \"series\": [{\"data\": [0.9177840079172459]}]}, {\"name\": \"AUC_weighted\", \"run_id\": \"AutoML_c2ada1fe-bf94-48d0-802e-fcb1cc580787\", \"categories\": [0], \"series\": [{\"data\": [0.9177840079172459]}]}, {\"name\": \"recall_score_micro\", \"run_id\": \"AutoML_c2ada1fe-bf94-48d0-802e-fcb1cc580787\", \"categories\": [0], \"series\": [{\"data\": [0.8528735632183908]}]}, {\"name\": \"precision_score_weighted\", \"run_id\": \"AutoML_c2ada1fe-bf94-48d0-802e-fcb1cc580787\", \"categories\": [0], \"series\": [{\"data\": [0.8667205960511808]}]}, {\"name\": \"balanced_accuracy\", \"run_id\": \"AutoML_c2ada1fe-bf94-48d0-802e-fcb1cc580787\", \"categories\": [0], \"series\": [{\"data\": [0.8299217588602599]}]}, {\"name\": \"weighted_accuracy\", \"run_id\": \"AutoML_c2ada1fe-bf94-48d0-802e-fcb1cc580787\", \"categories\": [0], \"series\": [{\"data\": [0.8672616130622612]}]}, {\"name\": \"AUC_micro\", \"run_id\": \"AutoML_c2ada1fe-bf94-48d0-802e-fcb1cc580787\", \"categories\": [0], \"series\": [{\"data\": [0.9236337693222353]}]}, {\"name\": \"average_precision_score_weighted\", \"run_id\": \"AutoML_c2ada1fe-bf94-48d0-802e-fcb1cc580787\", \"categories\": [0], \"series\": [{\"data\": [0.9307134537355628]}]}], \"run_logs\": \"\\nRun is completed.\", \"graph\": {}, \"widget_settings\": {\"childWidgetDisplay\": \"popup\", \"send_telemetry\": false, \"log_level\": \"INFO\", \"sdk_version\": \"1.19.0\"}, \"loading\": false}"
     },
     "metadata": {}
    }
   ],
   "source": [
    "# show the run details of the experiment\n",
    "from azureml.widgets import RunDetails\n",
    "RunDetails(remote_run).show()"
   ]
  },
  {
   "cell_type": "code",
   "execution_count": 8,
   "metadata": {},
   "outputs": [
    {
     "output_type": "stream",
     "name": "stdout",
     "text": [
      "\n",
      "\n",
      "****************************************************************************************************\n",
      "DATA GUARDRAILS: \n",
      "\n",
      "TYPE:         Cross validation\n",
      "STATUS:       DONE\n",
      "DESCRIPTION:  Each iteration of the trained model was validated through cross-validation.\n",
      "              \n",
      "DETAILS:      \n",
      "+---------------------------------+\n",
      "|Number of folds                  |\n",
      "+=================================+\n",
      "|10                               |\n",
      "+---------------------------------+\n",
      "\n",
      "****************************************************************************************************\n",
      "\n",
      "TYPE:         Class balancing detection\n",
      "STATUS:       PASSED\n",
      "DESCRIPTION:  Your inputs were analyzed, and all classes are balanced in your training data.\n",
      "              Learn more about imbalanced data: https://aka.ms/AutomatedMLImbalancedData\n",
      "\n",
      "****************************************************************************************************\n",
      "\n",
      "TYPE:         Missing feature values imputation\n",
      "STATUS:       PASSED\n",
      "DESCRIPTION:  No feature missing values were detected in the training data.\n",
      "              Learn more about missing value imputation: https://aka.ms/AutomatedMLFeaturization\n",
      "\n",
      "****************************************************************************************************\n",
      "\n",
      "TYPE:         High cardinality feature detection\n",
      "STATUS:       PASSED\n",
      "DESCRIPTION:  Your inputs were analyzed, and no high cardinality features were detected.\n",
      "              Learn more about high cardinality feature handling: https://aka.ms/AutomatedMLFeaturization\n",
      "\n",
      "****************************************************************************************************\n",
      "\n",
      "****************************************************************************************************\n",
      "ITERATION: The iteration being evaluated.\n",
      "PIPELINE: A summary description of the pipeline being evaluated.\n",
      "DURATION: Time taken for the current iteration.\n",
      "METRIC: The result of computing score on the fitted pipeline.\n",
      "BEST: The best observed score thus far.\n",
      "****************************************************************************************************\n",
      "\n",
      " ITERATION   PIPELINE                                       DURATION      METRIC      BEST\n",
      "WARNING:root:Received unrecognized parameter n_cross_validation\n",
      "         0   MaxAbsScaler LightGBM                          0:00:47       0.8841    0.8841\n",
      "         1   MaxAbsScaler XGBoostClassifier                 0:00:36       0.8847    0.8847\n",
      "         2   MinMaxScaler RandomForest                      0:00:50       0.8963    0.8963\n",
      "         3   RobustScaler ExtremeRandomTrees                0:00:51       0.8773    0.8963\n",
      "         4   MinMaxScaler RandomForest                      0:00:47       0.8979    0.8979\n",
      "         5   MinMaxScaler RandomForest                      0:02:39       0.8875    0.8979\n",
      "         6   StandardScalerWrapper RandomForest             0:00:43       0.8961    0.8979\n",
      "         7   MinMaxScaler ExtremeRandomTrees                0:00:39       0.8843    0.8979\n",
      "         8   MinMaxScaler ExtremeRandomTrees                0:00:37       0.8718    0.8979\n",
      "         9   SparseNormalizer KNN                           0:00:43       0.7496    0.8979\n",
      "        10   MinMaxScaler ExtremeRandomTrees                0:00:36       0.8701    0.8979\n",
      "        11   RobustScaler ExtremeRandomTrees                0:00:47       0.8864    0.8979\n",
      "        12   StandardScalerWrapper RandomForest             0:00:42       0.9079    0.9079\n",
      "        13   StandardScalerWrapper SGD                      0:00:34       0.8666    0.9079\n",
      "        14   RobustScaler RandomForest                      0:00:42       0.8910    0.9079\n",
      "        15   StandardScalerWrapper KNN                      0:00:40       0.5203    0.9079\n",
      "        16   MinMaxScaler RandomForest                      0:00:36       0.8857    0.9079\n",
      "        17   MinMaxScaler ExtremeRandomTrees                0:00:40       0.8312    0.9079\n",
      "        18   MaxAbsScaler RandomForest                      0:00:39       0.8957    0.9079\n",
      "        19   StandardScalerWrapper XGBoostClassifier        0:00:40       0.8927    0.9079\n",
      "        20   MaxAbsScaler RandomForest                      0:00:36       0.8907    0.9079\n",
      "        21   MaxAbsScaler ExtremeRandomTrees                0:00:37       0.8472    0.9079\n",
      "        22   MaxAbsScaler ExtremeRandomTrees                0:00:42       0.8854    0.9079\n",
      "        23   MaxAbsScaler ExtremeRandomTrees                0:00:44       0.8960    0.9079\n",
      "        24   StandardScalerWrapper LightGBM                 0:00:39       0.8712    0.9079\n",
      "        25   RobustScaler RandomForest                      0:00:37       0.7696    0.9079\n",
      "        26   MinMaxScaler RandomForest                      0:00:48       0.9062    0.9079\n",
      "        27   MinMaxScaler LightGBM                          0:00:39       0.8992    0.9079\n",
      "        28   StandardScalerWrapper LightGBM                 0:00:40       0.9044    0.9079\n",
      "        29   MaxAbsScaler GradientBoosting                  0:00:44       0.9078    0.9079\n",
      "        30   RobustScaler RandomForest                      0:00:46       0.8917    0.9079\n",
      "        31   RobustScaler LightGBM                          0:00:37       0.9025    0.9079\n",
      "        32    VotingEnsemble                                0:01:40       0.9178    0.9178\n",
      "        33    StackEnsemble                                 0:01:41       0.9103    0.9178\n"
     ]
    },
    {
     "output_type": "execute_result",
     "data": {
      "text/plain": [
       "{'runId': 'AutoML_c2ada1fe-bf94-48d0-802e-fcb1cc580787',\n",
       " 'target': 'cpu-cluster',\n",
       " 'status': 'Completed',\n",
       " 'startTimeUtc': '2021-01-09T15:34:28.28889Z',\n",
       " 'endTimeUtc': '2021-01-09T16:00:54.542083Z',\n",
       " 'properties': {'num_iterations': '1000',\n",
       "  'training_type': 'TrainFull',\n",
       "  'acquisition_function': 'EI',\n",
       "  'primary_metric': 'AUC_weighted',\n",
       "  'train_split': '0',\n",
       "  'acquisition_parameter': '0',\n",
       "  'num_cross_validation': None,\n",
       "  'target': 'cpu-cluster',\n",
       "  'AMLSettingsJsonString': '{\"path\":null,\"name\":\"auto-ml-heart-failure-exp\",\"subscription_id\":\"e36180a3-997b-4765-87a8-36f70eefc1fb\",\"resource_group\":\"rg-ai\",\"workspace_name\":\"ws-airevo\",\"region\":\"westus2\",\"compute_target\":\"cpu-cluster\",\"spark_service\":null,\"azure_service\":\"remote\",\"many_models\":false,\"pipeline_fetch_max_batch_size\":1,\"iterations\":1000,\"primary_metric\":\"AUC_weighted\",\"task_type\":\"classification\",\"data_script\":null,\"validation_size\":0.0,\"n_cross_validations\":null,\"y_min\":null,\"y_max\":null,\"num_classes\":null,\"featurization\":\"auto\",\"_ignore_package_version_incompatibilities\":false,\"is_timeseries\":false,\"max_cores_per_iteration\":1,\"max_concurrent_iterations\":2,\"iteration_timeout_minutes\":null,\"mem_in_mb\":null,\"enforce_time_on_windows\":false,\"experiment_timeout_minutes\":60,\"experiment_exit_score\":null,\"whitelist_models\":null,\"blacklist_algos\":[\"TensorFlowLinearClassifier\",\"TensorFlowDNN\"],\"supported_models\":[\"XGBoostClassifier\",\"TensorFlowLinearClassifier\",\"LightGBM\",\"LogisticRegression\",\"DecisionTree\",\"LinearSVM\",\"RandomForest\",\"SGD\",\"ExtremeRandomTrees\",\"SVM\",\"GradientBoosting\",\"KNN\",\"BernoulliNaiveBayes\",\"MultinomialNaiveBayes\",\"TensorFlowDNN\",\"AveragedPerceptronClassifier\"],\"auto_blacklist\":true,\"blacklist_samples_reached\":false,\"exclude_nan_labels\":true,\"verbosity\":20,\"_debug_log\":\"azureml_automl.log\",\"show_warnings\":false,\"model_explainability\":true,\"service_url\":null,\"sdk_url\":null,\"sdk_packages\":null,\"enable_onnx_compatible_models\":false,\"enable_split_onnx_featurizer_estimator_models\":false,\"vm_type\":\"STANDARD_DS11_V2\",\"telemetry_verbosity\":20,\"send_telemetry\":true,\"enable_dnn\":false,\"scenario\":\"SDK-1.13.0\",\"environment_label\":null,\"force_text_dnn\":false,\"enable_feature_sweeping\":true,\"enable_early_stopping\":true,\"early_stopping_n_iters\":10,\"metrics\":null,\"enable_ensembling\":true,\"enable_stack_ensembling\":true,\"ensemble_iterations\":15,\"enable_tf\":false,\"enable_subsampling\":null,\"subsample_seed\":null,\"enable_nimbusml\":false,\"enable_streaming\":false,\"force_streaming\":false,\"track_child_runs\":true,\"allowed_private_models\":[],\"label_column_name\":\"DEATH_EVENT\",\"weight_column_name\":null,\"cv_split_column_names\":null,\"enable_local_managed\":false,\"_local_managed_run_id\":null,\"cost_mode\":1,\"lag_length\":0,\"metric_operation\":\"maximize\",\"preprocess\":true,\"n_cross_validation\":5}',\n",
       "  'DataPrepJsonString': '{\\\\\"training_data\\\\\": \\\\\"{\\\\\\\\\\\\\"blocks\\\\\\\\\\\\\": [{\\\\\\\\\\\\\"id\\\\\\\\\\\\\": \\\\\\\\\\\\\"fb749920-e179-4402-a759-3a4367853152\\\\\\\\\\\\\", \\\\\\\\\\\\\"type\\\\\\\\\\\\\": \\\\\\\\\\\\\"Microsoft.DPrep.GetFilesBlock\\\\\\\\\\\\\", \\\\\\\\\\\\\"arguments\\\\\\\\\\\\\": {\\\\\\\\\\\\\"isArchive\\\\\\\\\\\\\": false, \\\\\\\\\\\\\"path\\\\\\\\\\\\\": {\\\\\\\\\\\\\"target\\\\\\\\\\\\\": 4, \\\\\\\\\\\\\"resourceDetails\\\\\\\\\\\\\": [{\\\\\\\\\\\\\"path\\\\\\\\\\\\\": \\\\\\\\\\\\\"https://archive.ics.uci.edu/ml/machine-learning-databases/00519/heart_failure_clinical_records_dataset.csv\\\\\\\\\\\\\"}]}}, \\\\\\\\\\\\\"localData\\\\\\\\\\\\\": {}, \\\\\\\\\\\\\"isEnabled\\\\\\\\\\\\\": true, \\\\\\\\\\\\\"name\\\\\\\\\\\\\": null, \\\\\\\\\\\\\"annotation\\\\\\\\\\\\\": null}, {\\\\\\\\\\\\\"id\\\\\\\\\\\\\": \\\\\\\\\\\\\"61fbb5f2-e990-40ca-89c0-63520569b98d\\\\\\\\\\\\\", \\\\\\\\\\\\\"type\\\\\\\\\\\\\": \\\\\\\\\\\\\"Microsoft.DPrep.ParseDelimitedBlock\\\\\\\\\\\\\", \\\\\\\\\\\\\"arguments\\\\\\\\\\\\\": {\\\\\\\\\\\\\"columnHeadersMode\\\\\\\\\\\\\": 3, \\\\\\\\\\\\\"fileEncoding\\\\\\\\\\\\\": 0, \\\\\\\\\\\\\"handleQuotedLineBreaks\\\\\\\\\\\\\": false, \\\\\\\\\\\\\"preview\\\\\\\\\\\\\": false, \\\\\\\\\\\\\"separator\\\\\\\\\\\\\": \\\\\\\\\\\\\",\\\\\\\\\\\\\", \\\\\\\\\\\\\"skipRows\\\\\\\\\\\\\": 0, \\\\\\\\\\\\\"skipRowsMode\\\\\\\\\\\\\": 0}, \\\\\\\\\\\\\"localData\\\\\\\\\\\\\": {}, \\\\\\\\\\\\\"isEnabled\\\\\\\\\\\\\": true, \\\\\\\\\\\\\"name\\\\\\\\\\\\\": null, \\\\\\\\\\\\\"annotation\\\\\\\\\\\\\": null}, {\\\\\\\\\\\\\"id\\\\\\\\\\\\\": \\\\\\\\\\\\\"c20743a6-907f-4bfd-a6b3-882e301d4058\\\\\\\\\\\\\", \\\\\\\\\\\\\"type\\\\\\\\\\\\\": \\\\\\\\\\\\\"Microsoft.DPrep.DropColumnsBlock\\\\\\\\\\\\\", \\\\\\\\\\\\\"arguments\\\\\\\\\\\\\": {\\\\\\\\\\\\\"columns\\\\\\\\\\\\\": {\\\\\\\\\\\\\"type\\\\\\\\\\\\\": 0, \\\\\\\\\\\\\"details\\\\\\\\\\\\\": {\\\\\\\\\\\\\"selectedColumns\\\\\\\\\\\\\": [\\\\\\\\\\\\\"Path\\\\\\\\\\\\\"]}}}, \\\\\\\\\\\\\"localData\\\\\\\\\\\\\": {}, \\\\\\\\\\\\\"isEnabled\\\\\\\\\\\\\": true, \\\\\\\\\\\\\"name\\\\\\\\\\\\\": null, \\\\\\\\\\\\\"annotation\\\\\\\\\\\\\": null}, {\\\\\\\\\\\\\"id\\\\\\\\\\\\\": \\\\\\\\\\\\\"7c323e25-2b3a-422d-8a8e-582d5c048f29\\\\\\\\\\\\\", \\\\\\\\\\\\\"type\\\\\\\\\\\\\": \\\\\\\\\\\\\"Microsoft.DPrep.SetColumnTypesBlock\\\\\\\\\\\\\", \\\\\\\\\\\\\"arguments\\\\\\\\\\\\\": {\\\\\\\\\\\\\"columnConversion\\\\\\\\\\\\\": [{\\\\\\\\\\\\\"column\\\\\\\\\\\\\": {\\\\\\\\\\\\\"type\\\\\\\\\\\\\": 2, \\\\\\\\\\\\\"details\\\\\\\\\\\\\": {\\\\\\\\\\\\\"selectedColumn\\\\\\\\\\\\\": \\\\\\\\\\\\\"age\\\\\\\\\\\\\"}}, \\\\\\\\\\\\\"typeProperty\\\\\\\\\\\\\": 3}, {\\\\\\\\\\\\\"column\\\\\\\\\\\\\": {\\\\\\\\\\\\\"type\\\\\\\\\\\\\": 2, \\\\\\\\\\\\\"details\\\\\\\\\\\\\": {\\\\\\\\\\\\\"selectedColumn\\\\\\\\\\\\\": \\\\\\\\\\\\\"anaemia\\\\\\\\\\\\\"}}, \\\\\\\\\\\\\"typeProperty\\\\\\\\\\\\\": 2}, {\\\\\\\\\\\\\"column\\\\\\\\\\\\\": {\\\\\\\\\\\\\"type\\\\\\\\\\\\\": 2, \\\\\\\\\\\\\"details\\\\\\\\\\\\\": {\\\\\\\\\\\\\"selectedColumn\\\\\\\\\\\\\": \\\\\\\\\\\\\"creatinine_phosphokinase\\\\\\\\\\\\\"}}, \\\\\\\\\\\\\"typeProperty\\\\\\\\\\\\\": 2}, {\\\\\\\\\\\\\"column\\\\\\\\\\\\\": {\\\\\\\\\\\\\"type\\\\\\\\\\\\\": 2, \\\\\\\\\\\\\"details\\\\\\\\\\\\\": {\\\\\\\\\\\\\"selectedColumn\\\\\\\\\\\\\": \\\\\\\\\\\\\"diabetes\\\\\\\\\\\\\"}}, \\\\\\\\\\\\\"typeProperty\\\\\\\\\\\\\": 2}, {\\\\\\\\\\\\\"column\\\\\\\\\\\\\": {\\\\\\\\\\\\\"type\\\\\\\\\\\\\": 2, \\\\\\\\\\\\\"details\\\\\\\\\\\\\": {\\\\\\\\\\\\\"selectedColumn\\\\\\\\\\\\\": \\\\\\\\\\\\\"ejection_fraction\\\\\\\\\\\\\"}}, \\\\\\\\\\\\\"typeProperty\\\\\\\\\\\\\": 2}, {\\\\\\\\\\\\\"column\\\\\\\\\\\\\": {\\\\\\\\\\\\\"type\\\\\\\\\\\\\": 2, \\\\\\\\\\\\\"details\\\\\\\\\\\\\": {\\\\\\\\\\\\\"selectedColumn\\\\\\\\\\\\\": \\\\\\\\\\\\\"high_blood_pressure\\\\\\\\\\\\\"}}, \\\\\\\\\\\\\"typeProperty\\\\\\\\\\\\\": 2}, {\\\\\\\\\\\\\"column\\\\\\\\\\\\\": {\\\\\\\\\\\\\"type\\\\\\\\\\\\\": 2, \\\\\\\\\\\\\"details\\\\\\\\\\\\\": {\\\\\\\\\\\\\"selectedColumn\\\\\\\\\\\\\": \\\\\\\\\\\\\"platelets\\\\\\\\\\\\\"}}, \\\\\\\\\\\\\"typeProperty\\\\\\\\\\\\\": 3}, {\\\\\\\\\\\\\"column\\\\\\\\\\\\\": {\\\\\\\\\\\\\"type\\\\\\\\\\\\\": 2, \\\\\\\\\\\\\"details\\\\\\\\\\\\\": {\\\\\\\\\\\\\"selectedColumn\\\\\\\\\\\\\": \\\\\\\\\\\\\"serum_creatinine\\\\\\\\\\\\\"}}, \\\\\\\\\\\\\"typeProperty\\\\\\\\\\\\\": 3}, {\\\\\\\\\\\\\"column\\\\\\\\\\\\\": {\\\\\\\\\\\\\"type\\\\\\\\\\\\\": 2, \\\\\\\\\\\\\"details\\\\\\\\\\\\\": {\\\\\\\\\\\\\"selectedColumn\\\\\\\\\\\\\": \\\\\\\\\\\\\"serum_sodium\\\\\\\\\\\\\"}}, \\\\\\\\\\\\\"typeProperty\\\\\\\\\\\\\": 2}, {\\\\\\\\\\\\\"column\\\\\\\\\\\\\": {\\\\\\\\\\\\\"type\\\\\\\\\\\\\": 2, \\\\\\\\\\\\\"details\\\\\\\\\\\\\": {\\\\\\\\\\\\\"selectedColumn\\\\\\\\\\\\\": \\\\\\\\\\\\\"sex\\\\\\\\\\\\\"}}, \\\\\\\\\\\\\"typeProperty\\\\\\\\\\\\\": 2}, {\\\\\\\\\\\\\"column\\\\\\\\\\\\\": {\\\\\\\\\\\\\"type\\\\\\\\\\\\\": 2, \\\\\\\\\\\\\"details\\\\\\\\\\\\\": {\\\\\\\\\\\\\"selectedColumn\\\\\\\\\\\\\": \\\\\\\\\\\\\"smoking\\\\\\\\\\\\\"}}, \\\\\\\\\\\\\"typeProperty\\\\\\\\\\\\\": 2}, {\\\\\\\\\\\\\"column\\\\\\\\\\\\\": {\\\\\\\\\\\\\"type\\\\\\\\\\\\\": 2, \\\\\\\\\\\\\"details\\\\\\\\\\\\\": {\\\\\\\\\\\\\"selectedColumn\\\\\\\\\\\\\": \\\\\\\\\\\\\"time\\\\\\\\\\\\\"}}, \\\\\\\\\\\\\"typeProperty\\\\\\\\\\\\\": 2}, {\\\\\\\\\\\\\"column\\\\\\\\\\\\\": {\\\\\\\\\\\\\"type\\\\\\\\\\\\\": 2, \\\\\\\\\\\\\"details\\\\\\\\\\\\\": {\\\\\\\\\\\\\"selectedColumn\\\\\\\\\\\\\": \\\\\\\\\\\\\"DEATH_EVENT\\\\\\\\\\\\\"}}, \\\\\\\\\\\\\"typeProperty\\\\\\\\\\\\\": 2}]}, \\\\\\\\\\\\\"localData\\\\\\\\\\\\\": {}, \\\\\\\\\\\\\"isEnabled\\\\\\\\\\\\\": true, \\\\\\\\\\\\\"name\\\\\\\\\\\\\": null, \\\\\\\\\\\\\"annotation\\\\\\\\\\\\\": null}], \\\\\\\\\\\\\"inspectors\\\\\\\\\\\\\": [], \\\\\\\\\\\\\"meta\\\\\\\\\\\\\": {\\\\\\\\\\\\\"steps_added\\\\\\\\\\\\\": \\\\\\\\\\\\\"4\\\\\\\\\\\\\"}}\\\\\", \\\\\"activities\\\\\": 0}',\n",
       "  'EnableSubsampling': None,\n",
       "  'runTemplate': 'AutoML',\n",
       "  'azureml.runsource': 'automl',\n",
       "  'display_task_type': 'classification',\n",
       "  'dependencies_versions': '{\"azureml-widgets\": \"1.19.0\", \"azureml-train-restclients-hyperdrive\": \"1.19.0\", \"azureml-train-core\": \"1.19.0\", \"azureml-train-automl\": \"1.19.0\", \"azureml-train-automl-runtime\": \"1.19.0\", \"azureml-train-automl-client\": \"1.19.0\", \"azureml-telemetry\": \"1.19.0\", \"azureml-pipeline-steps\": \"1.19.0\", \"azureml-pipeline-core\": \"1.19.0\", \"azureml-model-management-sdk\": \"1.0.1b6.post1\", \"azureml-interpret\": \"1.19.0\", \"azureml-defaults\": \"1.19.0\", \"azureml-dataset-runtime\": \"1.19.0.post1\", \"azureml-dataprep\": \"2.6.1\", \"azureml-dataprep-rslex\": \"1.4.0\", \"azureml-dataprep-native\": \"26.0.0\", \"azureml-core\": \"1.19.0\", \"azureml-automl-runtime\": \"1.19.0\", \"azureml-automl-core\": \"1.19.0\"}',\n",
       "  '_aml_system_scenario_identification': 'Remote.Parent',\n",
       "  'ClientType': 'SDK',\n",
       "  'environment_cpu_name': 'AzureML-AutoML',\n",
       "  'environment_cpu_label': 'prod',\n",
       "  'environment_gpu_name': 'AzureML-AutoML-GPU',\n",
       "  'environment_gpu_label': 'prod',\n",
       "  'root_attribution': 'automl',\n",
       "  'attribution': 'AutoML',\n",
       "  'Orchestrator': 'AutoML',\n",
       "  'CancelUri': 'https://westus2.experiments.azureml.net/jasmine/v1.0/subscriptions/e36180a3-997b-4765-87a8-36f70eefc1fb/resourceGroups/rg-ai/providers/Microsoft.MachineLearningServices/workspaces/ws-airevo/experimentids/8bde1135-ac2b-45f5-bcdb-c5b9a225435b/cancel/AutoML_c2ada1fe-bf94-48d0-802e-fcb1cc580787',\n",
       "  'azureml.git.repository_uri': 'https://github.com/donjude/azureml-engineer-capstone.git',\n",
       "  'mlflow.source.git.repoURL': 'https://github.com/donjude/azureml-engineer-capstone.git',\n",
       "  'azureml.git.branch': 'main',\n",
       "  'mlflow.source.git.branch': 'main',\n",
       "  'azureml.git.commit': 'dd3e3e393f32c03ca1986fd3d99a05f93219a8ba',\n",
       "  'mlflow.source.git.commit': 'dd3e3e393f32c03ca1986fd3d99a05f93219a8ba',\n",
       "  'azureml.git.dirty': 'False',\n",
       "  'ClientSdkVersion': '1.19.0',\n",
       "  'snapshotId': '00000000-0000-0000-0000-000000000000',\n",
       "  'SetupRunId': 'AutoML_c2ada1fe-bf94-48d0-802e-fcb1cc580787_setup',\n",
       "  'SetupRunContainerId': 'dcid.AutoML_c2ada1fe-bf94-48d0-802e-fcb1cc580787_setup',\n",
       "  'FeaturizationRunJsonPath': 'featurizer_container.json',\n",
       "  'FeaturizationRunId': 'AutoML_c2ada1fe-bf94-48d0-802e-fcb1cc580787_featurize',\n",
       "  'ProblemInfoJsonString': '{\"dataset_num_categorical\": 0, \"is_sparse\": false, \"subsampling\": false, \"dataset_classes\": 2, \"dataset_features\": 12, \"dataset_samples\": 299, \"single_frequency_class_detected\": false}',\n",
       "  'ModelExplainRunId': 'AutoML_c2ada1fe-bf94-48d0-802e-fcb1cc580787_ModelExplain'},\n",
       " 'inputDatasets': [],\n",
       " 'outputDatasets': [],\n",
       " 'logFiles': {}}"
      ]
     },
     "metadata": {},
     "execution_count": 8
    }
   ],
   "source": [
    "# return details of the run\n",
    "remote_run.wait_for_completion(show_output=True)"
   ]
  },
  {
   "cell_type": "markdown",
   "metadata": {},
   "source": [
    "## Best Model\n",
    "\n",
    "TODO: In the cell below, get the best model from the automl experiments and display all the properties of the model.\n",
    "\n"
   ]
  },
  {
   "cell_type": "code",
   "execution_count": 9,
   "metadata": {
    "gather": {
     "logged": 1598431425670
    },
    "jupyter": {
     "outputs_hidden": false,
     "source_hidden": false
    },
    "nteract": {
     "transient": {
      "deleting": false
     }
    }
   },
   "outputs": [
    {
     "output_type": "stream",
     "name": "stderr",
     "text": [
      "WARNING:root:Received unrecognized parameter n_cross_validation\n",
      "WARNING:root:Received unrecognized parameter n_cross_validation\n",
      "WARNING:root:Received unrecognized parameter n_cross_validation\n"
     ]
    },
    {
     "output_type": "execute_result",
     "data": {
      "text/plain": [
       "Run(Experiment: auto-ml-heart-failure-exp,\n",
       "Id: AutoML_c2ada1fe-bf94-48d0-802e-fcb1cc580787_32,\n",
       "Type: azureml.scriptrun,\n",
       "Status: Completed)"
      ],
      "text/html": "<table style=\"width:100%\"><tr><th>Experiment</th><th>Id</th><th>Type</th><th>Status</th><th>Details Page</th><th>Docs Page</th></tr><tr><td>auto-ml-heart-failure-exp</td><td>AutoML_c2ada1fe-bf94-48d0-802e-fcb1cc580787_32</td><td>azureml.scriptrun</td><td>Completed</td><td><a href=\"https://ml.azure.com/experiments/auto-ml-heart-failure-exp/runs/AutoML_c2ada1fe-bf94-48d0-802e-fcb1cc580787_32?wsid=/subscriptions/e36180a3-997b-4765-87a8-36f70eefc1fb/resourcegroups/rg-ai/workspaces/ws-airevo\" target=\"_blank\" rel=\"noopener\">Link to Azure Machine Learning studio</a></td><td><a href=\"https://docs.microsoft.com/en-us/python/api/azureml-core/azureml.core.run.Run?view=azure-ml-py\" target=\"_blank\" rel=\"noopener\">Link to Documentation</a></td></tr></table>"
     },
     "metadata": {},
     "execution_count": 9
    }
   ],
   "source": [
    "# get the best model\n",
    "best_run, fitted_model = remote_run.get_output()\n",
    "\n",
    "best_run"
   ]
  },
  {
   "cell_type": "code",
   "execution_count": 36,
   "metadata": {},
   "outputs": [
    {
     "output_type": "execute_result",
     "data": {
      "text/plain": [
       "'AutoML_c2ada1fe-bf94-48d0-802e-fcb1cc580787_32'"
      ]
     },
     "metadata": {},
     "execution_count": 36
    }
   ],
   "source": []
  },
  {
   "cell_type": "code",
   "execution_count": 10,
   "metadata": {},
   "outputs": [
    {
     "output_type": "execute_result",
     "data": {
      "text/plain": [
       "Pipeline(memory=None,\n",
       "         steps=[('datatransformer',\n",
       "                 DataTransformer(enable_dnn=None, enable_feature_sweeping=None,\n",
       "                                 feature_sweeping_config=None,\n",
       "                                 feature_sweeping_timeout=None,\n",
       "                                 featurization_config=None, force_text_dnn=None,\n",
       "                                 is_cross_validation=None,\n",
       "                                 is_onnx_compatible=None, logger=None,\n",
       "                                 observer=None, task=None, working_dir=None)),\n",
       "                ('prefittedsoftvotingclassifier',...\n",
       "                                                                                                random_state=None,\n",
       "                                                                                                reg_alpha=0.0,\n",
       "                                                                                                reg_lambda=0.0,\n",
       "                                                                                                silent=True,\n",
       "                                                                                                subsample=1.0,\n",
       "                                                                                                subsample_for_bin=200000,\n",
       "                                                                                                subsample_freq=0,\n",
       "                                                                                                verbose=-10))],\n",
       "                                                                     verbose=False))],\n",
       "                                               flatten_transform=None,\n",
       "                                               weights=[0.08333333333333333,\n",
       "                                                        0.08333333333333333,\n",
       "                                                        0.08333333333333333,\n",
       "                                                        0.08333333333333333,\n",
       "                                                        0.08333333333333333,\n",
       "                                                        0.08333333333333333,\n",
       "                                                        0.25,\n",
       "                                                        0.16666666666666666,\n",
       "                                                        0.08333333333333333]))],\n",
       "         verbose=False)"
      ]
     },
     "metadata": {},
     "execution_count": 10
    }
   ],
   "source": [
    "# display the properties of the model\n",
    "fitted_model"
   ]
  },
  {
   "cell_type": "code",
   "execution_count": 11,
   "metadata": {},
   "outputs": [],
   "source": [
    "# create inference folder\n",
    "folder_name = 'inference'\n",
    "\n",
    "if folder_name not in os.listdir():\n",
    "    os.mkdir(folder_name)\n",
    "    print(\"The folder\", folder_name, \"has been created\")"
   ]
  },
  {
   "cell_type": "code",
   "execution_count": 12,
   "metadata": {
    "gather": {
     "logged": 1598431426111
    },
    "jupyter": {
     "outputs_hidden": false,
     "source_hidden": false
    },
    "nteract": {
     "transient": {
      "deleting": false
     }
    }
   },
   "outputs": [],
   "source": [
    "# Save the best model, scoring script, and conda env files in inference folder\n",
    "best_run.download_file('outputs/scoring_file_v_1_0_0.py', 'inference/score.py')\n",
    "best_run.download_file('outputs/model.pkl', 'inference/model.pkl')\n",
    "best_run.download_file('outputs/conda_env_v_1_0_0.yml', 'inference/conda_env.yml')"
   ]
  },
  {
   "cell_type": "markdown",
   "metadata": {},
   "source": [
    "## Model Deployment\n",
    "\n",
    "Remember you have to deploy only one of the two models you trained.. Perform the steps in the rest of this notebook only if you wish to deploy this model.\n",
    "\n",
    "TODO: In the cell below, register the model, create an inference config and deploy the model as a web service."
   ]
  },
  {
   "cell_type": "code",
   "execution_count": 56,
   "metadata": {
    "gather": {
     "logged": 1598431435189
    },
    "jupyter": {
     "outputs_hidden": false,
     "source_hidden": false
    },
    "nteract": {
     "transient": {
      "deleting": false
     }
    }
   },
   "outputs": [
    {
     "output_type": "stream",
     "name": "stdout",
     "text": [
      "Registering model AutoMLc2ada1feb32\n",
      "Name: AutoMLc2ada1feb32\n",
      "Version: 4\n"
     ]
    }
   ],
   "source": [
    "# Register the model\n",
    "import sklearn\n",
    "\n",
    "from azureml.core import Model\n",
    "from azureml.core.resource_configuration import ResourceConfiguration\n",
    "\n",
    "model_name = best_run.properties['model_name']\n",
    "\n",
    "run_id = best_run.id\n",
    "experiment_name = best_run.experiment.name\n",
    "\n",
    "model = Model.register(workspace=ws,\n",
    "                       model_name=model_name, # Name of the registered model in your workspace.\n",
    "                       model_path='inference/model.pkl',  # Local file to upload and register as a model.\n",
    "                       model_framework=Model.Framework.SCIKITLEARN,  # Framework used to create the model.\n",
    "                       model_framework_version=sklearn.__version__,  # Version of scikit-learn used to create the model.\n",
    "                       description='Auto ML model to predict motality caused by heart failure.',\n",
    "                       tags={'area': 'heart-failure', 'type': 'classification'})\n",
    "\n",
    "print('Name:', model.name)\n",
    "print('Version:', model.version)"
   ]
  },
  {
   "cell_type": "code",
   "execution_count": 60,
   "metadata": {},
   "outputs": [
    {
     "output_type": "stream",
     "name": "stdout",
     "text": [
      "# Conda environment specification. The dependencies defined in this file will\n# be automatically provisioned for runs with userManagedDependencies=False.\n\n# Details about the Conda environment file format:\n# https://conda.io/docs/user-guide/tasks/manage-environments.html#create-env-file-manually\n\nname: project_environment\ndependencies:\n  # The python interpreter version.\n  # Currently Azure ML only supports 3.5.2 and later.\n- python=3.6.2\n\n- pip:\n  - azureml-train-automl-runtime==1.19.0\n  - inference-schema\n  - azureml-interpret==1.19.0\n  - azureml-defaults==1.19.0\n- numpy>=1.16.0,<1.19.0\n- pandas==0.25.1\n- scikit-learn==0.22.1\n- py-xgboost<=0.90\n- fbprophet==0.5\n- holidays==0.9.11\n- psutil>=5.2.2,<6.0.0\nchannels:\n- anaconda\n- conda-forge\n\n"
     ]
    }
   ],
   "source": [
    "# create inference configuration\n",
    "from azureml.core.environment import Environment\n",
    "from azureml.core.model import InferenceConfig\n",
    "\n",
    "myenv = Environment.from_conda_specification(name=\"myenv\", file_path=\"inference/conda_env.yml\")\n",
    "inference_config = InferenceConfig(entry_script=\"inference/score.py\", environment=myenv)\n",
    "\n",
    "# display the environment file\n",
    "with open('inference/conda_env.yml', 'r') as file:\n",
    "    env_file = file.read()\n",
    "    print(env_file)"
   ]
  },
  {
   "cell_type": "code",
   "execution_count": 27,
   "metadata": {},
   "outputs": [
    {
     "output_type": "stream",
     "name": "stdout",
     "text": [
      "Tips: You can try get_logs(): https://aka.ms/debugimage#dockerlog or local deployment: https://aka.ms/debugimage#debug-locally to debug if deployment takes longer than 10 minutes.\n",
      "Running...............................................\n",
      "Succeeded\n",
      "ACI service creation operation finished, operation \"Succeeded\"\n",
      "Healthy\n"
     ]
    }
   ],
   "source": [
    "# Model Deployment\n",
    "from azureml.core.webservice import AciWebservice\n",
    "\n",
    "# define deployment configuration\n",
    "aci_deployment_config = AciWebservice.deploy_configuration(cpu_cores=1,\n",
    "                                                           memory_gb=1,\n",
    "                                                           tags={'area': \"heart-failure\", 'type': \"classification\"},\n",
    "                                                           description=\"Predict heart failure mortality using classification model\",\n",
    "                                                           enable_app_insights=True)\n",
    "\n",
    "# deploy model as webservice using Azure Container Instance(ACI)\n",
    "aci_service_name = \"aci-heart-failure-deploy\"\n",
    "\n",
    "aci_service = Model.deploy(ws, aci_service_name, [model], inference_config, aci_deployment_config, overwrite=True)\n",
    "aci_service.wait_for_deployment(show_output=True)\n",
    "\n",
    "print(aci_service.state)"
   ]
  },
  {
   "cell_type": "markdown",
   "metadata": {
    "collapsed": true,
    "gather": {
     "logged": 1598431657736
    },
    "jupyter": {
     "outputs_hidden": false,
     "source_hidden": false
    },
    "nteract": {
     "transient": {
      "deleting": false
     }
    }
   },
   "source": [
    "TODO: In the cell below, send a request to the web service you deployed to test it."
   ]
  },
  {
   "cell_type": "code",
   "execution_count": 91,
   "metadata": {},
   "outputs": [
    {
     "output_type": "stream",
     "name": "stdout",
     "text": [
      "http://04b6e591-2e1c-42a0-b80c-84bd722a908f.westus2.azurecontainer.io/score\n"
     ]
    }
   ],
   "source": [
    "# get the active api endpoint for scoring\n",
    "print(aci_service.scoring_uri)"
   ]
  },
  {
   "cell_type": "code",
   "execution_count": 105,
   "metadata": {},
   "outputs": [
    {
     "output_type": "stream",
     "name": "stdout",
     "text": [
      "Results: {\"result\": [1, 1, 0, 1]}\n"
     ]
    }
   ],
   "source": [
    "import json\n",
    "import requests\n",
    "\n",
    "scoring_uri = 'http://04b6e591-2e1c-42a0-b80c-84bd722a908f.westus2.azurecontainer.io/score'\n",
    "headers = {'Content-Type':'application/json'}\n",
    "\n",
    "test_sample = json.dumps({\n",
    "    \"data\": [\n",
    "            [75.0, 0.0, 582.0, 0.0, 20.0, 1.0, 265000.0, 1.9, 130.0, 1.0, 0.0, 4.0],\n",
    "            [80.0, 1.0, 123.0, 0.0, 35.0, 1.0, 388000.0, 9.4, 133.0, 1.0, 1.0, 10.0],\n",
    "            [62.0, 0.0, 61.0, 1.0, 38.0, 1.0, 155000.0, 1.1, 143.0, 1.0, 1.0, 270.0],\n",
    "            [50.0, 1.0, 111.0, 0.0, 20.0, 0.0, 210000.0, 1.9, 137.0, 1.0, 0.0, 7.0]\n",
    "        ]\n",
    "    })\n",
    "\n",
    "response = requests.post(scoring_uri, data=test_sample, headers=headers)\n",
    "print(\"Results:\", response.json())"
   ]
  },
  {
   "cell_type": "markdown",
   "metadata": {
    "collapsed": true,
    "gather": {
     "logged": 1598432765711
    },
    "jupyter": {
     "outputs_hidden": false,
     "source_hidden": false
    },
    "nteract": {
     "transient": {
      "deleting": false
     }
    }
   },
   "source": [
    "TODO: In the cell below, print the logs of the web service and delete the service"
   ]
  },
  {
   "cell_type": "code",
   "execution_count": 108,
   "metadata": {},
   "outputs": [
    {
     "output_type": "stream",
     "name": "stdout",
     "text": [
      "2021-01-09T21:17:43,233978400+00:00 - rsyslog/run \n2021-01-09T21:17:43,249737600+00:00 - gunicorn/run \n2021-01-09T21:17:43,253538200+00:00 - iot-server/run \n2021-01-09T21:17:43,251260700+00:00 - nginx/run \n/usr/sbin/nginx: /azureml-envs/azureml_9c539d20199ae6be65c41c0382029684/lib/libcrypto.so.1.0.0: no version information available (required by /usr/sbin/nginx)\n/usr/sbin/nginx: /azureml-envs/azureml_9c539d20199ae6be65c41c0382029684/lib/libcrypto.so.1.0.0: no version information available (required by /usr/sbin/nginx)\n/usr/sbin/nginx: /azureml-envs/azureml_9c539d20199ae6be65c41c0382029684/lib/libssl.so.1.0.0: no version information available (required by /usr/sbin/nginx)\n/usr/sbin/nginx: /azureml-envs/azureml_9c539d20199ae6be65c41c0382029684/lib/libssl.so.1.0.0: no version information available (required by /usr/sbin/nginx)\n/usr/sbin/nginx: /azureml-envs/azureml_9c539d20199ae6be65c41c0382029684/lib/libssl.so.1.0.0: no version information available (required by /usr/sbin/nginx)\nrsyslogd: /azureml-envs/azureml_9c539d20199ae6be65c41c0382029684/lib/libuuid.so.1: no version information available (required by rsyslogd)\nEdgeHubConnectionString and IOTEDGE_IOTHUBHOSTNAME are not set. Exiting...\n2021-01-09T21:17:44,934353500+00:00 - iot-server/finish 1 0\n2021-01-09T21:17:44,949612400+00:00 - Exit code 1 is normal. Not restarting iot-server.\nStarting gunicorn 19.9.0\nListening at: http://127.0.0.1:31311 (63)\nUsing worker: sync\nworker timeout is set to 300\nBooting worker with pid: 95\nSPARK_HOME not set. Skipping PySpark Initialization.\nGenerating new fontManager, this may take some time...\nInitializing logger\n2021-01-09 21:17:51,617 | root | INFO | Starting up app insights client\nStarting up app insights client\n2021-01-09 21:17:51,618 | root | INFO | Starting up request id generator\nStarting up request id generator\n2021-01-09 21:17:51,618 | root | INFO | Starting up app insight hooks\nStarting up app insight hooks\n2021-01-09 21:17:51,619 | root | INFO | Invoking user's init function\nInvoking user's init function\n2021-01-09 21:18:01,459 | root | INFO | Users's init has completed successfully\nUsers's init has completed successfully\n2021-01-09 21:18:01,467 | root | INFO | Skipping middleware: dbg_model_info as it's not enabled.\nSkipping middleware: dbg_model_info as it's not enabled.\n2021-01-09 21:18:01,467 | root | INFO | Skipping middleware: dbg_resource_usage as it's not enabled.\nSkipping middleware: dbg_resource_usage as it's not enabled.\n2021-01-09 21:18:01,517 | root | INFO | Scoring timeout is found from os.environ: 60000 ms\nScoring timeout is found from os.environ: 60000 ms\n2021-01-09 21:18:22,270 | root | INFO | 200\n200\n127.0.0.1 - - [09/Jan/2021:21:18:22 +0000] \"GET /swagger.json HTTP/1.0\" 200 2878 \"-\" \"Go-http-client/1.1\"\n2021-01-09 21:18:23,628 | root | INFO | 200\n200\n127.0.0.1 - - [09/Jan/2021:21:18:23 +0000] \"GET /swagger.json HTTP/1.0\" 200 2878 \"-\" \"Go-http-client/1.1\"\n2021-01-09 21:26:45,414 | root | INFO | 200\n200\n127.0.0.1 - - [09/Jan/2021:21:26:45 +0000] \"GET /swagger.json HTTP/1.0\" 200 2878 \"-\" \"Go-http-client/1.1\"\n2021-01-09 21:26:46,241 | root | INFO | 200\n200\n127.0.0.1 - - [09/Jan/2021:21:26:46 +0000] \"GET /swagger.json HTTP/1.0\" 200 2878 \"-\" \"Go-http-client/1.1\"\n2021-01-09 21:27:11,983 | root | INFO | 200\n200\n127.0.0.1 - - [09/Jan/2021:21:27:11 +0000] \"GET /swagger.json HTTP/1.0\" 200 2878 \"-\" \"Go-http-client/1.1\"\n2021-01-09 21:27:12,695 | root | INFO | 200\n200\n127.0.0.1 - - [09/Jan/2021:21:27:12 +0000] \"GET /swagger.json HTTP/1.0\" 200 2878 \"-\" \"Go-http-client/1.1\"\n2021-01-09 21:33:58,117 | root | INFO | 200\n200\n127.0.0.1 - - [09/Jan/2021:21:33:58 +0000] \"GET /swagger.json HTTP/1.0\" 200 2878 \"-\" \"Go-http-client/1.1\"\n2021-01-09 21:33:59,085 | root | INFO | 200\n200\n127.0.0.1 - - [09/Jan/2021:21:33:59 +0000] \"GET /swagger.json HTTP/1.0\" 200 2878 \"-\" \"Go-http-client/1.1\"\n2021-01-09 21:36:49,384 | root | INFO | 200\n200\n127.0.0.1 - - [09/Jan/2021:21:36:49 +0000] \"GET /swagger.json HTTP/1.0\" 200 2878 \"-\" \"Go-http-client/1.1\"\n2021-01-09 21:36:50,197 | root | INFO | 200\n200\n127.0.0.1 - - [09/Jan/2021:21:36:50 +0000] \"GET /swagger.json HTTP/1.0\" 200 2878 \"-\" \"Go-http-client/1.1\"\n2021-01-09 22:56:52,946 | root | INFO | Validation Request Content-Type\nValidation Request Content-Type\n2021-01-09 22:56:52,949 | root | INFO | \tHost: localhost:5001\n\tHost: localhost:5001\n2021-01-09 22:56:52,949 | root | INFO | \tX-Real-Ip: 127.0.0.1\n\tX-Real-Ip: 127.0.0.1\n2021-01-09 22:56:52,950 | root | INFO | \tX-Forwarded-For: 127.0.0.1\n\tX-Forwarded-For: 127.0.0.1\n2021-01-09 22:56:52,950 | root | INFO | \tX-Forwarded-Proto: http\n\tX-Forwarded-Proto: http\n2021-01-09 22:56:52,951 | root | INFO | \tConnection: close\n\tConnection: close\n2021-01-09 22:56:52,951 | root | INFO | \tContent-Length: 157\n\tContent-Length: 157\n2021-01-09 22:56:52,952 | root | INFO | \tUser-Agent: python-requests/2.25.0\n\tUser-Agent: python-requests/2.25.0\n2021-01-09 22:56:52,952 | root | INFO | \tAccept: application/json\n\tAccept: application/json\n2021-01-09 22:56:52,953 | root | INFO | \tAccept-Encoding: gzip, deflate\n\tAccept-Encoding: gzip, deflate\n2021-01-09 22:56:52,953 | root | INFO | \tContent-Type: application/json\n\tContent-Type: application/json\n2021-01-09 22:56:52,953 | root | INFO | \tX-Ms-Request-Id: 5d6944b2-21fa-42fb-b7c7-9ce7599b98c6\n\tX-Ms-Request-Id: 5d6944b2-21fa-42fb-b7c7-9ce7599b98c6\n2021-01-09 22:56:52,956 | root | INFO | Scoring Timer is set to 60.0 seconds\nScoring Timer is set to 60.0 seconds\n2021-01-09 22:56:53,286 | root | INFO | 200\n200\n127.0.0.1 - - [09/Jan/2021:22:56:53 +0000] \"POST /score HTTP/1.0\" 200 22 \"-\" \"python-requests/2.25.0\"\n2021-01-09 23:06:38,175 | root | INFO | Validation Request Content-Type\nValidation Request Content-Type\n2021-01-09 23:06:38,176 | root | INFO | \tHost: localhost:5001\n\tHost: localhost:5001\n2021-01-09 23:06:38,177 | root | INFO | \tX-Real-Ip: 127.0.0.1\n\tX-Real-Ip: 127.0.0.1\n2021-01-09 23:06:38,179 | root | INFO | \tX-Forwarded-For: 127.0.0.1\n\tX-Forwarded-For: 127.0.0.1\n2021-01-09 23:06:38,180 | root | INFO | \tX-Forwarded-Proto: http\n\tX-Forwarded-Proto: http\n2021-01-09 23:06:38,180 | root | INFO | \tConnection: close\n\tConnection: close\n2021-01-09 23:06:38,181 | root | INFO | \tContent-Length: 157\n\tContent-Length: 157\n2021-01-09 23:06:38,181 | root | INFO | \tUser-Agent: python-requests/2.25.0\n\tUser-Agent: python-requests/2.25.0\n2021-01-09 23:06:38,182 | root | INFO | \tAccept: */*\n\tAccept: */*\n2021-01-09 23:06:38,182 | root | INFO | \tAccept-Encoding: gzip, deflate\n\tAccept-Encoding: gzip, deflate\n2021-01-09 23:06:38,182 | root | INFO | \tContent-Type: application/json\n\tContent-Type: application/json\n2021-01-09 23:06:38,182 | root | INFO | \tX-Ms-Request-Id: 80f1d215-f4f5-469b-a657-acb3b550dcc7\n\tX-Ms-Request-Id: 80f1d215-f4f5-469b-a657-acb3b550dcc7\n2021-01-09 23:06:38,182 | root | INFO | Scoring Timer is set to 60.0 seconds\nScoring Timer is set to 60.0 seconds\n2021-01-09 23:06:38,470 | root | INFO | 200\n200\n127.0.0.1 - - [09/Jan/2021:23:06:38 +0000] \"POST /score HTTP/1.0\" 200 22 \"-\" \"python-requests/2.25.0\"\n127.0.0.1 - - [09/Jan/2021:23:13:22 +0000] \"GET /.env HTTP/1.0\" 404 232 \"-\" \"Mozilla/5.0 (X11; Linux x86_64) AppleWebKit/537.36 (KHTML, like Gecko) Chrome/81.0.4044.129 Safari/537.36\"\n127.0.0.1 - - [09/Jan/2021:23:13:23 +0000] \"POST / HTTP/1.0\" 405 178 \"-\" \"Mozilla/5.0 (X11; Linux x86_64) AppleWebKit/537.36 (KHTML, like Gecko) Chrome/81.0.4044.129 Safari/537.36\"\n127.0.0.1 - - [09/Jan/2021:23:16:05 +0000] \"GET /config/getuser?index=0 HTTP/1.0\" 404 232 \"-\" \"Mozilla/5.0 (X11; Ubuntu; Linux x86_64; rv:76.0) Gecko/20100101 Firefox/76.0\"\n2021-01-09 23:19:29,949 | root | INFO | Validation Request Content-Type\nValidation Request Content-Type\n2021-01-09 23:19:29,950 | root | INFO | \tHost: localhost:5001\n\tHost: localhost:5001\n2021-01-09 23:19:29,950 | root | INFO | \tX-Real-Ip: 127.0.0.1\n\tX-Real-Ip: 127.0.0.1\n2021-01-09 23:19:29,950 | root | INFO | \tX-Forwarded-For: 127.0.0.1\n\tX-Forwarded-For: 127.0.0.1\n2021-01-09 23:19:29,951 | root | INFO | \tX-Forwarded-Proto: http\n\tX-Forwarded-Proto: http\n2021-01-09 23:19:29,951 | root | INFO | \tConnection: close\n\tConnection: close\n2021-01-09 23:19:29,951 | root | INFO | \tContent-Length: 157\n\tContent-Length: 157\n2021-01-09 23:19:29,952 | root | INFO | \tUser-Agent: python-requests/2.25.0\n\tUser-Agent: python-requests/2.25.0\n2021-01-09 23:19:29,952 | root | INFO | \tAccept: */*\n\tAccept: */*\n2021-01-09 23:19:29,952 | root | INFO | \tAccept-Encoding: gzip, deflate\n\tAccept-Encoding: gzip, deflate\n2021-01-09 23:19:29,954 | root | INFO | \tContent-Type: application/json\n\tContent-Type: application/json\n2021-01-09 23:19:29,954 | root | INFO | \tX-Ms-Request-Id: 361d15a1-e945-4bfa-8368-2cc4a58667c0\n\tX-Ms-Request-Id: 361d15a1-e945-4bfa-8368-2cc4a58667c0\n2021-01-09 23:19:29,955 | root | INFO | Scoring Timer is set to 60.0 seconds\nScoring Timer is set to 60.0 seconds\n2021-01-09 23:19:30,222 | root | INFO | 200\n200\n127.0.0.1 - - [09/Jan/2021:23:19:30 +0000] \"POST /score HTTP/1.0\" 200 22 \"-\" \"python-requests/2.25.0\"\n2021-01-09 23:19:58,520 | root | INFO | Validation Request Content-Type\nValidation Request Content-Type\n2021-01-09 23:19:58,521 | root | INFO | \tHost: localhost:5001\n\tHost: localhost:5001\n2021-01-09 23:19:58,522 | root | INFO | \tX-Real-Ip: 127.0.0.1\n\tX-Real-Ip: 127.0.0.1\n2021-01-09 23:19:58,522 | root | INFO | \tX-Forwarded-For: 127.0.0.1\n\tX-Forwarded-For: 127.0.0.1\n2021-01-09 23:19:58,522 | root | INFO | \tX-Forwarded-Proto: http\n\tX-Forwarded-Proto: http\n2021-01-09 23:19:58,523 | root | INFO | \tConnection: close\n\tConnection: close\n2021-01-09 23:19:58,523 | root | INFO | \tContent-Length: 157\n\tContent-Length: 157\n2021-01-09 23:19:58,524 | root | INFO | \tUser-Agent: python-requests/2.25.0\n\tUser-Agent: python-requests/2.25.0\n2021-01-09 23:19:58,524 | root | INFO | \tAccept: */*\n\tAccept: */*\n2021-01-09 23:19:58,524 | root | INFO | \tAccept-Encoding: gzip, deflate\n\tAccept-Encoding: gzip, deflate\n2021-01-09 23:19:58,525 | root | INFO | \tContent-Type: application/json\n\tContent-Type: application/json\n2021-01-09 23:19:58,525 | root | INFO | \tX-Ms-Request-Id: 04d46a3b-c6d1-4693-877d-a3763d72fabe\n\tX-Ms-Request-Id: 04d46a3b-c6d1-4693-877d-a3763d72fabe\n2021-01-09 23:19:58,525 | root | INFO | Scoring Timer is set to 60.0 seconds\nScoring Timer is set to 60.0 seconds\n2021-01-09 23:19:58,818 | root | INFO | 200\n200\n127.0.0.1 - - [09/Jan/2021:23:19:58 +0000] \"POST /score HTTP/1.0\" 200 22 \"-\" \"python-requests/2.25.0\"\n2021-01-09 23:20:22,586 | root | INFO | Validation Request Content-Type\nValidation Request Content-Type\n2021-01-09 23:20:22,587 | root | INFO | \tHost: localhost:5001\n\tHost: localhost:5001\n2021-01-09 23:20:22,587 | root | INFO | \tX-Real-Ip: 127.0.0.1\n\tX-Real-Ip: 127.0.0.1\n2021-01-09 23:20:22,587 | root | INFO | \tX-Forwarded-For: 127.0.0.1\n\tX-Forwarded-For: 127.0.0.1\n2021-01-09 23:20:22,587 | root | INFO | \tX-Forwarded-Proto: http\n\tX-Forwarded-Proto: http\n2021-01-09 23:20:22,588 | root | INFO | \tConnection: close\n\tConnection: close\n2021-01-09 23:20:22,588 | root | INFO | \tContent-Length: 157\n\tContent-Length: 157\n2021-01-09 23:20:22,588 | root | INFO | \tUser-Agent: python-requests/2.25.0\n\tUser-Agent: python-requests/2.25.0\n2021-01-09 23:20:22,588 | root | INFO | \tAccept: */*\n\tAccept: */*\n2021-01-09 23:20:22,588 | root | INFO | \tAccept-Encoding: gzip, deflate\n\tAccept-Encoding: gzip, deflate\n2021-01-09 23:20:22,588 | root | INFO | \tContent-Type: application/json\n\tContent-Type: application/json\n2021-01-09 23:20:22,588 | root | INFO | \tX-Ms-Request-Id: 1079cda6-d728-401a-97f0-fecec447abad\n\tX-Ms-Request-Id: 1079cda6-d728-401a-97f0-fecec447abad\n2021-01-09 23:20:22,589 | root | INFO | Scoring Timer is set to 60.0 seconds\nScoring Timer is set to 60.0 seconds\n2021-01-09 23:20:22,895 | root | INFO | 200\n200\n127.0.0.1 - - [09/Jan/2021:23:20:22 +0000] \"POST /score HTTP/1.0\" 200 22 \"-\" \"python-requests/2.25.0\"\n2021-01-09 23:20:30,779 | root | INFO | Validation Request Content-Type\nValidation Request Content-Type\n2021-01-09 23:20:30,780 | root | INFO | \tHost: localhost:5001\n\tHost: localhost:5001\n2021-01-09 23:20:30,780 | root | INFO | \tX-Real-Ip: 127.0.0.1\n\tX-Real-Ip: 127.0.0.1\n2021-01-09 23:20:30,780 | root | INFO | \tX-Forwarded-For: 127.0.0.1\n\tX-Forwarded-For: 127.0.0.1\n2021-01-09 23:20:30,781 | root | INFO | \tX-Forwarded-Proto: http\n\tX-Forwarded-Proto: http\n2021-01-09 23:20:30,781 | root | INFO | \tConnection: close\n\tConnection: close\n2021-01-09 23:20:30,781 | root | INFO | \tContent-Length: 157\n\tContent-Length: 157\n2021-01-09 23:20:30,781 | root | INFO | \tUser-Agent: python-requests/2.25.0\n\tUser-Agent: python-requests/2.25.0\n2021-01-09 23:20:30,781 | root | INFO | \tAccept: */*\n\tAccept: */*\n2021-01-09 23:20:30,781 | root | INFO | \tAccept-Encoding: gzip, deflate\n\tAccept-Encoding: gzip, deflate\n2021-01-09 23:20:30,781 | root | INFO | \tContent-Type: application/json\n\tContent-Type: application/json\n2021-01-09 23:20:30,782 | root | INFO | \tX-Ms-Request-Id: 2a19b2df-4c25-4c1c-a3d0-f178128b029a\n\tX-Ms-Request-Id: 2a19b2df-4c25-4c1c-a3d0-f178128b029a\n2021-01-09 23:20:30,782 | root | INFO | Scoring Timer is set to 60.0 seconds\nScoring Timer is set to 60.0 seconds\n2021-01-09 23:20:31,039 | root | INFO | 200\n200\n127.0.0.1 - - [09/Jan/2021:23:20:31 +0000] \"POST /score HTTP/1.0\" 200 22 \"-\" \"python-requests/2.25.0\"\n2021-01-09 23:20:36,713 | root | INFO | Validation Request Content-Type\nValidation Request Content-Type\n2021-01-09 23:20:36,713 | root | INFO | \tHost: localhost:5001\n\tHost: localhost:5001\n2021-01-09 23:20:36,714 | root | INFO | \tX-Real-Ip: 127.0.0.1\n\tX-Real-Ip: 127.0.0.1\n2021-01-09 23:20:36,714 | root | INFO | \tX-Forwarded-For: 127.0.0.1\n\tX-Forwarded-For: 127.0.0.1\n2021-01-09 23:20:36,714 | root | INFO | \tX-Forwarded-Proto: http\n\tX-Forwarded-Proto: http\n2021-01-09 23:20:36,714 | root | INFO | \tConnection: close\n\tConnection: close\n2021-01-09 23:20:36,714 | root | INFO | \tContent-Length: 157\n\tContent-Length: 157\n2021-01-09 23:20:36,714 | root | INFO | \tUser-Agent: python-requests/2.25.0\n\tUser-Agent: python-requests/2.25.0\n2021-01-09 23:20:36,714 | root | INFO | \tAccept: */*\n\tAccept: */*\n2021-01-09 23:20:36,715 | root | INFO | \tAccept-Encoding: gzip, deflate\n\tAccept-Encoding: gzip, deflate\n2021-01-09 23:20:36,715 | root | INFO | \tContent-Type: application/json\n\tContent-Type: application/json\n2021-01-09 23:20:36,715 | root | INFO | \tX-Ms-Request-Id: 0370a886-9321-462f-87b1-f5443693f6b9\n\tX-Ms-Request-Id: 0370a886-9321-462f-87b1-f5443693f6b9\n2021-01-09 23:20:36,715 | root | INFO | Scoring Timer is set to 60.0 seconds\nScoring Timer is set to 60.0 seconds\n2021-01-09 23:20:36,971 | root | INFO | 200\n200\n127.0.0.1 - - [09/Jan/2021:23:20:36 +0000] \"POST /score HTTP/1.0\" 200 22 \"-\" \"python-requests/2.25.0\"\n2021-01-09 23:20:42,754 | root | INFO | Validation Request Content-Type\nValidation Request Content-Type\n2021-01-09 23:20:42,755 | root | INFO | \tHost: localhost:5001\n\tHost: localhost:5001\n2021-01-09 23:20:42,755 | root | INFO | \tX-Real-Ip: 127.0.0.1\n\tX-Real-Ip: 127.0.0.1\n2021-01-09 23:20:42,755 | root | INFO | \tX-Forwarded-For: 127.0.0.1\n\tX-Forwarded-For: 127.0.0.1\n2021-01-09 23:20:42,755 | root | INFO | \tX-Forwarded-Proto: http\n\tX-Forwarded-Proto: http\n2021-01-09 23:20:42,756 | root | INFO | \tConnection: close\n\tConnection: close\n2021-01-09 23:20:42,756 | root | INFO | \tContent-Length: 157\n\tContent-Length: 157\n2021-01-09 23:20:42,757 | root | INFO | \tUser-Agent: python-requests/2.25.0\n\tUser-Agent: python-requests/2.25.0\n2021-01-09 23:20:42,757 | root | INFO | \tAccept: */*\n\tAccept: */*\n2021-01-09 23:20:42,758 | root | INFO | \tAccept-Encoding: gzip, deflate\n\tAccept-Encoding: gzip, deflate\n2021-01-09 23:20:42,758 | root | INFO | \tContent-Type: application/json\n\tContent-Type: application/json\n2021-01-09 23:20:42,758 | root | INFO | \tX-Ms-Request-Id: 0b0b394a-8994-44c9-b984-4f913391af66\n\tX-Ms-Request-Id: 0b0b394a-8994-44c9-b984-4f913391af66\n2021-01-09 23:20:42,759 | root | INFO | Scoring Timer is set to 60.0 seconds\nScoring Timer is set to 60.0 seconds\n2021-01-09 23:20:43,026 | root | INFO | 200\n200\n127.0.0.1 - - [09/Jan/2021:23:20:43 +0000] \"POST /score HTTP/1.0\" 200 22 \"-\" \"python-requests/2.25.0\"\n2021-01-09 23:22:30,996 | root | INFO | Validation Request Content-Type\nValidation Request Content-Type\n2021-01-09 23:22:30,997 | root | INFO | \tHost: localhost:5001\n\tHost: localhost:5001\n2021-01-09 23:22:30,997 | root | INFO | \tX-Real-Ip: 127.0.0.1\n\tX-Real-Ip: 127.0.0.1\n2021-01-09 23:22:30,997 | root | INFO | \tX-Forwarded-For: 127.0.0.1\n\tX-Forwarded-For: 127.0.0.1\n2021-01-09 23:22:30,998 | root | INFO | \tX-Forwarded-Proto: http\n\tX-Forwarded-Proto: http\n2021-01-09 23:22:30,998 | root | INFO | \tConnection: close\n\tConnection: close\n2021-01-09 23:22:30,999 | root | INFO | \tContent-Length: 230\n\tContent-Length: 230\n2021-01-09 23:22:30,999 | root | INFO | \tUser-Agent: python-requests/2.25.0\n\tUser-Agent: python-requests/2.25.0\n2021-01-09 23:22:31,000 | root | INFO | \tAccept: */*\n\tAccept: */*\n2021-01-09 23:22:31,000 | root | INFO | \tAccept-Encoding: gzip, deflate\n\tAccept-Encoding: gzip, deflate\n2021-01-09 23:22:31,000 | root | INFO | \tContent-Type: application/json\n\tContent-Type: application/json\n2021-01-09 23:22:31,001 | root | INFO | \tX-Ms-Request-Id: 014d2cb8-b38f-4da2-b26c-ef1f0cb9625b\n\tX-Ms-Request-Id: 014d2cb8-b38f-4da2-b26c-ef1f0cb9625b\n2021-01-09 23:22:31,001 | root | INFO | Scoring Timer is set to 60.0 seconds\nScoring Timer is set to 60.0 seconds\n2021-01-09 23:22:31,257 | root | INFO | 200\n200\n127.0.0.1 - - [09/Jan/2021:23:22:31 +0000] \"POST /score HTTP/1.0\" 200 25 \"-\" \"python-requests/2.25.0\"\n2021-01-09 23:23:46,563 | root | INFO | Validation Request Content-Type\nValidation Request Content-Type\n2021-01-09 23:23:46,565 | root | INFO | \tHost: localhost:5001\n\tHost: localhost:5001\n2021-01-09 23:23:46,565 | root | INFO | \tX-Real-Ip: 127.0.0.1\n\tX-Real-Ip: 127.0.0.1\n2021-01-09 23:23:46,566 | root | INFO | \tX-Forwarded-For: 127.0.0.1\n\tX-Forwarded-For: 127.0.0.1\n2021-01-09 23:23:46,566 | root | INFO | \tX-Forwarded-Proto: http\n\tX-Forwarded-Proto: http\n2021-01-09 23:23:46,566 | root | INFO | \tConnection: close\n\tConnection: close\n2021-01-09 23:23:46,566 | root | INFO | \tContent-Length: 304\n\tContent-Length: 304\n2021-01-09 23:23:46,566 | root | INFO | \tUser-Agent: python-requests/2.25.0\n\tUser-Agent: python-requests/2.25.0\n2021-01-09 23:23:46,566 | root | INFO | \tAccept: */*\n\tAccept: */*\n2021-01-09 23:23:46,567 | root | INFO | \tAccept-Encoding: gzip, deflate\n\tAccept-Encoding: gzip, deflate\n2021-01-09 23:23:46,567 | root | INFO | \tContent-Type: application/json\n\tContent-Type: application/json\n2021-01-09 23:23:46,567 | root | INFO | \tX-Ms-Request-Id: d13c0096-96d5-4cdd-b728-418dbfb62789\n\tX-Ms-Request-Id: d13c0096-96d5-4cdd-b728-418dbfb62789\n2021-01-09 23:23:46,567 | root | INFO | Scoring Timer is set to 60.0 seconds\nScoring Timer is set to 60.0 seconds\n2021-01-09 23:23:46,831 | root | INFO | 200\n200\n127.0.0.1 - - [09/Jan/2021:23:23:46 +0000] \"POST /score HTTP/1.0\" 200 28 \"-\" \"python-requests/2.25.0\"\n\n"
     ]
    }
   ],
   "source": [
    "# print the log of the webservice\n",
    "print(aci_service.get_logs())"
   ]
  },
  {
   "cell_type": "code",
   "execution_count": 111,
   "metadata": {},
   "outputs": [
    {
     "output_type": "stream",
     "name": "stdout",
     "text": [
      "No service with name aci-heart-failure-deploy found to delete.\n"
     ]
    }
   ],
   "source": [
    "# delete the web service\n",
    "aci_service.delete()\n",
    "model.delete()"
   ]
  },
  {
   "cell_type": "code",
   "execution_count": null,
   "metadata": {},
   "outputs": [],
   "source": []
  }
 ],
 "metadata": {
  "kernel_info": {
   "name": "python3-azureml"
  },
  "kernelspec": {
   "display_name": "Python 3",
   "language": "python",
   "name": "python3"
  },
  "language_info": {
   "codemirror_mode": {
    "name": "ipython",
    "version": 3
   },
   "file_extension": ".py",
   "mimetype": "text/x-python",
   "name": "python",
   "nbconvert_exporter": "python",
   "pygments_lexer": "ipython3",
   "version": "3.6.6-final"
  },
  "nteract": {
   "version": "nteract-front-end@1.0.0"
  }
 },
 "nbformat": 4,
 "nbformat_minor": 2
}