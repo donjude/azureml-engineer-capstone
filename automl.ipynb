{
 "cells": [
  {
   "cell_type": "markdown",
   "metadata": {},
   "source": [
    "# Automated ML\n",
    "\n",
    "TODO: Import Dependencies. In the cell below, import all the dependencies that you will need to complete the project.\n",
    "\n",
    "## Import libraries for Azure Machine Learning SDK"
   ]
  },
  {
   "cell_type": "code",
   "execution_count": 1,
   "metadata": {
    "gather": {
     "logged": 1598423888013
    },
    "jupyter": {
     "outputs_hidden": false,
     "source_hidden": false
    },
    "nteract": {
     "transient": {
      "deleting": false
     }
    }
   },
   "outputs": [
    {
     "name": "stdout",
     "output_type": "stream",
     "text": [
      "SDK version: 1.20.0\n"
     ]
    }
   ],
   "source": [
    "import logging\n",
    "import os\n",
    "import csv\n",
    "\n",
    "from matplotlib import pyplot as pyplot\n",
    "import numpy as pd\n",
    "import pandas as pd\n",
    "from sklearn import datasets\n",
    "import pkg_resources\n",
    "\n",
    "import azureml.core\n",
    "from azureml.core.experiment import Experiment\n",
    "from azureml.core.workspace import Workspace\n",
    "from azureml.train.automl import AutoMLConfig\n",
    "from azureml.core.dataset import Dataset\n",
    "\n",
    "# Check the core SDK version number\n",
    "print(\"SDK version:\", azureml.core.VERSION)"
   ]
  },
  {
   "cell_type": "markdown",
   "metadata": {},
   "source": [
    "## Initialize Workspace and Experiment"
   ]
  },
  {
   "cell_type": "code",
   "execution_count": 2,
   "metadata": {},
   "outputs": [
    {
     "data": {
      "text/html": [
       "<div>\n",
       "<style scoped>\n",
       "    .dataframe tbody tr th:only-of-type {\n",
       "        vertical-align: middle;\n",
       "    }\n",
       "\n",
       "    .dataframe tbody tr th {\n",
       "        vertical-align: top;\n",
       "    }\n",
       "\n",
       "    .dataframe thead th {\n",
       "        text-align: right;\n",
       "    }\n",
       "</style>\n",
       "<table border=\"1\" class=\"dataframe\">\n",
       "  <thead>\n",
       "    <tr style=\"text-align: right;\">\n",
       "      <th></th>\n",
       "      <th></th>\n",
       "    </tr>\n",
       "  </thead>\n",
       "  <tbody>\n",
       "    <tr>\n",
       "      <th>Subscription ID</th>\n",
       "      <td>6971f5ac-8af1-446e-8034-05acea24681f</td>\n",
       "    </tr>\n",
       "    <tr>\n",
       "      <th>Workspace</th>\n",
       "      <td>quick-starts-ws-135762</td>\n",
       "    </tr>\n",
       "    <tr>\n",
       "      <th>Resource Group</th>\n",
       "      <td>aml-quickstarts-135762</td>\n",
       "    </tr>\n",
       "    <tr>\n",
       "      <th>Location</th>\n",
       "      <td>southcentralus</td>\n",
       "    </tr>\n",
       "    <tr>\n",
       "      <th>Experiment Name</th>\n",
       "      <td>auto-ml-heart-failure-exp</td>\n",
       "    </tr>\n",
       "  </tbody>\n",
       "</table>\n",
       "</div>"
      ],
      "text/plain": [
       "                                                     \n",
       "Subscription ID  6971f5ac-8af1-446e-8034-05acea24681f\n",
       "Workspace        quick-starts-ws-135762              \n",
       "Resource Group   aml-quickstarts-135762              \n",
       "Location         southcentralus                      \n",
       "Experiment Name  auto-ml-heart-failure-exp           "
      ]
     },
     "execution_count": 2,
     "metadata": {},
     "output_type": "execute_result"
    }
   ],
   "source": [
    "# initialized a workspace from a persisted configuration\n",
    "ws = Workspace.from_config()\n",
    "\n",
    "project_folder = './heart_failure_proj'\n",
    "# choose a name for experiment\n",
    "experiment_name = 'auto-ml-heart-failure-exp'\n",
    "\n",
    "experiment = Experiment(ws, experiment_name)\n",
    "\n",
    "# get workspace details and print\n",
    "output = {}\n",
    "output['Subscription ID'] = ws.subscription_id\n",
    "output['Workspace'] = ws.name\n",
    "output['Resource Group'] = ws.resource_group \n",
    "output['Location'] = ws.location \n",
    "output['Experiment Name'] = experiment.name\n",
    "pd.set_option('display.max_colwidth', -1)\n",
    "output_df = pd.DataFrame(data = output, index=[''])\n",
    "output_df.T"
   ]
  },
  {
   "cell_type": "markdown",
   "metadata": {},
   "source": [
    "## Dataset\n",
    "\n",
    "### Overview\n",
    "TODO: In this markdown cell, give an overview of the dataset you are using. Also mention the task you will be performing.\n",
    "\n",
    "\n",
    "TODO: Get data. In the cell below, write code to access the data you will be using in this project. Remember that the dataset needs to be external."
   ]
  },
  {
   "cell_type": "markdown",
   "metadata": {},
   "source": [
    "## Prepare the dataset for Automation"
   ]
  },
  {
   "cell_type": "code",
   "execution_count": 3,
   "metadata": {},
   "outputs": [
    {
     "data": {
      "text/html": [
       "<div>\n",
       "<style scoped>\n",
       "    .dataframe tbody tr th:only-of-type {\n",
       "        vertical-align: middle;\n",
       "    }\n",
       "\n",
       "    .dataframe tbody tr th {\n",
       "        vertical-align: top;\n",
       "    }\n",
       "\n",
       "    .dataframe thead th {\n",
       "        text-align: right;\n",
       "    }\n",
       "</style>\n",
       "<table border=\"1\" class=\"dataframe\">\n",
       "  <thead>\n",
       "    <tr style=\"text-align: right;\">\n",
       "      <th></th>\n",
       "      <th>age</th>\n",
       "      <th>anaemia</th>\n",
       "      <th>creatinine_phosphokinase</th>\n",
       "      <th>diabetes</th>\n",
       "      <th>ejection_fraction</th>\n",
       "      <th>high_blood_pressure</th>\n",
       "      <th>platelets</th>\n",
       "      <th>serum_creatinine</th>\n",
       "      <th>serum_sodium</th>\n",
       "      <th>sex</th>\n",
       "      <th>smoking</th>\n",
       "      <th>time</th>\n",
       "      <th>DEATH_EVENT</th>\n",
       "    </tr>\n",
       "  </thead>\n",
       "  <tbody>\n",
       "    <tr>\n",
       "      <th>count</th>\n",
       "      <td>299.000000</td>\n",
       "      <td>299.000000</td>\n",
       "      <td>299.000000</td>\n",
       "      <td>299.000000</td>\n",
       "      <td>299.000000</td>\n",
       "      <td>299.000000</td>\n",
       "      <td>299.000000</td>\n",
       "      <td>299.00000</td>\n",
       "      <td>299.000000</td>\n",
       "      <td>299.000000</td>\n",
       "      <td>299.00000</td>\n",
       "      <td>299.000000</td>\n",
       "      <td>299.00000</td>\n",
       "    </tr>\n",
       "    <tr>\n",
       "      <th>mean</th>\n",
       "      <td>60.833893</td>\n",
       "      <td>0.431438</td>\n",
       "      <td>581.839465</td>\n",
       "      <td>0.418060</td>\n",
       "      <td>38.083612</td>\n",
       "      <td>0.351171</td>\n",
       "      <td>263358.029264</td>\n",
       "      <td>1.39388</td>\n",
       "      <td>136.625418</td>\n",
       "      <td>0.648829</td>\n",
       "      <td>0.32107</td>\n",
       "      <td>130.260870</td>\n",
       "      <td>0.32107</td>\n",
       "    </tr>\n",
       "    <tr>\n",
       "      <th>std</th>\n",
       "      <td>11.894809</td>\n",
       "      <td>0.496107</td>\n",
       "      <td>970.287881</td>\n",
       "      <td>0.494067</td>\n",
       "      <td>11.834841</td>\n",
       "      <td>0.478136</td>\n",
       "      <td>97804.236869</td>\n",
       "      <td>1.03451</td>\n",
       "      <td>4.412477</td>\n",
       "      <td>0.478136</td>\n",
       "      <td>0.46767</td>\n",
       "      <td>77.614208</td>\n",
       "      <td>0.46767</td>\n",
       "    </tr>\n",
       "    <tr>\n",
       "      <th>min</th>\n",
       "      <td>40.000000</td>\n",
       "      <td>0.000000</td>\n",
       "      <td>23.000000</td>\n",
       "      <td>0.000000</td>\n",
       "      <td>14.000000</td>\n",
       "      <td>0.000000</td>\n",
       "      <td>25100.000000</td>\n",
       "      <td>0.50000</td>\n",
       "      <td>113.000000</td>\n",
       "      <td>0.000000</td>\n",
       "      <td>0.00000</td>\n",
       "      <td>4.000000</td>\n",
       "      <td>0.00000</td>\n",
       "    </tr>\n",
       "    <tr>\n",
       "      <th>25%</th>\n",
       "      <td>51.000000</td>\n",
       "      <td>0.000000</td>\n",
       "      <td>116.500000</td>\n",
       "      <td>0.000000</td>\n",
       "      <td>30.000000</td>\n",
       "      <td>0.000000</td>\n",
       "      <td>212500.000000</td>\n",
       "      <td>0.90000</td>\n",
       "      <td>134.000000</td>\n",
       "      <td>0.000000</td>\n",
       "      <td>0.00000</td>\n",
       "      <td>73.000000</td>\n",
       "      <td>0.00000</td>\n",
       "    </tr>\n",
       "    <tr>\n",
       "      <th>50%</th>\n",
       "      <td>60.000000</td>\n",
       "      <td>0.000000</td>\n",
       "      <td>250.000000</td>\n",
       "      <td>0.000000</td>\n",
       "      <td>38.000000</td>\n",
       "      <td>0.000000</td>\n",
       "      <td>262000.000000</td>\n",
       "      <td>1.10000</td>\n",
       "      <td>137.000000</td>\n",
       "      <td>1.000000</td>\n",
       "      <td>0.00000</td>\n",
       "      <td>115.000000</td>\n",
       "      <td>0.00000</td>\n",
       "    </tr>\n",
       "    <tr>\n",
       "      <th>75%</th>\n",
       "      <td>70.000000</td>\n",
       "      <td>1.000000</td>\n",
       "      <td>582.000000</td>\n",
       "      <td>1.000000</td>\n",
       "      <td>45.000000</td>\n",
       "      <td>1.000000</td>\n",
       "      <td>303500.000000</td>\n",
       "      <td>1.40000</td>\n",
       "      <td>140.000000</td>\n",
       "      <td>1.000000</td>\n",
       "      <td>1.00000</td>\n",
       "      <td>203.000000</td>\n",
       "      <td>1.00000</td>\n",
       "    </tr>\n",
       "    <tr>\n",
       "      <th>max</th>\n",
       "      <td>95.000000</td>\n",
       "      <td>1.000000</td>\n",
       "      <td>7861.000000</td>\n",
       "      <td>1.000000</td>\n",
       "      <td>80.000000</td>\n",
       "      <td>1.000000</td>\n",
       "      <td>850000.000000</td>\n",
       "      <td>9.40000</td>\n",
       "      <td>148.000000</td>\n",
       "      <td>1.000000</td>\n",
       "      <td>1.00000</td>\n",
       "      <td>285.000000</td>\n",
       "      <td>1.00000</td>\n",
       "    </tr>\n",
       "  </tbody>\n",
       "</table>\n",
       "</div>"
      ],
      "text/plain": [
       "              age     anaemia  creatinine_phosphokinase    diabetes  \\\n",
       "count  299.000000  299.000000  299.000000                299.000000   \n",
       "mean   60.833893   0.431438    581.839465                0.418060     \n",
       "std    11.894809   0.496107    970.287881                0.494067     \n",
       "min    40.000000   0.000000    23.000000                 0.000000     \n",
       "25%    51.000000   0.000000    116.500000                0.000000     \n",
       "50%    60.000000   0.000000    250.000000                0.000000     \n",
       "75%    70.000000   1.000000    582.000000                1.000000     \n",
       "max    95.000000   1.000000    7861.000000               1.000000     \n",
       "\n",
       "       ejection_fraction  high_blood_pressure      platelets  \\\n",
       "count  299.000000         299.000000           299.000000      \n",
       "mean   38.083612          0.351171             263358.029264   \n",
       "std    11.834841          0.478136             97804.236869    \n",
       "min    14.000000          0.000000             25100.000000    \n",
       "25%    30.000000          0.000000             212500.000000   \n",
       "50%    38.000000          0.000000             262000.000000   \n",
       "75%    45.000000          1.000000             303500.000000   \n",
       "max    80.000000          1.000000             850000.000000   \n",
       "\n",
       "       serum_creatinine  serum_sodium         sex    smoking        time  \\\n",
       "count  299.00000         299.000000    299.000000  299.00000  299.000000   \n",
       "mean   1.39388           136.625418    0.648829    0.32107    130.260870   \n",
       "std    1.03451           4.412477      0.478136    0.46767    77.614208    \n",
       "min    0.50000           113.000000    0.000000    0.00000    4.000000     \n",
       "25%    0.90000           134.000000    0.000000    0.00000    73.000000    \n",
       "50%    1.10000           137.000000    1.000000    0.00000    115.000000   \n",
       "75%    1.40000           140.000000    1.000000    1.00000    203.000000   \n",
       "max    9.40000           148.000000    1.000000    1.00000    285.000000   \n",
       "\n",
       "       DEATH_EVENT  \n",
       "count  299.00000    \n",
       "mean   0.32107      \n",
       "std    0.46767      \n",
       "min    0.00000      \n",
       "25%    0.00000      \n",
       "50%    0.00000      \n",
       "75%    1.00000      \n",
       "max    1.00000      "
      ]
     },
     "execution_count": 3,
     "metadata": {},
     "output_type": "execute_result"
    }
   ],
   "source": [
    "# Try to load the dataset from the Workspace. Otherwise, create it from the file\n",
    "# NOTE: update the key to match the dataset name\n",
    "found = False\n",
    "key = \"heart-failure-dataset\"\n",
    "description_text = \"heart failure clinical records dataset from UCI repo \"\n",
    "\n",
    "if key in ws.datasets.keys(): \n",
    "        found = True\n",
    "        dataset = ws.datasets[key] \n",
    "\n",
    "if not found:\n",
    "        # Create AML Dataset and register it into Workspace\n",
    "        example_data = 'https://archive.ics.uci.edu/ml/machine-learning-databases/00519/heart_failure_clinical_records_dataset.csv'\n",
    "        dataset = Dataset.Tabular.from_delimited_files(example_data)        \n",
    "        #Register Dataset in Workspace\n",
    "        dataset = dataset.register(workspace=ws,\n",
    "                                   name=key,\n",
    "                                   description=description_text)\n",
    "\n",
    "\n",
    "df = dataset.to_pandas_dataframe()\n",
    "df.describe()"
   ]
  },
  {
   "cell_type": "markdown",
   "metadata": {},
   "source": [
    "## Create a Compute Target"
   ]
  },
  {
   "cell_type": "code",
   "execution_count": 4,
   "metadata": {},
   "outputs": [
    {
     "name": "stdout",
     "output_type": "stream",
     "text": [
      "Creating\n",
      "Succeeded\n",
      "AmlCompute wait for completion finished\n",
      "\n",
      "Minimum number of nodes requested have been provisioned\n"
     ]
    }
   ],
   "source": [
    "from azureml.core.compute import ComputeTarget, AmlCompute\n",
    "from azureml.core.compute_target import ComputeTargetException\n",
    "\n",
    "cluster_name = 'cpu-cluster'\n",
    "\n",
    "try:\n",
    "    # check for existing compute target\n",
    "    training_cluster = ComputeTarget(\n",
    "        workspace=ws,\n",
    "        name=cluster_name,\n",
    "    )\n",
    "    print('Found existing cluster, use it.')\n",
    "except:\n",
    "    # create compute target if non exists\n",
    "    try:\n",
    "        compute_config = AmlCompute.provisioning_configuration(\n",
    "            vm_size='STANDARD_DS12_V2',\n",
    "            max_nodes=4\n",
    "        )\n",
    "        training_cluster = ComputeTarget.create(ws, cluster_name, compute_config)\n",
    "        training_cluster.wait_for_completion(show_output=True)\n",
    "    except Exception as ex:\n",
    "        print(ex)"
   ]
  },
  {
   "cell_type": "markdown",
   "metadata": {},
   "source": [
    "## AutoML Configuration\n",
    "\n",
    "TODO: Explain why you chose the automl settings and cofiguration you used below."
   ]
  },
  {
   "cell_type": "code",
   "execution_count": 5,
   "metadata": {
    "gather": {
     "logged": 1598429217746
    },
    "jupyter": {
     "outputs_hidden": false,
     "source_hidden": false
    },
    "nteract": {
     "transient": {
      "deleting": false
     }
    }
   },
   "outputs": [],
   "source": [
    "# define automl settings\n",
    "automl_settings = {\n",
    "    \"n_cross_validations\": 5,\n",
    "    \"experiment_timeout_minutes\": 60,\n",
    "    \"max_concurrent_iterations\": 2,\n",
    "    \"primary_metric\" : 'accuracy'\n",
    "}\n",
    "\n",
    "# define automl configuration settings\n",
    "automl_config = AutoMLConfig(compute_target=training_cluster,\n",
    "                             task = \"classification\",\n",
    "                             training_data=dataset,\n",
    "                             label_column_name=\"DEATH_EVENT\",   \n",
    "                             path = project_folder,\n",
    "                             enable_early_stopping= True,\n",
    "                             featurization= 'auto',\n",
    "                             debug_log = \"automl_errors.log\",\n",
    "                             **automl_settings\n",
    "                            )"
   ]
  },
  {
   "cell_type": "code",
   "execution_count": 6,
   "metadata": {
    "gather": {
     "logged": 1598431107951
    },
    "jupyter": {
     "outputs_hidden": false,
     "source_hidden": false
    },
    "nteract": {
     "transient": {
      "deleting": false
     }
    }
   },
   "outputs": [
    {
     "name": "stdout",
     "output_type": "stream",
     "text": [
      "Running on remote.\n"
     ]
    }
   ],
   "source": [
    "# Submit the experiment to a remote compute cluster\n",
    "remote_run = experiment.submit(automl_config)"
   ]
  },
  {
   "cell_type": "markdown",
   "metadata": {},
   "source": [
    "## Run Details\n",
    "\n",
    "OPTIONAL: Write about the different models trained and their performance. Why do you think some models did better than others?\n",
    "\n",
    "TODO: In the cell below, use the `RunDetails` widget to show the different experiments."
   ]
  },
  {
   "cell_type": "code",
   "execution_count": 7,
   "metadata": {},
   "outputs": [],
   "source": [
    "# uncomment run this when you need to retrieve an existing run\n",
    "#from azureml.train.automl.run import AutoMLRun\n",
    "#remote_run = AutoMLRun(experiment = experiment, run_id = 'AutoML_c2ada1fe-bf94-48d0-802e-fcb1cc580787')"
   ]
  },
  {
   "cell_type": "code",
   "execution_count": 8,
   "metadata": {
    "gather": {
     "logged": 1598431121770
    },
    "jupyter": {
     "outputs_hidden": false,
     "source_hidden": false
    },
    "nteract": {
     "transient": {
      "deleting": false
     }
    }
   },
   "outputs": [
    {
     "data": {
      "application/vnd.jupyter.widget-view+json": {
       "model_id": "cfee4c3539dc4ff082701df45c45b04e",
       "version_major": 2,
       "version_minor": 0
      },
      "text/plain": [
       "_AutoMLWidget(widget_settings={'childWidgetDisplay': 'popup', 'send_telemetry': False, 'log_level': 'INFO', 's…"
      ]
     },
     "metadata": {},
     "output_type": "display_data"
    },
    {
     "data": {
      "application/aml.mini.widget.v1": "{\"status\": \"Completed\", \"workbench_run_details_uri\": \"https://ml.azure.com/experiments/auto-ml-heart-failure-exp/runs/AutoML_da970879-bd7f-4f48-b543-7cb437fa4380?wsid=/subscriptions/6971f5ac-8af1-446e-8034-05acea24681f/resourcegroups/aml-quickstarts-135762/workspaces/quick-starts-ws-135762\", \"run_id\": \"AutoML_da970879-bd7f-4f48-b543-7cb437fa4380\", \"run_properties\": {\"run_id\": \"AutoML_da970879-bd7f-4f48-b543-7cb437fa4380\", \"created_utc\": \"2021-01-23T09:13:47.935495Z\", \"properties\": {\"num_iterations\": \"1000\", \"training_type\": \"TrainFull\", \"acquisition_function\": \"EI\", \"primary_metric\": \"accuracy\", \"train_split\": \"0\", \"acquisition_parameter\": \"0\", \"num_cross_validation\": \"5\", \"target\": \"cpu-cluster\", \"AMLSettingsJsonString\": \"{\\\"path\\\":null,\\\"name\\\":\\\"auto-ml-heart-failure-exp\\\",\\\"subscription_id\\\":\\\"6971f5ac-8af1-446e-8034-05acea24681f\\\",\\\"resource_group\\\":\\\"aml-quickstarts-135762\\\",\\\"workspace_name\\\":\\\"quick-starts-ws-135762\\\",\\\"region\\\":\\\"southcentralus\\\",\\\"compute_target\\\":\\\"cpu-cluster\\\",\\\"spark_service\\\":null,\\\"azure_service\\\":\\\"remote\\\",\\\"many_models\\\":false,\\\"pipeline_fetch_max_batch_size\\\":1,\\\"iterations\\\":1000,\\\"primary_metric\\\":\\\"accuracy\\\",\\\"task_type\\\":\\\"classification\\\",\\\"data_script\\\":null,\\\"validation_size\\\":0.0,\\\"n_cross_validations\\\":5,\\\"y_min\\\":null,\\\"y_max\\\":null,\\\"num_classes\\\":null,\\\"featurization\\\":\\\"auto\\\",\\\"_ignore_package_version_incompatibilities\\\":false,\\\"is_timeseries\\\":false,\\\"max_cores_per_iteration\\\":1,\\\"max_concurrent_iterations\\\":2,\\\"iteration_timeout_minutes\\\":null,\\\"mem_in_mb\\\":null,\\\"enforce_time_on_windows\\\":false,\\\"experiment_timeout_minutes\\\":60,\\\"experiment_exit_score\\\":null,\\\"whitelist_models\\\":null,\\\"blacklist_algos\\\":[\\\"TensorFlowLinearClassifier\\\",\\\"TensorFlowDNN\\\"],\\\"supported_models\\\":[\\\"BernoulliNaiveBayes\\\",\\\"XGBoostClassifier\\\",\\\"AveragedPerceptronClassifier\\\",\\\"MultinomialNaiveBayes\\\",\\\"ExtremeRandomTrees\\\",\\\"GradientBoosting\\\",\\\"LightGBM\\\",\\\"SGD\\\",\\\"RandomForest\\\",\\\"DecisionTree\\\",\\\"KNN\\\",\\\"TensorFlowDNN\\\",\\\"LinearSVM\\\",\\\"LogisticRegression\\\",\\\"SVM\\\",\\\"TensorFlowLinearClassifier\\\"],\\\"auto_blacklist\\\":true,\\\"blacklist_samples_reached\\\":false,\\\"exclude_nan_labels\\\":true,\\\"verbosity\\\":20,\\\"_debug_log\\\":\\\"azureml_automl.log\\\",\\\"show_warnings\\\":false,\\\"model_explainability\\\":true,\\\"service_url\\\":null,\\\"sdk_url\\\":null,\\\"sdk_packages\\\":null,\\\"enable_onnx_compatible_models\\\":false,\\\"enable_split_onnx_featurizer_estimator_models\\\":false,\\\"vm_type\\\":\\\"STANDARD_DS12_V2\\\",\\\"telemetry_verbosity\\\":20,\\\"send_telemetry\\\":true,\\\"enable_dnn\\\":false,\\\"scenario\\\":\\\"SDK-1.13.0\\\",\\\"environment_label\\\":null,\\\"force_text_dnn\\\":false,\\\"enable_feature_sweeping\\\":true,\\\"enable_early_stopping\\\":true,\\\"early_stopping_n_iters\\\":10,\\\"metrics\\\":null,\\\"enable_ensembling\\\":true,\\\"enable_stack_ensembling\\\":true,\\\"ensemble_iterations\\\":15,\\\"enable_tf\\\":false,\\\"enable_subsampling\\\":null,\\\"subsample_seed\\\":null,\\\"enable_nimbusml\\\":false,\\\"enable_streaming\\\":false,\\\"force_streaming\\\":false,\\\"track_child_runs\\\":true,\\\"allowed_private_models\\\":[],\\\"label_column_name\\\":\\\"DEATH_EVENT\\\",\\\"weight_column_name\\\":null,\\\"cv_split_column_names\\\":null,\\\"enable_local_managed\\\":false,\\\"_local_managed_run_id\\\":null,\\\"cost_mode\\\":1,\\\"lag_length\\\":0,\\\"metric_operation\\\":\\\"maximize\\\",\\\"preprocess\\\":true}\", \"DataPrepJsonString\": \"{\\\\\\\"training_data\\\\\\\": \\\\\\\"{\\\\\\\\\\\\\\\"blocks\\\\\\\\\\\\\\\": [{\\\\\\\\\\\\\\\"id\\\\\\\\\\\\\\\": \\\\\\\\\\\\\\\"fed784b8-4979-4243-8f9f-aa109c8ba457\\\\\\\\\\\\\\\", \\\\\\\\\\\\\\\"type\\\\\\\\\\\\\\\": \\\\\\\\\\\\\\\"Microsoft.DPrep.GetFilesBlock\\\\\\\\\\\\\\\", \\\\\\\\\\\\\\\"arguments\\\\\\\\\\\\\\\": {\\\\\\\\\\\\\\\"isArchive\\\\\\\\\\\\\\\": false, \\\\\\\\\\\\\\\"path\\\\\\\\\\\\\\\": {\\\\\\\\\\\\\\\"target\\\\\\\\\\\\\\\": 4, \\\\\\\\\\\\\\\"resourceDetails\\\\\\\\\\\\\\\": [{\\\\\\\\\\\\\\\"path\\\\\\\\\\\\\\\": \\\\\\\\\\\\\\\"https://archive.ics.uci.edu/ml/machine-learning-databases/00519/heart_failure_clinical_records_dataset.csv\\\\\\\\\\\\\\\"}]}}, \\\\\\\\\\\\\\\"localData\\\\\\\\\\\\\\\": {}, \\\\\\\\\\\\\\\"isEnabled\\\\\\\\\\\\\\\": true, \\\\\\\\\\\\\\\"name\\\\\\\\\\\\\\\": null, \\\\\\\\\\\\\\\"annotation\\\\\\\\\\\\\\\": null}, {\\\\\\\\\\\\\\\"id\\\\\\\\\\\\\\\": \\\\\\\\\\\\\\\"4216e5d7-3862-4e39-b5c3-f3db40d78cf7\\\\\\\\\\\\\\\", \\\\\\\\\\\\\\\"type\\\\\\\\\\\\\\\": \\\\\\\\\\\\\\\"Microsoft.DPrep.ParseDelimitedBlock\\\\\\\\\\\\\\\", \\\\\\\\\\\\\\\"arguments\\\\\\\\\\\\\\\": {\\\\\\\\\\\\\\\"columnHeadersMode\\\\\\\\\\\\\\\": 3, \\\\\\\\\\\\\\\"fileEncoding\\\\\\\\\\\\\\\": 0, \\\\\\\\\\\\\\\"handleQuotedLineBreaks\\\\\\\\\\\\\\\": false, \\\\\\\\\\\\\\\"preview\\\\\\\\\\\\\\\": false, \\\\\\\\\\\\\\\"separator\\\\\\\\\\\\\\\": \\\\\\\\\\\\\\\",\\\\\\\\\\\\\\\", \\\\\\\\\\\\\\\"skipRows\\\\\\\\\\\\\\\": 0, \\\\\\\\\\\\\\\"skipRowsMode\\\\\\\\\\\\\\\": 0}, \\\\\\\\\\\\\\\"localData\\\\\\\\\\\\\\\": {}, \\\\\\\\\\\\\\\"isEnabled\\\\\\\\\\\\\\\": true, \\\\\\\\\\\\\\\"name\\\\\\\\\\\\\\\": null, \\\\\\\\\\\\\\\"annotation\\\\\\\\\\\\\\\": null}, {\\\\\\\\\\\\\\\"id\\\\\\\\\\\\\\\": \\\\\\\\\\\\\\\"5cf80e6d-8e8b-426c-b38b-efab2da06928\\\\\\\\\\\\\\\", \\\\\\\\\\\\\\\"type\\\\\\\\\\\\\\\": \\\\\\\\\\\\\\\"Microsoft.DPrep.DropColumnsBlock\\\\\\\\\\\\\\\", \\\\\\\\\\\\\\\"arguments\\\\\\\\\\\\\\\": {\\\\\\\\\\\\\\\"columns\\\\\\\\\\\\\\\": {\\\\\\\\\\\\\\\"type\\\\\\\\\\\\\\\": 0, \\\\\\\\\\\\\\\"details\\\\\\\\\\\\\\\": {\\\\\\\\\\\\\\\"selectedColumns\\\\\\\\\\\\\\\": [\\\\\\\\\\\\\\\"Path\\\\\\\\\\\\\\\"]}}}, \\\\\\\\\\\\\\\"localData\\\\\\\\\\\\\\\": {}, \\\\\\\\\\\\\\\"isEnabled\\\\\\\\\\\\\\\": true, \\\\\\\\\\\\\\\"name\\\\\\\\\\\\\\\": null, \\\\\\\\\\\\\\\"annotation\\\\\\\\\\\\\\\": null}, {\\\\\\\\\\\\\\\"id\\\\\\\\\\\\\\\": \\\\\\\\\\\\\\\"fa2ccdfb-b488-4cf7-96bb-2847c65abdae\\\\\\\\\\\\\\\", \\\\\\\\\\\\\\\"type\\\\\\\\\\\\\\\": \\\\\\\\\\\\\\\"Microsoft.DPrep.SetColumnTypesBlock\\\\\\\\\\\\\\\", \\\\\\\\\\\\\\\"arguments\\\\\\\\\\\\\\\": {\\\\\\\\\\\\\\\"columnConversion\\\\\\\\\\\\\\\": [{\\\\\\\\\\\\\\\"column\\\\\\\\\\\\\\\": {\\\\\\\\\\\\\\\"type\\\\\\\\\\\\\\\": 2, \\\\\\\\\\\\\\\"details\\\\\\\\\\\\\\\": {\\\\\\\\\\\\\\\"selectedColumn\\\\\\\\\\\\\\\": \\\\\\\\\\\\\\\"age\\\\\\\\\\\\\\\"}}, \\\\\\\\\\\\\\\"typeProperty\\\\\\\\\\\\\\\": 3}, {\\\\\\\\\\\\\\\"column\\\\\\\\\\\\\\\": {\\\\\\\\\\\\\\\"type\\\\\\\\\\\\\\\": 2, \\\\\\\\\\\\\\\"details\\\\\\\\\\\\\\\": {\\\\\\\\\\\\\\\"selectedColumn\\\\\\\\\\\\\\\": \\\\\\\\\\\\\\\"anaemia\\\\\\\\\\\\\\\"}}, \\\\\\\\\\\\\\\"typeProperty\\\\\\\\\\\\\\\": 2}, {\\\\\\\\\\\\\\\"column\\\\\\\\\\\\\\\": {\\\\\\\\\\\\\\\"type\\\\\\\\\\\\\\\": 2, \\\\\\\\\\\\\\\"details\\\\\\\\\\\\\\\": {\\\\\\\\\\\\\\\"selectedColumn\\\\\\\\\\\\\\\": \\\\\\\\\\\\\\\"creatinine_phosphokinase\\\\\\\\\\\\\\\"}}, \\\\\\\\\\\\\\\"typeProperty\\\\\\\\\\\\\\\": 2}, {\\\\\\\\\\\\\\\"column\\\\\\\\\\\\\\\": {\\\\\\\\\\\\\\\"type\\\\\\\\\\\\\\\": 2, \\\\\\\\\\\\\\\"details\\\\\\\\\\\\\\\": {\\\\\\\\\\\\\\\"selectedColumn\\\\\\\\\\\\\\\": \\\\\\\\\\\\\\\"diabetes\\\\\\\\\\\\\\\"}}, \\\\\\\\\\\\\\\"typeProperty\\\\\\\\\\\\\\\": 2}, {\\\\\\\\\\\\\\\"column\\\\\\\\\\\\\\\": {\\\\\\\\\\\\\\\"type\\\\\\\\\\\\\\\": 2, \\\\\\\\\\\\\\\"details\\\\\\\\\\\\\\\": {\\\\\\\\\\\\\\\"selectedColumn\\\\\\\\\\\\\\\": \\\\\\\\\\\\\\\"ejection_fraction\\\\\\\\\\\\\\\"}}, \\\\\\\\\\\\\\\"typeProperty\\\\\\\\\\\\\\\": 2}, {\\\\\\\\\\\\\\\"column\\\\\\\\\\\\\\\": {\\\\\\\\\\\\\\\"type\\\\\\\\\\\\\\\": 2, \\\\\\\\\\\\\\\"details\\\\\\\\\\\\\\\": {\\\\\\\\\\\\\\\"selectedColumn\\\\\\\\\\\\\\\": \\\\\\\\\\\\\\\"high_blood_pressure\\\\\\\\\\\\\\\"}}, \\\\\\\\\\\\\\\"typeProperty\\\\\\\\\\\\\\\": 2}, {\\\\\\\\\\\\\\\"column\\\\\\\\\\\\\\\": {\\\\\\\\\\\\\\\"type\\\\\\\\\\\\\\\": 2, \\\\\\\\\\\\\\\"details\\\\\\\\\\\\\\\": {\\\\\\\\\\\\\\\"selectedColumn\\\\\\\\\\\\\\\": \\\\\\\\\\\\\\\"platelets\\\\\\\\\\\\\\\"}}, \\\\\\\\\\\\\\\"typeProperty\\\\\\\\\\\\\\\": 3}, {\\\\\\\\\\\\\\\"column\\\\\\\\\\\\\\\": {\\\\\\\\\\\\\\\"type\\\\\\\\\\\\\\\": 2, \\\\\\\\\\\\\\\"details\\\\\\\\\\\\\\\": {\\\\\\\\\\\\\\\"selectedColumn\\\\\\\\\\\\\\\": \\\\\\\\\\\\\\\"serum_creatinine\\\\\\\\\\\\\\\"}}, \\\\\\\\\\\\\\\"typeProperty\\\\\\\\\\\\\\\": 3}, {\\\\\\\\\\\\\\\"column\\\\\\\\\\\\\\\": {\\\\\\\\\\\\\\\"type\\\\\\\\\\\\\\\": 2, \\\\\\\\\\\\\\\"details\\\\\\\\\\\\\\\": {\\\\\\\\\\\\\\\"selectedColumn\\\\\\\\\\\\\\\": \\\\\\\\\\\\\\\"serum_sodium\\\\\\\\\\\\\\\"}}, \\\\\\\\\\\\\\\"typeProperty\\\\\\\\\\\\\\\": 2}, {\\\\\\\\\\\\\\\"column\\\\\\\\\\\\\\\": {\\\\\\\\\\\\\\\"type\\\\\\\\\\\\\\\": 2, \\\\\\\\\\\\\\\"details\\\\\\\\\\\\\\\": {\\\\\\\\\\\\\\\"selectedColumn\\\\\\\\\\\\\\\": \\\\\\\\\\\\\\\"sex\\\\\\\\\\\\\\\"}}, \\\\\\\\\\\\\\\"typeProperty\\\\\\\\\\\\\\\": 2}, {\\\\\\\\\\\\\\\"column\\\\\\\\\\\\\\\": {\\\\\\\\\\\\\\\"type\\\\\\\\\\\\\\\": 2, \\\\\\\\\\\\\\\"details\\\\\\\\\\\\\\\": {\\\\\\\\\\\\\\\"selectedColumn\\\\\\\\\\\\\\\": \\\\\\\\\\\\\\\"smoking\\\\\\\\\\\\\\\"}}, \\\\\\\\\\\\\\\"typeProperty\\\\\\\\\\\\\\\": 2}, {\\\\\\\\\\\\\\\"column\\\\\\\\\\\\\\\": {\\\\\\\\\\\\\\\"type\\\\\\\\\\\\\\\": 2, \\\\\\\\\\\\\\\"details\\\\\\\\\\\\\\\": {\\\\\\\\\\\\\\\"selectedColumn\\\\\\\\\\\\\\\": \\\\\\\\\\\\\\\"time\\\\\\\\\\\\\\\"}}, \\\\\\\\\\\\\\\"typeProperty\\\\\\\\\\\\\\\": 2}, {\\\\\\\\\\\\\\\"column\\\\\\\\\\\\\\\": {\\\\\\\\\\\\\\\"type\\\\\\\\\\\\\\\": 2, \\\\\\\\\\\\\\\"details\\\\\\\\\\\\\\\": {\\\\\\\\\\\\\\\"selectedColumn\\\\\\\\\\\\\\\": \\\\\\\\\\\\\\\"DEATH_EVENT\\\\\\\\\\\\\\\"}}, \\\\\\\\\\\\\\\"typeProperty\\\\\\\\\\\\\\\": 2}]}, \\\\\\\\\\\\\\\"localData\\\\\\\\\\\\\\\": {}, \\\\\\\\\\\\\\\"isEnabled\\\\\\\\\\\\\\\": true, \\\\\\\\\\\\\\\"name\\\\\\\\\\\\\\\": null, \\\\\\\\\\\\\\\"annotation\\\\\\\\\\\\\\\": null}], \\\\\\\\\\\\\\\"inspectors\\\\\\\\\\\\\\\": [], \\\\\\\\\\\\\\\"meta\\\\\\\\\\\\\\\": {\\\\\\\\\\\\\\\"savedDatasetId\\\\\\\\\\\\\\\": \\\\\\\\\\\\\\\"af8d37c1-425e-4f85-bb31-9753e3aaa926\\\\\\\\\\\\\\\", \\\\\\\\\\\\\\\"datasetType\\\\\\\\\\\\\\\": \\\\\\\\\\\\\\\"tabular\\\\\\\\\\\\\\\", \\\\\\\\\\\\\\\"subscriptionId\\\\\\\\\\\\\\\": \\\\\\\\\\\\\\\"6971f5ac-8af1-446e-8034-05acea24681f\\\\\\\\\\\\\\\", \\\\\\\\\\\\\\\"workspaceId\\\\\\\\\\\\\\\": \\\\\\\\\\\\\\\"39b592a7-4fcc-4272-a890-ee16011200a1\\\\\\\\\\\\\\\", \\\\\\\\\\\\\\\"workspaceLocation\\\\\\\\\\\\\\\": \\\\\\\\\\\\\\\"southcentralus\\\\\\\\\\\\\\\"}}\\\\\\\", \\\\\\\"activities\\\\\\\": 0}\", \"EnableSubsampling\": null, \"runTemplate\": \"AutoML\", \"azureml.runsource\": \"automl\", \"display_task_type\": \"classification\", \"dependencies_versions\": \"{\\\"azureml-widgets\\\": \\\"1.19.0\\\", \\\"azureml-train\\\": \\\"1.20.0\\\", \\\"azureml-train-restclients-hyperdrive\\\": \\\"1.20.0\\\", \\\"azureml-train-core\\\": \\\"1.20.0\\\", \\\"azureml-train-automl\\\": \\\"1.20.0\\\", \\\"azureml-train-automl-runtime\\\": \\\"1.20.0.post1\\\", \\\"azureml-train-automl-client\\\": \\\"1.20.0\\\", \\\"azureml-tensorboard\\\": \\\"1.19.0\\\", \\\"azureml-telemetry\\\": \\\"1.20.0\\\", \\\"azureml-sdk\\\": \\\"1.20.0\\\", \\\"azureml-samples\\\": \\\"0+unknown\\\", \\\"azureml-pipeline\\\": \\\"1.20.0\\\", \\\"azureml-pipeline-steps\\\": \\\"1.20.0\\\", \\\"azureml-pipeline-core\\\": \\\"1.20.0\\\", \\\"azureml-opendatasets\\\": \\\"1.19.0\\\", \\\"azureml-model-management-sdk\\\": \\\"1.0.1b6.post1\\\", \\\"azureml-mlflow\\\": \\\"1.19.0\\\", \\\"azureml-interpret\\\": \\\"1.20.0\\\", \\\"azureml-explain-model\\\": \\\"1.19.0\\\", \\\"azureml-defaults\\\": \\\"1.20.0\\\", \\\"azureml-dataset-runtime\\\": \\\"1.20.0\\\", \\\"azureml-dataprep\\\": \\\"2.7.3\\\", \\\"azureml-dataprep-rslex\\\": \\\"1.5.0\\\", \\\"azureml-dataprep-native\\\": \\\"27.0.0\\\", \\\"azureml-datadrift\\\": \\\"1.19.0\\\", \\\"azureml-core\\\": \\\"1.20.0\\\", \\\"azureml-contrib-services\\\": \\\"1.19.0\\\", \\\"azureml-contrib-server\\\": \\\"1.19.0\\\", \\\"azureml-contrib-reinforcementlearning\\\": \\\"1.19.0\\\", \\\"azureml-contrib-pipeline-steps\\\": \\\"1.19.0\\\", \\\"azureml-contrib-notebook\\\": \\\"1.19.0\\\", \\\"azureml-contrib-interpret\\\": \\\"1.19.0\\\", \\\"azureml-contrib-gbdt\\\": \\\"1.19.0\\\", \\\"azureml-contrib-fairness\\\": \\\"1.19.0\\\", \\\"azureml-contrib-dataset\\\": \\\"1.19.0\\\", \\\"azureml-cli-common\\\": \\\"1.19.0\\\", \\\"azureml-automl-runtime\\\": \\\"1.20.0\\\", \\\"azureml-automl-core\\\": \\\"1.20.0\\\", \\\"azureml-accel-models\\\": \\\"1.19.0\\\"}\", \"_aml_system_scenario_identification\": \"Remote.Parent\", \"ClientType\": \"SDK\", \"environment_cpu_name\": \"AzureML-AutoML\", \"environment_cpu_label\": \"prod\", \"environment_gpu_name\": \"AzureML-AutoML-GPU\", \"environment_gpu_label\": \"prod\", \"root_attribution\": \"automl\", \"attribution\": \"AutoML\", \"Orchestrator\": \"AutoML\", \"CancelUri\": \"https://southcentralus.experiments.azureml.net/jasmine/v1.0/subscriptions/6971f5ac-8af1-446e-8034-05acea24681f/resourceGroups/aml-quickstarts-135762/providers/Microsoft.MachineLearningServices/workspaces/quick-starts-ws-135762/experimentids/1d325d90-387b-4596-ad5d-a57034566f38/cancel/AutoML_da970879-bd7f-4f48-b543-7cb437fa4380\", \"azureml.git.repository_uri\": \"https://github.com/donjude/azureml-engineer-capstone.git\", \"mlflow.source.git.repoURL\": \"https://github.com/donjude/azureml-engineer-capstone.git\", \"azureml.git.branch\": \"main\", \"mlflow.source.git.branch\": \"main\", \"azureml.git.commit\": \"c43f791ea7494b791fc63d39d33611d09de150fa\", \"mlflow.source.git.commit\": \"c43f791ea7494b791fc63d39d33611d09de150fa\", \"azureml.git.dirty\": \"False\", \"ClientSdkVersion\": \"1.20.0\", \"snapshotId\": \"00000000-0000-0000-0000-000000000000\", \"SetupRunId\": \"AutoML_da970879-bd7f-4f48-b543-7cb437fa4380_setup\", \"SetupRunContainerId\": \"dcid.AutoML_da970879-bd7f-4f48-b543-7cb437fa4380_setup\", \"FeaturizationRunJsonPath\": \"featurizer_container.json\", \"FeaturizationRunId\": \"AutoML_da970879-bd7f-4f48-b543-7cb437fa4380_featurize\", \"ProblemInfoJsonString\": \"{\\\"dataset_num_categorical\\\": 0, \\\"is_sparse\\\": false, \\\"subsampling\\\": false, \\\"dataset_classes\\\": 2, \\\"dataset_features\\\": 12, \\\"dataset_samples\\\": 299, \\\"single_frequency_class_detected\\\": false}\", \"ModelExplainRunId\": \"AutoML_da970879-bd7f-4f48-b543-7cb437fa4380_ModelExplain\"}, \"tags\": {\"model_explain_run\": \"best_run\", \"_aml_system_azureml.automlComponent\": \"AutoML\", \"pipeline_id\": \"\", \"score\": \"\", \"predicted_cost\": \"\", \"fit_time\": \"\", \"training_percent\": \"\", \"iteration\": \"\", \"run_preprocessor\": \"\", \"run_algorithm\": \"\", \"dynamic_whitelisting_iterations\": \"<25>;<30>;\", \"automl_best_child_run_id\": \"AutoML_da970879-bd7f-4f48-b543-7cb437fa4380_32\", \"model_explain_best_run_child_id\": \"AutoML_da970879-bd7f-4f48-b543-7cb437fa4380_32\"}, \"end_time_utc\": \"2021-01-23T09:41:20.099817Z\", \"status\": \"Completed\", \"log_files\": {}, \"log_groups\": [], \"run_duration\": \"0:27:32\"}, \"child_runs\": [{\"run_id\": \"AutoML_da970879-bd7f-4f48-b543-7cb437fa4380_0\", \"run_number\": 5, \"metric\": null, \"status\": \"Completed\", \"run_type\": \"azureml.scriptrun\", \"training_percent\": \"100\", \"start_time\": \"2021-01-23T09:22:24.319794Z\", \"end_time\": \"2021-01-23T09:23:06.950997Z\", \"created_time\": \"2021-01-23T09:21:21.719361Z\", \"created_time_dt\": \"2021-01-23T09:21:21.719361Z\", \"duration\": \"0:01:45\", \"iteration\": \"0\", \"goal\": \"accuracy_max\", \"run_name\": \"MaxAbsScaler, LightGBM\", \"run_properties\": \"copy=True\", \"primary_metric\": 0.8059887, \"best_metric\": 0.8059887}, {\"run_id\": \"AutoML_da970879-bd7f-4f48-b543-7cb437fa4380_1\", \"run_number\": 6, \"metric\": null, \"status\": \"Completed\", \"run_type\": \"azureml.scriptrun\", \"training_percent\": \"100\", \"start_time\": \"2021-01-23T09:21:33.172595Z\", \"end_time\": \"2021-01-23T09:22:17.803839Z\", \"created_time\": \"2021-01-23T09:21:22.168367Z\", \"created_time_dt\": \"2021-01-23T09:21:22.168367Z\", \"duration\": \"0:00:55\", \"iteration\": \"1\", \"goal\": \"accuracy_max\", \"run_name\": \"MaxAbsScaler, XGBoostClassifier\", \"run_properties\": \"copy=True\", \"primary_metric\": 0.8259322, \"best_metric\": 0.8259322}, {\"run_id\": \"AutoML_da970879-bd7f-4f48-b543-7cb437fa4380_2\", \"run_number\": 7, \"metric\": null, \"status\": \"Completed\", \"run_type\": \"azureml.scriptrun\", \"training_percent\": \"100\", \"start_time\": \"2021-01-23T09:23:11.605116Z\", \"end_time\": \"2021-01-23T09:24:08.798686Z\", \"created_time\": \"2021-01-23T09:22:20.613196Z\", \"created_time_dt\": \"2021-01-23T09:22:20.613196Z\", \"duration\": \"0:01:48\", \"iteration\": \"2\", \"goal\": \"accuracy_max\", \"run_name\": \"MinMaxScaler, RandomForest\", \"run_properties\": \"copy=True, feature_range=(0, 1\", \"primary_metric\": 0.8459887, \"best_metric\": 0.8459887}, {\"run_id\": \"AutoML_da970879-bd7f-4f48-b543-7cb437fa4380_3\", \"run_number\": 8, \"metric\": null, \"status\": \"Completed\", \"run_type\": \"azureml.scriptrun\", \"training_percent\": \"100\", \"start_time\": \"2021-01-23T09:24:10.915124Z\", \"end_time\": \"2021-01-23T09:24:56.796848Z\", \"created_time\": \"2021-01-23T09:23:09.701438Z\", \"created_time_dt\": \"2021-01-23T09:23:09.701438Z\", \"duration\": \"0:01:47\", \"iteration\": \"3\", \"goal\": \"accuracy_max\", \"run_name\": \"MinMaxScaler, RandomForest\", \"run_properties\": \"copy=True, feature_range=(0, 1\", \"primary_metric\": 0.83259887, \"best_metric\": 0.8459887}, {\"run_id\": \"AutoML_da970879-bd7f-4f48-b543-7cb437fa4380_4\", \"run_number\": 9, \"metric\": null, \"status\": \"Completed\", \"run_type\": \"azureml.scriptrun\", \"training_percent\": \"100\", \"start_time\": \"2021-01-23T09:24:39.176929Z\", \"end_time\": \"2021-01-23T09:26:45.87369Z\", \"created_time\": \"2021-01-23T09:24:12.560106Z\", \"created_time_dt\": \"2021-01-23T09:24:12.560106Z\", \"duration\": \"0:02:33\", \"iteration\": \"4\", \"goal\": \"accuracy_max\", \"run_name\": \"MinMaxScaler, RandomForest\", \"run_properties\": \"copy=True, feature_range=(0, 1\", \"primary_metric\": 0.83259887, \"best_metric\": 0.8459887}, {\"run_id\": \"AutoML_da970879-bd7f-4f48-b543-7cb437fa4380_5\", \"run_number\": 10, \"metric\": null, \"status\": \"Completed\", \"run_type\": \"azureml.scriptrun\", \"training_percent\": \"100\", \"start_time\": \"2021-01-23T09:25:13.852276Z\", \"end_time\": \"2021-01-23T09:26:17.967331Z\", \"created_time\": \"2021-01-23T09:25:00.316519Z\", \"created_time_dt\": \"2021-01-23T09:25:00.316519Z\", \"duration\": \"0:01:17\", \"iteration\": \"5\", \"goal\": \"accuracy_max\", \"run_name\": \"MinMaxScaler, SVM\", \"run_properties\": \"copy=True, feature_range=(0, 1\", \"primary_metric\": 0.72242938, \"best_metric\": 0.8459887}, {\"run_id\": \"AutoML_da970879-bd7f-4f48-b543-7cb437fa4380_6\", \"run_number\": 11, \"metric\": null, \"status\": \"Completed\", \"run_type\": \"azureml.scriptrun\", \"training_percent\": \"100\", \"start_time\": \"2021-01-23T09:26:34.911047Z\", \"end_time\": \"2021-01-23T09:27:21.985995Z\", \"created_time\": \"2021-01-23T09:26:20.868101Z\", \"created_time_dt\": \"2021-01-23T09:26:20.868101Z\", \"duration\": \"0:01:01\", \"iteration\": \"6\", \"goal\": \"accuracy_max\", \"run_name\": \"MaxAbsScaler, GradientBoosting\", \"run_properties\": \"copy=True\", \"primary_metric\": 0.82937853, \"best_metric\": 0.8459887}, {\"run_id\": \"AutoML_da970879-bd7f-4f48-b543-7cb437fa4380_7\", \"run_number\": 12, \"metric\": null, \"status\": \"Completed\", \"run_type\": \"azureml.scriptrun\", \"training_percent\": \"100\", \"start_time\": \"2021-01-23T09:26:59.362519Z\", \"end_time\": \"2021-01-23T09:27:42.931275Z\", \"created_time\": \"2021-01-23T09:26:48.176564Z\", \"created_time_dt\": \"2021-01-23T09:26:48.176564Z\", \"duration\": \"0:00:54\", \"iteration\": \"7\", \"goal\": \"accuracy_max\", \"run_name\": \"SparseNormalizer, XGBoostClassifier\", \"run_properties\": \"<azureml.automl.runtime.shared.model_wrappers.SparseNormalizer object at 0x7fd966210eb8\", \"primary_metric\": 0.80937853, \"best_metric\": 0.8459887}, {\"run_id\": \"AutoML_da970879-bd7f-4f48-b543-7cb437fa4380_8\", \"run_number\": 13, \"metric\": null, \"status\": \"Completed\", \"run_type\": \"azureml.scriptrun\", \"training_percent\": \"100\", \"start_time\": \"2021-01-23T09:27:36.941104Z\", \"end_time\": \"2021-01-23T09:28:23.325133Z\", \"created_time\": \"2021-01-23T09:27:24.401265Z\", \"created_time_dt\": \"2021-01-23T09:27:24.401265Z\", \"duration\": \"0:00:58\", \"iteration\": \"8\", \"goal\": \"accuracy_max\", \"run_name\": \"StandardScalerWrapper, RandomForest\", \"run_properties\": \"<azureml.automl.runtime.shared.model_wrappers.StandardScalerWrapper object at 0x7f3ae5930e48\", \"primary_metric\": 0.84949153, \"best_metric\": 0.84949153}, {\"run_id\": \"AutoML_da970879-bd7f-4f48-b543-7cb437fa4380_9\", \"run_number\": 14, \"metric\": null, \"status\": \"Completed\", \"run_type\": \"azureml.scriptrun\", \"training_percent\": \"100\", \"start_time\": \"2021-01-23T09:27:57.993731Z\", \"end_time\": \"2021-01-23T09:28:40.954824Z\", \"created_time\": \"2021-01-23T09:27:45.155527Z\", \"created_time_dt\": \"2021-01-23T09:27:45.155527Z\", \"duration\": \"0:00:55\", \"iteration\": \"9\", \"goal\": \"accuracy_max\", \"run_name\": \"MaxAbsScaler, LightGBM\", \"run_properties\": \"copy=True\", \"primary_metric\": 0.82271186, \"best_metric\": 0.84949153}, {\"run_id\": \"AutoML_da970879-bd7f-4f48-b543-7cb437fa4380_10\", \"run_number\": 15, \"metric\": null, \"status\": \"Completed\", \"run_type\": \"azureml.scriptrun\", \"training_percent\": \"100\", \"start_time\": \"2021-01-23T09:28:38.882742Z\", \"end_time\": \"2021-01-23T09:29:27.432437Z\", \"created_time\": \"2021-01-23T09:28:25.71482Z\", \"created_time_dt\": \"2021-01-23T09:28:25.71482Z\", \"duration\": \"0:01:01\", \"iteration\": \"10\", \"goal\": \"accuracy_max\", \"run_name\": \"MinMaxScaler, LightGBM\", \"run_properties\": \"copy=True, feature_range=(0, 1\", \"primary_metric\": 0.81615819, \"best_metric\": 0.84949153}, {\"run_id\": \"AutoML_da970879-bd7f-4f48-b543-7cb437fa4380_11\", \"run_number\": 16, \"metric\": null, \"status\": \"Completed\", \"run_type\": \"azureml.scriptrun\", \"training_percent\": \"100\", \"start_time\": \"2021-01-23T09:28:54.193427Z\", \"end_time\": \"2021-01-23T09:29:38.837009Z\", \"created_time\": \"2021-01-23T09:28:43.161694Z\", \"created_time_dt\": \"2021-01-23T09:28:43.161694Z\", \"duration\": \"0:00:55\", \"iteration\": \"11\", \"goal\": \"accuracy_max\", \"run_name\": \"RobustScaler, ExtremeRandomTrees\", \"run_properties\": \"copy=True, quantile_range=[25, 75], with_centering=True,\\n             with_scaling=False\", \"primary_metric\": 0.85960452, \"best_metric\": 0.85960452}, {\"run_id\": \"AutoML_da970879-bd7f-4f48-b543-7cb437fa4380_12\", \"run_number\": 17, \"metric\": null, \"status\": \"Completed\", \"run_type\": \"azureml.scriptrun\", \"training_percent\": \"100\", \"start_time\": \"2021-01-23T09:29:42.557175Z\", \"end_time\": \"2021-01-23T09:30:28.135503Z\", \"created_time\": \"2021-01-23T09:29:29.685702Z\", \"created_time_dt\": \"2021-01-23T09:29:29.685702Z\", \"duration\": \"0:00:58\", \"iteration\": \"12\", \"goal\": \"accuracy_max\", \"run_name\": \"SparseNormalizer, LightGBM\", \"run_properties\": \"<azureml.automl.runtime.shared.model_wrappers.SparseNormalizer object at 0x7fd04f30ca20\", \"primary_metric\": 0.83299435, \"best_metric\": 0.85960452}, {\"run_id\": \"AutoML_da970879-bd7f-4f48-b543-7cb437fa4380_13\", \"run_number\": 18, \"metric\": null, \"status\": \"Completed\", \"run_type\": \"azureml.scriptrun\", \"training_percent\": \"100\", \"start_time\": \"2021-01-23T09:29:51.659633Z\", \"end_time\": \"2021-01-23T09:30:39.223868Z\", \"created_time\": \"2021-01-23T09:29:40.978858Z\", \"created_time_dt\": \"2021-01-23T09:29:40.978858Z\", \"duration\": \"0:00:58\", \"iteration\": \"13\", \"goal\": \"accuracy_max\", \"run_name\": \"SparseNormalizer, XGBoostClassifier\", \"run_properties\": \"<azureml.automl.runtime.shared.model_wrappers.SparseNormalizer object at 0x7f9291da4c50\", \"primary_metric\": 0.84615819, \"best_metric\": 0.85960452}, {\"run_id\": \"AutoML_da970879-bd7f-4f48-b543-7cb437fa4380_14\", \"run_number\": 19, \"metric\": null, \"status\": \"Completed\", \"run_type\": \"azureml.scriptrun\", \"training_percent\": \"100\", \"start_time\": \"2021-01-23T09:30:43.870881Z\", \"end_time\": \"2021-01-23T09:31:29.914091Z\", \"created_time\": \"2021-01-23T09:30:30.592165Z\", \"created_time_dt\": \"2021-01-23T09:30:30.592165Z\", \"duration\": \"0:00:59\", \"iteration\": \"14\", \"goal\": \"accuracy_max\", \"run_name\": \"SparseNormalizer, XGBoostClassifier\", \"run_properties\": \"<azureml.automl.runtime.shared.model_wrappers.SparseNormalizer object at 0x7f142d5c5a90\", \"primary_metric\": 0.83966102, \"best_metric\": 0.85960452}, {\"run_id\": \"AutoML_da970879-bd7f-4f48-b543-7cb437fa4380_15\", \"run_number\": 20, \"metric\": null, \"status\": \"Completed\", \"run_type\": \"azureml.scriptrun\", \"training_percent\": \"100\", \"start_time\": \"2021-01-23T09:30:52.406106Z\", \"end_time\": \"2021-01-23T09:31:43.079987Z\", \"created_time\": \"2021-01-23T09:30:41.578673Z\", \"created_time_dt\": \"2021-01-23T09:30:41.578673Z\", \"duration\": \"0:01:01\", \"iteration\": \"15\", \"goal\": \"accuracy_max\", \"run_name\": \"SparseNormalizer, XGBoostClassifier\", \"run_properties\": \"<azureml.automl.runtime.shared.model_wrappers.SparseNormalizer object at 0x7ff78840bcc0\", \"primary_metric\": 0.82282486, \"best_metric\": 0.85960452}, {\"run_id\": \"AutoML_da970879-bd7f-4f48-b543-7cb437fa4380_16\", \"run_number\": 21, \"metric\": null, \"status\": \"Completed\", \"run_type\": \"azureml.scriptrun\", \"training_percent\": \"100\", \"start_time\": \"2021-01-23T09:31:42.644979Z\", \"end_time\": \"2021-01-23T09:32:27.3873Z\", \"created_time\": \"2021-01-23T09:31:32.136678Z\", \"created_time_dt\": \"2021-01-23T09:31:32.136678Z\", \"duration\": \"0:00:55\", \"iteration\": \"16\", \"goal\": \"accuracy_max\", \"run_name\": \"MinMaxScaler, LightGBM\", \"run_properties\": \"copy=True, feature_range=(0, 1\", \"primary_metric\": 0.77254237, \"best_metric\": 0.85960452}, {\"run_id\": \"AutoML_da970879-bd7f-4f48-b543-7cb437fa4380_17\", \"run_number\": 22, \"metric\": null, \"status\": \"Completed\", \"run_type\": \"azureml.scriptrun\", \"training_percent\": \"100\", \"start_time\": \"2021-01-23T09:31:58.108689Z\", \"end_time\": \"2021-01-23T09:32:41.230595Z\", \"created_time\": \"2021-01-23T09:31:45.425025Z\", \"created_time_dt\": \"2021-01-23T09:31:45.425025Z\", \"duration\": \"0:00:55\", \"iteration\": \"17\", \"goal\": \"accuracy_max\", \"run_name\": \"MaxAbsScaler, LightGBM\", \"run_properties\": \"copy=True\", \"primary_metric\": 0.83271186, \"best_metric\": 0.85960452}, {\"run_id\": \"AutoML_da970879-bd7f-4f48-b543-7cb437fa4380_18\", \"run_number\": 23, \"metric\": null, \"status\": \"Completed\", \"run_type\": \"azureml.scriptrun\", \"training_percent\": \"100\", \"start_time\": \"2021-01-23T09:32:39.935523Z\", \"end_time\": \"2021-01-23T09:33:27.289998Z\", \"created_time\": \"2021-01-23T09:32:29.516698Z\", \"created_time_dt\": \"2021-01-23T09:32:29.516698Z\", \"duration\": \"0:00:57\", \"iteration\": \"18\", \"goal\": \"accuracy_max\", \"run_name\": \"StandardScalerWrapper, ExtremeRandomTrees\", \"run_properties\": \"<azureml.automl.runtime.shared.model_wrappers.StandardScalerWrapper object at 0x7f3cfc033cf8\", \"primary_metric\": 0.83943503, \"best_metric\": 0.85960452}, {\"run_id\": \"AutoML_da970879-bd7f-4f48-b543-7cb437fa4380_19\", \"run_number\": 24, \"metric\": null, \"status\": \"Completed\", \"run_type\": \"azureml.scriptrun\", \"training_percent\": \"100\", \"start_time\": \"2021-01-23T09:32:54.722968Z\", \"end_time\": \"2021-01-23T09:33:37.814327Z\", \"created_time\": \"2021-01-23T09:32:43.429392Z\", \"created_time_dt\": \"2021-01-23T09:32:43.429392Z\", \"duration\": \"0:00:54\", \"iteration\": \"19\", \"goal\": \"accuracy_max\", \"run_name\": \"StandardScalerWrapper, LightGBM\", \"run_properties\": \"<azureml.automl.runtime.shared.model_wrappers.StandardScalerWrapper object at 0x7f50b86160b8\", \"primary_metric\": 0.82259887, \"best_metric\": 0.85960452}, {\"run_id\": \"AutoML_da970879-bd7f-4f48-b543-7cb437fa4380_20\", \"run_number\": 25, \"metric\": null, \"status\": \"Completed\", \"run_type\": \"azureml.scriptrun\", \"training_percent\": \"100\", \"start_time\": \"2021-01-23T09:33:41.611675Z\", \"end_time\": \"2021-01-23T09:34:27.257473Z\", \"created_time\": \"2021-01-23T09:33:29.486274Z\", \"created_time_dt\": \"2021-01-23T09:33:29.486274Z\", \"duration\": \"0:00:57\", \"iteration\": \"20\", \"goal\": \"accuracy_max\", \"run_name\": \"StandardScalerWrapper, LightGBM\", \"run_properties\": \"<azureml.automl.runtime.shared.model_wrappers.StandardScalerWrapper object at 0x7f0ace450748\", \"primary_metric\": 0.82937853, \"best_metric\": 0.85960452}, {\"run_id\": \"AutoML_da970879-bd7f-4f48-b543-7cb437fa4380_21\", \"run_number\": 26, \"metric\": null, \"status\": \"Completed\", \"run_type\": \"azureml.scriptrun\", \"training_percent\": \"100\", \"start_time\": \"2021-01-23T09:33:54.560233Z\", \"end_time\": \"2021-01-23T09:34:43.241266Z\", \"created_time\": \"2021-01-23T09:33:40.04298Z\", \"created_time_dt\": \"2021-01-23T09:33:40.04298Z\", \"duration\": \"0:01:03\", \"iteration\": \"21\", \"goal\": \"accuracy_max\", \"run_name\": \"RobustScaler, KNN\", \"run_properties\": \"copy=True, quantile_range=[10, 90], with_centering=False,\\n             with_scaling=False\", \"primary_metric\": 0.60864407, \"best_metric\": 0.85960452}, {\"run_id\": \"AutoML_da970879-bd7f-4f48-b543-7cb437fa4380_22\", \"run_number\": 27, \"metric\": null, \"status\": \"Completed\", \"run_type\": \"azureml.scriptrun\", \"training_percent\": \"100\", \"start_time\": \"2021-01-23T09:34:42.448954Z\", \"end_time\": \"2021-01-23T09:35:19.788863Z\", \"created_time\": \"2021-01-23T09:34:29.657061Z\", \"created_time_dt\": \"2021-01-23T09:34:29.657061Z\", \"duration\": \"0:00:50\", \"iteration\": \"22\", \"goal\": \"accuracy_max\", \"run_name\": \"SparseNormalizer, LightGBM\", \"run_properties\": \"<azureml.automl.runtime.shared.model_wrappers.SparseNormalizer object at 0x7fe6da3c36d8\", \"primary_metric\": 0.7359887, \"best_metric\": 0.85960452}, {\"run_id\": \"AutoML_da970879-bd7f-4f48-b543-7cb437fa4380_23\", \"run_number\": 28, \"metric\": null, \"status\": \"Completed\", \"run_type\": \"azureml.scriptrun\", \"training_percent\": \"100\", \"start_time\": \"2021-01-23T09:34:59.969392Z\", \"end_time\": \"2021-01-23T09:35:39.328917Z\", \"created_time\": \"2021-01-23T09:34:45.398075Z\", \"created_time_dt\": \"2021-01-23T09:34:45.398075Z\", \"duration\": \"0:00:53\", \"iteration\": \"23\", \"goal\": \"accuracy_max\", \"run_name\": \"SparseNormalizer, RandomForest\", \"run_properties\": \"<azureml.automl.runtime.shared.model_wrappers.SparseNormalizer object at 0x7f82a003f940\", \"primary_metric\": 0.82966102, \"best_metric\": 0.85960452}, {\"run_id\": \"AutoML_da970879-bd7f-4f48-b543-7cb437fa4380_24\", \"run_number\": 29, \"metric\": null, \"status\": \"Completed\", \"run_type\": \"azureml.scriptrun\", \"training_percent\": \"100\", \"start_time\": \"2021-01-23T09:35:34.571388Z\", \"end_time\": \"2021-01-23T09:36:23.794247Z\", \"created_time\": \"2021-01-23T09:35:22.148298Z\", \"created_time_dt\": \"2021-01-23T09:35:22.148298Z\", \"duration\": \"0:01:01\", \"iteration\": \"24\", \"goal\": \"accuracy_max\", \"run_name\": \"StandardScalerWrapper, LightGBM\", \"run_properties\": \"<azureml.automl.runtime.shared.model_wrappers.StandardScalerWrapper object at 0x7f9dcb153f28\", \"primary_metric\": 0.83610169, \"best_metric\": 0.85960452}, {\"run_id\": \"AutoML_da970879-bd7f-4f48-b543-7cb437fa4380_25\", \"run_number\": 30, \"metric\": null, \"status\": \"Completed\", \"run_type\": \"azureml.scriptrun\", \"training_percent\": \"100\", \"start_time\": \"2021-01-23T09:35:55.809078Z\", \"end_time\": \"2021-01-23T09:36:47.922351Z\", \"created_time\": \"2021-01-23T09:35:42.655323Z\", \"created_time_dt\": \"2021-01-23T09:35:42.655323Z\", \"duration\": \"0:01:05\", \"iteration\": \"25\", \"goal\": \"accuracy_max\", \"run_name\": \"StandardScalerWrapper, ExtremeRandomTrees\", \"run_properties\": \"<azureml.automl.runtime.shared.model_wrappers.StandardScalerWrapper object at 0x7f9fd6a2ad30\", \"primary_metric\": 0.84621469, \"best_metric\": 0.85960452}, {\"run_id\": \"AutoML_da970879-bd7f-4f48-b543-7cb437fa4380_26\", \"run_number\": 31, \"metric\": null, \"status\": \"Completed\", \"run_type\": \"azureml.scriptrun\", \"training_percent\": \"100\", \"start_time\": \"2021-01-23T09:36:41.281877Z\", \"end_time\": \"2021-01-23T09:37:27.889101Z\", \"created_time\": \"2021-01-23T09:36:27.409308Z\", \"created_time_dt\": \"2021-01-23T09:36:27.409308Z\", \"duration\": \"0:01:00\", \"iteration\": \"26\", \"goal\": \"accuracy_max\", \"run_name\": \"SparseNormalizer, XGBoostClassifier\", \"run_properties\": \"<azureml.automl.runtime.shared.model_wrappers.SparseNormalizer object at 0x7fd08d7c82e8\", \"primary_metric\": 0.84960452, \"best_metric\": 0.85960452}, {\"run_id\": \"AutoML_da970879-bd7f-4f48-b543-7cb437fa4380_27\", \"run_number\": 32, \"metric\": null, \"status\": \"Completed\", \"run_type\": \"azureml.scriptrun\", \"training_percent\": \"100\", \"start_time\": \"2021-01-23T09:37:06.354188Z\", \"end_time\": \"2021-01-23T09:37:49.555922Z\", \"created_time\": \"2021-01-23T09:36:51.6129Z\", \"created_time_dt\": \"2021-01-23T09:36:51.6129Z\", \"duration\": \"0:00:57\", \"iteration\": \"27\", \"goal\": \"accuracy_max\", \"run_name\": \"MaxAbsScaler, LightGBM\", \"run_properties\": \"copy=True\", \"primary_metric\": 0.82937853, \"best_metric\": 0.85960452}, {\"run_id\": \"AutoML_da970879-bd7f-4f48-b543-7cb437fa4380_28\", \"run_number\": 33, \"metric\": null, \"status\": \"Completed\", \"run_type\": \"azureml.scriptrun\", \"training_percent\": \"100\", \"start_time\": \"2021-01-23T09:37:46.01979Z\", \"end_time\": \"2021-01-23T09:38:28.518512Z\", \"created_time\": \"2021-01-23T09:37:31.536861Z\", \"created_time_dt\": \"2021-01-23T09:37:31.536861Z\", \"duration\": \"0:00:56\", \"iteration\": \"28\", \"goal\": \"accuracy_max\", \"run_name\": \"SparseNormalizer, GradientBoosting\", \"run_properties\": \"<azureml.automl.runtime.shared.model_wrappers.SparseNormalizer object at 0x7ff75e8b0b00\", \"primary_metric\": 0.84621469, \"best_metric\": 0.85960452}, {\"run_id\": \"AutoML_da970879-bd7f-4f48-b543-7cb437fa4380_29\", \"run_number\": 34, \"metric\": null, \"status\": \"Completed\", \"run_type\": \"azureml.scriptrun\", \"training_percent\": \"100\", \"start_time\": \"2021-01-23T09:38:05.33452Z\", \"end_time\": \"2021-01-23T09:38:50.018183Z\", \"created_time\": \"2021-01-23T09:37:53.309603Z\", \"created_time_dt\": \"2021-01-23T09:37:53.309603Z\", \"duration\": \"0:00:56\", \"iteration\": \"29\", \"goal\": \"accuracy_max\", \"run_name\": \"StandardScalerWrapper, LightGBM\", \"run_properties\": \"<azureml.automl.runtime.shared.model_wrappers.StandardScalerWrapper object at 0x7f1c3fa6e630\", \"primary_metric\": 0.83254237, \"best_metric\": 0.85960452}, {\"run_id\": \"AutoML_da970879-bd7f-4f48-b543-7cb437fa4380_30\", \"run_number\": 35, \"metric\": null, \"status\": \"Completed\", \"run_type\": \"azureml.scriptrun\", \"training_percent\": \"100\", \"start_time\": \"2021-01-23T09:38:47.288751Z\", \"end_time\": \"2021-01-23T09:39:33.483333Z\", \"created_time\": \"2021-01-23T09:38:32.342385Z\", \"created_time_dt\": \"2021-01-23T09:38:32.342385Z\", \"duration\": \"0:01:01\", \"iteration\": \"30\", \"goal\": \"accuracy_max\", \"run_name\": \"StandardScalerWrapper, ExtremeRandomTrees\", \"run_properties\": \"<azureml.automl.runtime.shared.model_wrappers.StandardScalerWrapper object at 0x7f044c039748\", \"primary_metric\": 0.65757062, \"best_metric\": 0.85960452}, {\"run_id\": \"AutoML_da970879-bd7f-4f48-b543-7cb437fa4380_31\", \"run_number\": 36, \"metric\": null, \"status\": \"Canceled\", \"run_type\": \"azureml.scriptrun\", \"training_percent\": \"100\", \"start_time\": \"2021-01-23T09:39:06.383126Z\", \"end_time\": \"2021-01-23T09:39:41.192817Z\", \"created_time\": \"2021-01-23T09:38:52.722304Z\", \"created_time_dt\": \"2021-01-23T09:38:52.722304Z\", \"duration\": \"0:00:48\", \"iteration\": \"31\", \"goal\": \"accuracy_max\", \"run_name\": \"RobustScaler, LightGBM\", \"run_properties\": \"copy=True, quantile_range=[25, 75], with_centering=True,\\n             with_scaling=False\", \"primary_metric\": 0.82276836, \"best_metric\": 0.85960452}, {\"run_id\": \"AutoML_da970879-bd7f-4f48-b543-7cb437fa4380_32\", \"run_number\": 37, \"metric\": null, \"status\": \"Completed\", \"run_type\": \"azureml.scriptrun\", \"training_percent\": \"100\", \"start_time\": \"2021-01-23T09:39:57.876364Z\", \"end_time\": \"2021-01-23T09:41:10.010047Z\", \"created_time\": \"2021-01-23T09:39:43.474012Z\", \"created_time_dt\": \"2021-01-23T09:39:43.474012Z\", \"duration\": \"0:01:26\", \"iteration\": \"32\", \"goal\": \"accuracy_max\", \"run_name\": \"VotingEnsemble\", \"run_properties\": \"classification_labels=None,\\n                              estimators=[('11',\\n                                           Pipeline(memory=None,\\n                                                    steps=[('robustscaler',\\n                                                            RobustScaler(copy=True,\\n                                                                         quantile_range=[25,\\n                                                                                         75],\\n                                                                         with_centering=True,\\n                                                                         with_scaling=False\", \"primary_metric\": 0.87299435, \"best_metric\": 0.87299435}, {\"run_id\": \"AutoML_da970879-bd7f-4f48-b543-7cb437fa4380_33\", \"run_number\": 38, \"metric\": null, \"status\": \"Completed\", \"run_type\": \"azureml.scriptrun\", \"training_percent\": \"100\", \"start_time\": \"2021-01-23T09:39:56.29533Z\", \"end_time\": \"2021-01-23T09:41:09.78155Z\", \"created_time\": \"2021-01-23T09:39:43.593661Z\", \"created_time_dt\": \"2021-01-23T09:39:43.593661Z\", \"duration\": \"0:01:26\", \"iteration\": \"33\", \"goal\": \"accuracy_max\", \"run_name\": \"StackEnsemble\", \"run_properties\": \"base_learners=[('11',\\n                                        Pipeline(memory=None,\\n                                                 steps=[('robustscaler',\\n                                                         RobustScaler(copy=True,\\n                                                                      quantile_range=[25,\\n                                                                                      75],\\n                                                                      with_centering=True,\\n                                                                      with_scaling=False\", \"primary_metric\": 0.86293785, \"best_metric\": 0.87299435}], \"children_metrics\": {\"categories\": [0], \"series\": {\"precision_score_weighted\": [{\"categories\": [\"0\", \"1\", \"2\", \"3\", \"4\", \"5\", \"6\", \"7\", \"8\", \"9\", \"10\", \"11\", \"12\", \"13\", \"14\", \"15\", \"16\", \"17\", \"18\", \"19\", \"20\", \"21\", \"22\", \"23\", \"24\", \"25\", \"26\", \"27\", \"28\", \"29\", \"30\", \"31\", \"32\", \"33\"], \"mode\": \"markers\", \"name\": \"precision_score_weighted\", \"stepped\": false, \"type\": \"scatter\", \"data\": [0.8237683758533973, 0.8403871377947292, 0.8565754270038919, 0.8475021254932926, 0.8521341055347177, 0.7366061562438987, 0.8445187363800404, 0.8196810460480322, 0.8663419301978624, 0.8361078787627895, 0.8351820421085817, 0.8744794714353097, 0.8531774663897151, 0.8595500654174952, 0.8486564553883307, 0.8454421284857526, 0.7962027427641425, 0.8453674731475027, 0.8530185564768772, 0.8391766538675354, 0.8431885337243926, 0.5978609170806491, 0.7711126709754, 0.8371006145881921, 0.8480247880963226, 0.862003583267865, 0.8634172995690739, 0.8422024721448331, 0.8643124575416395, 0.8476938301197696, 0.6286487847958998, 0.8361373387787093, 0.8911353521682471, 0.8813607090393336]}, {\"categories\": [\"0\", \"1\", \"2\", \"3\", \"4\", \"5\", \"6\", \"7\", \"8\", \"9\", \"10\", \"11\", \"12\", \"13\", \"14\", \"15\", \"16\", \"17\", \"18\", \"19\", \"20\", \"21\", \"22\", \"23\", \"24\", \"25\", \"26\", \"27\", \"28\", \"29\", \"30\", \"31\", \"32\", \"33\"], \"mode\": \"lines\", \"name\": \"precision_score_weighted_max\", \"stepped\": true, \"type\": \"scatter\", \"data\": [0.8237683758533973, 0.8403871377947292, 0.8565754270038919, 0.8565754270038919, 0.8565754270038919, 0.8565754270038919, 0.8565754270038919, 0.8565754270038919, 0.8663419301978624, 0.8663419301978624, 0.8663419301978624, 0.8744794714353097, 0.8744794714353097, 0.8744794714353097, 0.8744794714353097, 0.8744794714353097, 0.8744794714353097, 0.8744794714353097, 0.8744794714353097, 0.8744794714353097, 0.8744794714353097, 0.8744794714353097, 0.8744794714353097, 0.8744794714353097, 0.8744794714353097, 0.8744794714353097, 0.8744794714353097, 0.8744794714353097, 0.8744794714353097, 0.8744794714353097, 0.8744794714353097, 0.8744794714353097, 0.8911353521682471, 0.8911353521682471]}], \"precision_score_micro\": [{\"categories\": [\"0\", \"1\", \"2\", \"3\", \"4\", \"5\", \"6\", \"7\", \"8\", \"9\", \"10\", \"11\", \"12\", \"13\", \"14\", \"15\", \"16\", \"17\", \"18\", \"19\", \"20\", \"21\", \"22\", \"23\", \"24\", \"25\", \"26\", \"27\", \"28\", \"29\", \"30\", \"31\", \"32\", \"33\"], \"mode\": \"markers\", \"name\": \"precision_score_micro\", \"stepped\": false, \"type\": \"scatter\", \"data\": [0.8059887005649717, 0.8259322033898304, 0.8459887005649718, 0.8325988700564972, 0.8325988700564972, 0.7224293785310734, 0.8293785310734464, 0.8093785310734465, 0.8494915254237287, 0.8227118644067797, 0.8161581920903955, 0.8596045197740112, 0.8329943502824859, 0.8461581920903954, 0.8396610169491525, 0.8228248587570622, 0.7725423728813559, 0.8327118644067795, 0.8394350282485876, 0.8225988700564972, 0.8293785310734464, 0.6086440677966103, 0.7359887005649718, 0.8296610169491526, 0.8361016949152542, 0.8462146892655367, 0.8496045197740113, 0.8293785310734464, 0.8462146892655367, 0.8325423728813559, 0.6575706214689265, 0.822768361581921, 0.872994350282486, 0.8629378531073446]}, {\"categories\": [\"0\", \"1\", \"2\", \"3\", \"4\", \"5\", \"6\", \"7\", \"8\", \"9\", \"10\", \"11\", \"12\", \"13\", \"14\", \"15\", \"16\", \"17\", \"18\", \"19\", \"20\", \"21\", \"22\", \"23\", \"24\", \"25\", \"26\", \"27\", \"28\", \"29\", \"30\", \"31\", \"32\", \"33\"], \"mode\": \"lines\", \"name\": \"precision_score_micro_max\", \"stepped\": true, \"type\": \"scatter\", \"data\": [0.8059887005649717, 0.8259322033898304, 0.8459887005649718, 0.8459887005649718, 0.8459887005649718, 0.8459887005649718, 0.8459887005649718, 0.8459887005649718, 0.8494915254237287, 0.8494915254237287, 0.8494915254237287, 0.8596045197740112, 0.8596045197740112, 0.8596045197740112, 0.8596045197740112, 0.8596045197740112, 0.8596045197740112, 0.8596045197740112, 0.8596045197740112, 0.8596045197740112, 0.8596045197740112, 0.8596045197740112, 0.8596045197740112, 0.8596045197740112, 0.8596045197740112, 0.8596045197740112, 0.8596045197740112, 0.8596045197740112, 0.8596045197740112, 0.8596045197740112, 0.8596045197740112, 0.8596045197740112, 0.872994350282486, 0.872994350282486]}], \"recall_score_micro\": [{\"categories\": [\"0\", \"1\", \"2\", \"3\", \"4\", \"5\", \"6\", \"7\", \"8\", \"9\", \"10\", \"11\", \"12\", \"13\", \"14\", \"15\", \"16\", \"17\", \"18\", \"19\", \"20\", \"21\", \"22\", \"23\", \"24\", \"25\", \"26\", \"27\", \"28\", \"29\", \"30\", \"31\", \"32\", \"33\"], \"mode\": \"markers\", \"name\": \"recall_score_micro\", \"stepped\": false, \"type\": \"scatter\", \"data\": [0.8059887005649717, 0.8259322033898304, 0.8459887005649718, 0.8325988700564972, 0.8325988700564972, 0.7224293785310734, 0.8293785310734464, 0.8093785310734465, 0.8494915254237287, 0.8227118644067797, 0.8161581920903955, 0.8596045197740112, 0.8329943502824859, 0.8461581920903954, 0.8396610169491525, 0.8228248587570622, 0.7725423728813559, 0.8327118644067795, 0.8394350282485876, 0.8225988700564972, 0.8293785310734464, 0.6086440677966103, 0.7359887005649718, 0.8296610169491526, 0.8361016949152542, 0.8462146892655367, 0.8496045197740113, 0.8293785310734464, 0.8462146892655367, 0.8325423728813559, 0.6575706214689265, 0.822768361581921, 0.872994350282486, 0.8629378531073446]}, {\"categories\": [\"0\", \"1\", \"2\", \"3\", \"4\", \"5\", \"6\", \"7\", \"8\", \"9\", \"10\", \"11\", \"12\", \"13\", \"14\", \"15\", \"16\", \"17\", \"18\", \"19\", \"20\", \"21\", \"22\", \"23\", \"24\", \"25\", \"26\", \"27\", \"28\", \"29\", \"30\", \"31\", \"32\", \"33\"], \"mode\": \"lines\", \"name\": \"recall_score_micro_max\", \"stepped\": true, \"type\": \"scatter\", \"data\": [0.8059887005649717, 0.8259322033898304, 0.8459887005649718, 0.8459887005649718, 0.8459887005649718, 0.8459887005649718, 0.8459887005649718, 0.8459887005649718, 0.8494915254237287, 0.8494915254237287, 0.8494915254237287, 0.8596045197740112, 0.8596045197740112, 0.8596045197740112, 0.8596045197740112, 0.8596045197740112, 0.8596045197740112, 0.8596045197740112, 0.8596045197740112, 0.8596045197740112, 0.8596045197740112, 0.8596045197740112, 0.8596045197740112, 0.8596045197740112, 0.8596045197740112, 0.8596045197740112, 0.8596045197740112, 0.8596045197740112, 0.8596045197740112, 0.8596045197740112, 0.8596045197740112, 0.8596045197740112, 0.872994350282486, 0.872994350282486]}], \"AUC_weighted\": [{\"categories\": [\"0\", \"1\", \"2\", \"3\", \"4\", \"5\", \"6\", \"7\", \"8\", \"9\", \"10\", \"11\", \"12\", \"13\", \"14\", \"15\", \"16\", \"17\", \"18\", \"19\", \"20\", \"21\", \"22\", \"23\", \"24\", \"25\", \"26\", \"27\", \"28\", \"29\", \"30\", \"31\", \"32\", \"33\"], \"mode\": \"markers\", \"name\": \"AUC_weighted\", \"stepped\": false, \"type\": \"scatter\", \"data\": [0.8811331210778885, 0.8929591177556293, 0.9155140503875969, 0.8952437707641195, 0.8983147379106681, 0.7393196982281285, 0.9052362264673312, 0.8592381875230715, 0.9043166758951642, 0.8940475959763751, 0.8967023348098928, 0.900093438538206, 0.8876433877814691, 0.8944780592469546, 0.8876623292727943, 0.8974649317091178, 0.8769880260243632, 0.9019473283499447, 0.8853667635658914, 0.8997687569213731, 0.9030714977851606, 0.47840060908084164, 0.8636335825027686, 0.8818835594315246, 0.8906933370247323, 0.871844199889258, 0.8940481035437431, 0.8995870939461057, 0.8916991740494649, 0.9011368124769288, 0.7035119047619048, 0.9052815614617942, 0.9151304909560721, 0.9134439368770764]}, {\"categories\": [\"0\", \"1\", \"2\", \"3\", \"4\", \"5\", \"6\", \"7\", \"8\", \"9\", \"10\", \"11\", \"12\", \"13\", \"14\", \"15\", \"16\", \"17\", \"18\", \"19\", \"20\", \"21\", \"22\", \"23\", \"24\", \"25\", \"26\", \"27\", \"28\", \"29\", \"30\", \"31\", \"32\", \"33\"], \"mode\": \"lines\", \"name\": \"AUC_weighted_max\", \"stepped\": true, \"type\": \"scatter\", \"data\": [0.8811331210778885, 0.8929591177556293, 0.9155140503875969, 0.9155140503875969, 0.9155140503875969, 0.9155140503875969, 0.9155140503875969, 0.9155140503875969, 0.9155140503875969, 0.9155140503875969, 0.9155140503875969, 0.9155140503875969, 0.9155140503875969, 0.9155140503875969, 0.9155140503875969, 0.9155140503875969, 0.9155140503875969, 0.9155140503875969, 0.9155140503875969, 0.9155140503875969, 0.9155140503875969, 0.9155140503875969, 0.9155140503875969, 0.9155140503875969, 0.9155140503875969, 0.9155140503875969, 0.9155140503875969, 0.9155140503875969, 0.9155140503875969, 0.9155140503875969, 0.9155140503875969, 0.9155140503875969, 0.9155140503875969, 0.9155140503875969]}], \"AUC_macro\": [{\"categories\": [\"0\", \"1\", \"2\", \"3\", \"4\", \"5\", \"6\", \"7\", \"8\", \"9\", \"10\", \"11\", \"12\", \"13\", \"14\", \"15\", \"16\", \"17\", \"18\", \"19\", \"20\", \"21\", \"22\", \"23\", \"24\", \"25\", \"26\", \"27\", \"28\", \"29\", \"30\", \"31\", \"32\", \"33\"], \"mode\": \"markers\", \"name\": \"AUC_macro\", \"stepped\": false, \"type\": \"scatter\", \"data\": [0.8811331210778885, 0.8929591177556295, 0.9155140503875968, 0.8952437707641195, 0.8983147379106681, 0.7393196982281285, 0.9052362264673312, 0.8592381875230715, 0.9043166758951642, 0.8940475959763751, 0.8967023348098928, 0.900093438538206, 0.8876433877814691, 0.8944780592469547, 0.8876623292727943, 0.8974649317091178, 0.8769880260243632, 0.9019473283499447, 0.8853667635658914, 0.8997687569213731, 0.9030714977851606, 0.47840060908084164, 0.8636335825027686, 0.8818835594315246, 0.8906933370247323, 0.871844199889258, 0.8940481035437431, 0.8995870939461057, 0.8916991740494649, 0.9011368124769288, 0.7035119047619048, 0.9052815614617942, 0.9151304909560725, 0.9134439368770764]}, {\"categories\": [\"0\", \"1\", \"2\", \"3\", \"4\", \"5\", \"6\", \"7\", \"8\", \"9\", \"10\", \"11\", \"12\", \"13\", \"14\", \"15\", \"16\", \"17\", \"18\", \"19\", \"20\", \"21\", \"22\", \"23\", \"24\", \"25\", \"26\", \"27\", \"28\", \"29\", \"30\", \"31\", \"32\", \"33\"], \"mode\": \"lines\", \"name\": \"AUC_macro_max\", \"stepped\": true, \"type\": \"scatter\", \"data\": [0.8811331210778885, 0.8929591177556295, 0.9155140503875968, 0.9155140503875968, 0.9155140503875968, 0.9155140503875968, 0.9155140503875968, 0.9155140503875968, 0.9155140503875968, 0.9155140503875968, 0.9155140503875968, 0.9155140503875968, 0.9155140503875968, 0.9155140503875968, 0.9155140503875968, 0.9155140503875968, 0.9155140503875968, 0.9155140503875968, 0.9155140503875968, 0.9155140503875968, 0.9155140503875968, 0.9155140503875968, 0.9155140503875968, 0.9155140503875968, 0.9155140503875968, 0.9155140503875968, 0.9155140503875968, 0.9155140503875968, 0.9155140503875968, 0.9155140503875968, 0.9155140503875968, 0.9155140503875968, 0.9155140503875968, 0.9155140503875968]}], \"recall_score_macro\": [{\"categories\": [\"0\", \"1\", \"2\", \"3\", \"4\", \"5\", \"6\", \"7\", \"8\", \"9\", \"10\", \"11\", \"12\", \"13\", \"14\", \"15\", \"16\", \"17\", \"18\", \"19\", \"20\", \"21\", \"22\", \"23\", \"24\", \"25\", \"26\", \"27\", \"28\", \"29\", \"30\", \"31\", \"32\", \"33\"], \"mode\": \"markers\", \"name\": \"recall_score_macro\", \"stepped\": false, \"type\": \"scatter\", \"data\": [0.7760209025470652, 0.8060125968992248, 0.8215566168327795, 0.8080959302325581, 0.8181852159468439, 0.6432613510520487, 0.8037589977851607, 0.7602512458471761, 0.8082059800664452, 0.7812631506090808, 0.7494601328903654, 0.8162202380952381, 0.8043410852713178, 0.8053488372093023, 0.810765503875969, 0.7757101328903655, 0.7118839977851605, 0.8057274363233665, 0.7863946566998893, 0.7989334163898117, 0.8020923311184939, 0.5248823366555925, 0.6281506090808417, 0.8010970376522704, 0.8015012458471761, 0.7916369047619047, 0.8112458471760797, 0.7947709025470653, 0.8118410852713179, 0.8086911683277963, 0.6599702380952381, 0.7671940753045405, 0.8355952380952381, 0.8316029900332225]}, {\"categories\": [\"0\", \"1\", \"2\", \"3\", \"4\", \"5\", \"6\", \"7\", \"8\", \"9\", \"10\", \"11\", \"12\", \"13\", \"14\", \"15\", \"16\", \"17\", \"18\", \"19\", \"20\", \"21\", \"22\", \"23\", \"24\", \"25\", \"26\", \"27\", \"28\", \"29\", \"30\", \"31\", \"32\", \"33\"], \"mode\": \"lines\", \"name\": \"recall_score_macro_max\", \"stepped\": true, \"type\": \"scatter\", \"data\": [0.7760209025470652, 0.8060125968992248, 0.8215566168327795, 0.8215566168327795, 0.8215566168327795, 0.8215566168327795, 0.8215566168327795, 0.8215566168327795, 0.8215566168327795, 0.8215566168327795, 0.8215566168327795, 0.8215566168327795, 0.8215566168327795, 0.8215566168327795, 0.8215566168327795, 0.8215566168327795, 0.8215566168327795, 0.8215566168327795, 0.8215566168327795, 0.8215566168327795, 0.8215566168327795, 0.8215566168327795, 0.8215566168327795, 0.8215566168327795, 0.8215566168327795, 0.8215566168327795, 0.8215566168327795, 0.8215566168327795, 0.8215566168327795, 0.8215566168327795, 0.8215566168327795, 0.8215566168327795, 0.8355952380952381, 0.8355952380952381]}], \"average_precision_score_micro\": [{\"categories\": [\"0\", \"1\", \"2\", \"3\", \"4\", \"5\", \"6\", \"7\", \"8\", \"9\", \"10\", \"11\", \"12\", \"13\", \"14\", \"15\", \"16\", \"17\", \"18\", \"19\", \"20\", \"21\", \"22\", \"23\", \"24\", \"25\", \"26\", \"27\", \"28\", \"29\", \"30\", \"31\", \"32\", \"33\"], \"mode\": \"markers\", \"name\": \"average_precision_score_micro\", \"stepped\": false, \"type\": \"scatter\", \"data\": [0.887958292631032, 0.9018582931163117, 0.9245978166723816, 0.9003583557284367, 0.902436010092346, 0.7576889356175017, 0.9117005582373405, 0.8723071880091318, 0.9059363880480141, 0.8859490806858659, 0.9000157462971572, 0.9065332488879946, 0.893386848713541, 0.9042447745018253, 0.8958867734484735, 0.9044458223285808, 0.8853089489416863, 0.908724933827612, 0.8913077090977323, 0.909348771526029, 0.9106439853092263, 0.6220042854287747, 0.8620247960064281, 0.900969657285431, 0.8978341700643646, 0.8838817681681942, 0.9026020432426062, 0.9043934390558483, 0.8945699542555833, 0.9050966394823581, 0.7033000525174005, 0.9081795845902798, 0.9148793997920681, 0.9117290529028154]}, {\"categories\": [\"0\", \"1\", \"2\", \"3\", \"4\", \"5\", \"6\", \"7\", \"8\", \"9\", \"10\", \"11\", \"12\", \"13\", \"14\", \"15\", \"16\", \"17\", \"18\", \"19\", \"20\", \"21\", \"22\", \"23\", \"24\", \"25\", \"26\", \"27\", \"28\", \"29\", \"30\", \"31\", \"32\", \"33\"], \"mode\": \"lines\", \"name\": \"average_precision_score_micro_max\", \"stepped\": true, \"type\": \"scatter\", \"data\": [0.887958292631032, 0.9018582931163117, 0.9245978166723816, 0.9245978166723816, 0.9245978166723816, 0.9245978166723816, 0.9245978166723816, 0.9245978166723816, 0.9245978166723816, 0.9245978166723816, 0.9245978166723816, 0.9245978166723816, 0.9245978166723816, 0.9245978166723816, 0.9245978166723816, 0.9245978166723816, 0.9245978166723816, 0.9245978166723816, 0.9245978166723816, 0.9245978166723816, 0.9245978166723816, 0.9245978166723816, 0.9245978166723816, 0.9245978166723816, 0.9245978166723816, 0.9245978166723816, 0.9245978166723816, 0.9245978166723816, 0.9245978166723816, 0.9245978166723816, 0.9245978166723816, 0.9245978166723816, 0.9245978166723816, 0.9245978166723816]}], \"f1_score_micro\": [{\"categories\": [\"0\", \"1\", \"2\", \"3\", \"4\", \"5\", \"6\", \"7\", \"8\", \"9\", \"10\", \"11\", \"12\", \"13\", \"14\", \"15\", \"16\", \"17\", \"18\", \"19\", \"20\", \"21\", \"22\", \"23\", \"24\", \"25\", \"26\", \"27\", \"28\", \"29\", \"30\", \"31\", \"32\", \"33\"], \"mode\": \"markers\", \"name\": \"f1_score_micro\", \"stepped\": false, \"type\": \"scatter\", \"data\": [0.8059887005649718, 0.8259322033898304, 0.8459887005649718, 0.8325988700564972, 0.8325988700564972, 0.7224293785310734, 0.8293785310734464, 0.8093785310734465, 0.8494915254237287, 0.8227118644067797, 0.8161581920903955, 0.8596045197740112, 0.8329943502824859, 0.8461581920903954, 0.8396610169491525, 0.8228248587570622, 0.772542372881356, 0.8327118644067797, 0.8394350282485876, 0.8225988700564972, 0.8293785310734464, 0.6086440677966103, 0.7359887005649718, 0.8296610169491526, 0.8361016949152542, 0.8462146892655367, 0.8496045197740113, 0.8293785310734464, 0.8462146892655367, 0.8325423728813559, 0.6575706214689265, 0.822768361581921, 0.872994350282486, 0.8629378531073446]}, {\"categories\": [\"0\", \"1\", \"2\", \"3\", \"4\", \"5\", \"6\", \"7\", \"8\", \"9\", \"10\", \"11\", \"12\", \"13\", \"14\", \"15\", \"16\", \"17\", \"18\", \"19\", \"20\", \"21\", \"22\", \"23\", \"24\", \"25\", \"26\", \"27\", \"28\", \"29\", \"30\", \"31\", \"32\", \"33\"], \"mode\": \"lines\", \"name\": \"f1_score_micro_max\", \"stepped\": true, \"type\": \"scatter\", \"data\": [0.8059887005649718, 0.8259322033898304, 0.8459887005649718, 0.8459887005649718, 0.8459887005649718, 0.8459887005649718, 0.8459887005649718, 0.8459887005649718, 0.8494915254237287, 0.8494915254237287, 0.8494915254237287, 0.8596045197740112, 0.8596045197740112, 0.8596045197740112, 0.8596045197740112, 0.8596045197740112, 0.8596045197740112, 0.8596045197740112, 0.8596045197740112, 0.8596045197740112, 0.8596045197740112, 0.8596045197740112, 0.8596045197740112, 0.8596045197740112, 0.8596045197740112, 0.8596045197740112, 0.8596045197740112, 0.8596045197740112, 0.8596045197740112, 0.8596045197740112, 0.8596045197740112, 0.8596045197740112, 0.872994350282486, 0.872994350282486]}], \"norm_macro_recall\": [{\"categories\": [\"0\", \"1\", \"2\", \"3\", \"4\", \"5\", \"6\", \"7\", \"8\", \"9\", \"10\", \"11\", \"12\", \"13\", \"14\", \"15\", \"16\", \"17\", \"18\", \"19\", \"20\", \"21\", \"22\", \"23\", \"24\", \"25\", \"26\", \"27\", \"28\", \"29\", \"30\", \"31\", \"32\", \"33\"], \"mode\": \"markers\", \"name\": \"norm_macro_recall\", \"stepped\": false, \"type\": \"scatter\", \"data\": [0.5520418050941306, 0.6120251937984496, 0.6431132336655592, 0.6161918604651163, 0.6363704318936877, 0.2865227021040974, 0.6075179955703213, 0.5205024916943521, 0.6164119601328903, 0.5625263012181616, 0.4989202657807309, 0.6324404761904763, 0.6086821705426356, 0.6106976744186047, 0.6215310077519379, 0.5514202657807308, 0.4237679955703212, 0.611454872646733, 0.5727893133997786, 0.5978668327796235, 0.6041846622369877, 0.0747646733111849, 0.25630121816168333, 0.6021940753045405, 0.6030024916943522, 0.5832738095238096, 0.6224916943521595, 0.5895418050941306, 0.6236821705426356, 0.6173823366555925, 0.3199404761904762, 0.5343881506090808, 0.6711904761904763, 0.6632059800664452]}, {\"categories\": [\"0\", \"1\", \"2\", \"3\", \"4\", \"5\", \"6\", \"7\", \"8\", \"9\", \"10\", \"11\", \"12\", \"13\", \"14\", \"15\", \"16\", \"17\", \"18\", \"19\", \"20\", \"21\", \"22\", \"23\", \"24\", \"25\", \"26\", \"27\", \"28\", \"29\", \"30\", \"31\", \"32\", \"33\"], \"mode\": \"lines\", \"name\": \"norm_macro_recall_max\", \"stepped\": true, \"type\": \"scatter\", \"data\": [0.5520418050941306, 0.6120251937984496, 0.6431132336655592, 0.6431132336655592, 0.6431132336655592, 0.6431132336655592, 0.6431132336655592, 0.6431132336655592, 0.6431132336655592, 0.6431132336655592, 0.6431132336655592, 0.6431132336655592, 0.6431132336655592, 0.6431132336655592, 0.6431132336655592, 0.6431132336655592, 0.6431132336655592, 0.6431132336655592, 0.6431132336655592, 0.6431132336655592, 0.6431132336655592, 0.6431132336655592, 0.6431132336655592, 0.6431132336655592, 0.6431132336655592, 0.6431132336655592, 0.6431132336655592, 0.6431132336655592, 0.6431132336655592, 0.6431132336655592, 0.6431132336655592, 0.6431132336655592, 0.6711904761904763, 0.6711904761904763]}], \"f1_score_macro\": [{\"categories\": [\"0\", \"1\", \"2\", \"3\", \"4\", \"5\", \"6\", \"7\", \"8\", \"9\", \"10\", \"11\", \"12\", \"13\", \"14\", \"15\", \"16\", \"17\", \"18\", \"19\", \"20\", \"21\", \"22\", \"23\", \"24\", \"25\", \"26\", \"27\", \"28\", \"29\", \"30\", \"31\", \"32\", \"33\"], \"mode\": \"markers\", \"name\": \"f1_score_macro\", \"stepped\": false, \"type\": \"scatter\", \"data\": [0.7682096405971308, 0.7972526241921125, 0.8148845771910288, 0.8015166026427932, 0.803457141509667, 0.6358935046435047, 0.7953764645881183, 0.7611013563473851, 0.8122178276366337, 0.7815130779783559, 0.7625919451180303, 0.8268703433395771, 0.8017629707082936, 0.8101538122371454, 0.8095790583685322, 0.7768327327539442, 0.7091401478329059, 0.7989497808347468, 0.7964052426970515, 0.7881168114099631, 0.7956235504288897, 0.5084614725447576, 0.6168402995471961, 0.798544855383565, 0.8013715046110628, 0.805542950002369, 0.8161275803155832, 0.7927429003973943, 0.8116479044130397, 0.7994761337527653, 0.6020230646100211, 0.7756378294341216, 0.8442980567211962, 0.8323086798753081]}, {\"categories\": [\"0\", \"1\", \"2\", \"3\", \"4\", \"5\", \"6\", \"7\", \"8\", \"9\", \"10\", \"11\", \"12\", \"13\", \"14\", \"15\", \"16\", \"17\", \"18\", \"19\", \"20\", \"21\", \"22\", \"23\", \"24\", \"25\", \"26\", \"27\", \"28\", \"29\", \"30\", \"31\", \"32\", \"33\"], \"mode\": \"lines\", \"name\": \"f1_score_macro_max\", \"stepped\": true, \"type\": \"scatter\", \"data\": [0.7682096405971308, 0.7972526241921125, 0.8148845771910288, 0.8148845771910288, 0.8148845771910288, 0.8148845771910288, 0.8148845771910288, 0.8148845771910288, 0.8148845771910288, 0.8148845771910288, 0.8148845771910288, 0.8268703433395771, 0.8268703433395771, 0.8268703433395771, 0.8268703433395771, 0.8268703433395771, 0.8268703433395771, 0.8268703433395771, 0.8268703433395771, 0.8268703433395771, 0.8268703433395771, 0.8268703433395771, 0.8268703433395771, 0.8268703433395771, 0.8268703433395771, 0.8268703433395771, 0.8268703433395771, 0.8268703433395771, 0.8268703433395771, 0.8268703433395771, 0.8268703433395771, 0.8268703433395771, 0.8442980567211962, 0.8442980567211962]}], \"log_loss\": [{\"categories\": [\"0\", \"1\", \"2\", \"3\", \"4\", \"5\", \"6\", \"7\", \"8\", \"9\", \"10\", \"11\", \"12\", \"13\", \"14\", \"15\", \"16\", \"17\", \"18\", \"19\", \"20\", \"21\", \"22\", \"23\", \"24\", \"25\", \"26\", \"27\", \"28\", \"29\", \"30\", \"31\", \"32\", \"33\"], \"mode\": \"markers\", \"name\": \"log_loss\", \"stepped\": false, \"type\": \"scatter\", \"data\": [0.5282491261622873, 0.43217688137359717, 0.3638479573788751, 0.4158133335922007, 0.4016570059868533, 0.5888872497850874, 0.3790123242526536, 0.4899611430866921, 0.41529751602502063, 0.4583476083735859, 0.4331556229669603, 0.4070663993517667, 0.41472333246893617, 0.39424331638853444, 0.4049669611121631, 0.39622241912559064, 0.4487036146132519, 0.3884721228674116, 0.44176554891913283, 0.3906382205965128, 0.40490375309255955, 0.7914519453540804, 0.5024561025750567, 0.4070148445894407, 0.43199461094092906, 0.458112423867607, 0.38995629857272407, 0.4126004389110068, 0.40270097518071335, 0.4085196824015308, 0.6801503936661438, 0.41697718211653656, 0.4024731295052681, 0.3938494257234418]}, {\"categories\": [\"0\", \"1\", \"2\", \"3\", \"4\", \"5\", \"6\", \"7\", \"8\", \"9\", \"10\", \"11\", \"12\", \"13\", \"14\", \"15\", \"16\", \"17\", \"18\", \"19\", \"20\", \"21\", \"22\", \"23\", \"24\", \"25\", \"26\", \"27\", \"28\", \"29\", \"30\", \"31\", \"32\", \"33\"], \"mode\": \"lines\", \"name\": \"log_loss_min\", \"stepped\": true, \"type\": \"scatter\", \"data\": [0.5282491261622873, 0.43217688137359717, 0.3638479573788751, 0.3638479573788751, 0.3638479573788751, 0.3638479573788751, 0.3638479573788751, 0.3638479573788751, 0.3638479573788751, 0.3638479573788751, 0.3638479573788751, 0.3638479573788751, 0.3638479573788751, 0.3638479573788751, 0.3638479573788751, 0.3638479573788751, 0.3638479573788751, 0.3638479573788751, 0.3638479573788751, 0.3638479573788751, 0.3638479573788751, 0.3638479573788751, 0.3638479573788751, 0.3638479573788751, 0.3638479573788751, 0.3638479573788751, 0.3638479573788751, 0.3638479573788751, 0.3638479573788751, 0.3638479573788751, 0.3638479573788751, 0.3638479573788751, 0.3638479573788751, 0.3638479573788751]}], \"balanced_accuracy\": [{\"categories\": [\"0\", \"1\", \"2\", \"3\", \"4\", \"5\", \"6\", \"7\", \"8\", \"9\", \"10\", \"11\", \"12\", \"13\", \"14\", \"15\", \"16\", \"17\", \"18\", \"19\", \"20\", \"21\", \"22\", \"23\", \"24\", \"25\", \"26\", \"27\", \"28\", \"29\", \"30\", \"31\", \"32\", \"33\"], \"mode\": \"markers\", \"name\": \"balanced_accuracy\", \"stepped\": false, \"type\": \"scatter\", \"data\": [0.7760209025470652, 0.8060125968992248, 0.8215566168327795, 0.8080959302325581, 0.8181852159468439, 0.6432613510520487, 0.8037589977851607, 0.7602512458471761, 0.8082059800664452, 0.7812631506090808, 0.7494601328903654, 0.8162202380952381, 0.8043410852713178, 0.8053488372093023, 0.810765503875969, 0.7757101328903655, 0.7118839977851605, 0.8057274363233665, 0.7863946566998893, 0.7989334163898117, 0.8020923311184939, 0.5248823366555925, 0.6281506090808417, 0.8010970376522704, 0.8015012458471761, 0.7916369047619047, 0.8112458471760797, 0.7947709025470653, 0.8118410852713179, 0.8086911683277963, 0.6599702380952381, 0.7671940753045405, 0.8355952380952381, 0.8316029900332225]}, {\"categories\": [\"0\", \"1\", \"2\", \"3\", \"4\", \"5\", \"6\", \"7\", \"8\", \"9\", \"10\", \"11\", \"12\", \"13\", \"14\", \"15\", \"16\", \"17\", \"18\", \"19\", \"20\", \"21\", \"22\", \"23\", \"24\", \"25\", \"26\", \"27\", \"28\", \"29\", \"30\", \"31\", \"32\", \"33\"], \"mode\": \"lines\", \"name\": \"balanced_accuracy_max\", \"stepped\": true, \"type\": \"scatter\", \"data\": [0.7760209025470652, 0.8060125968992248, 0.8215566168327795, 0.8215566168327795, 0.8215566168327795, 0.8215566168327795, 0.8215566168327795, 0.8215566168327795, 0.8215566168327795, 0.8215566168327795, 0.8215566168327795, 0.8215566168327795, 0.8215566168327795, 0.8215566168327795, 0.8215566168327795, 0.8215566168327795, 0.8215566168327795, 0.8215566168327795, 0.8215566168327795, 0.8215566168327795, 0.8215566168327795, 0.8215566168327795, 0.8215566168327795, 0.8215566168327795, 0.8215566168327795, 0.8215566168327795, 0.8215566168327795, 0.8215566168327795, 0.8215566168327795, 0.8215566168327795, 0.8215566168327795, 0.8215566168327795, 0.8355952380952381, 0.8355952380952381]}], \"recall_score_weighted\": [{\"categories\": [\"0\", \"1\", \"2\", \"3\", \"4\", \"5\", \"6\", \"7\", \"8\", \"9\", \"10\", \"11\", \"12\", \"13\", \"14\", \"15\", \"16\", \"17\", \"18\", \"19\", \"20\", \"21\", \"22\", \"23\", \"24\", \"25\", \"26\", \"27\", \"28\", \"29\", \"30\", \"31\", \"32\", \"33\"], \"mode\": \"markers\", \"name\": \"recall_score_weighted\", \"stepped\": false, \"type\": \"scatter\", \"data\": [0.8059887005649717, 0.8259322033898304, 0.8459887005649718, 0.8325988700564972, 0.8325988700564972, 0.7224293785310734, 0.8293785310734464, 0.8093785310734465, 0.8494915254237287, 0.8227118644067797, 0.8161581920903955, 0.8596045197740112, 0.8329943502824859, 0.8461581920903954, 0.8396610169491525, 0.8228248587570622, 0.7725423728813559, 0.8327118644067795, 0.8394350282485876, 0.8225988700564972, 0.8293785310734464, 0.6086440677966103, 0.7359887005649718, 0.8296610169491526, 0.8361016949152542, 0.8462146892655367, 0.8496045197740113, 0.8293785310734464, 0.8462146892655367, 0.8325423728813559, 0.6575706214689265, 0.822768361581921, 0.872994350282486, 0.8629378531073446]}, {\"categories\": [\"0\", \"1\", \"2\", \"3\", \"4\", \"5\", \"6\", \"7\", \"8\", \"9\", \"10\", \"11\", \"12\", \"13\", \"14\", \"15\", \"16\", \"17\", \"18\", \"19\", \"20\", \"21\", \"22\", \"23\", \"24\", \"25\", \"26\", \"27\", \"28\", \"29\", \"30\", \"31\", \"32\", \"33\"], \"mode\": \"lines\", \"name\": \"recall_score_weighted_max\", \"stepped\": true, \"type\": \"scatter\", \"data\": [0.8059887005649717, 0.8259322033898304, 0.8459887005649718, 0.8459887005649718, 0.8459887005649718, 0.8459887005649718, 0.8459887005649718, 0.8459887005649718, 0.8494915254237287, 0.8494915254237287, 0.8494915254237287, 0.8596045197740112, 0.8596045197740112, 0.8596045197740112, 0.8596045197740112, 0.8596045197740112, 0.8596045197740112, 0.8596045197740112, 0.8596045197740112, 0.8596045197740112, 0.8596045197740112, 0.8596045197740112, 0.8596045197740112, 0.8596045197740112, 0.8596045197740112, 0.8596045197740112, 0.8596045197740112, 0.8596045197740112, 0.8596045197740112, 0.8596045197740112, 0.8596045197740112, 0.8596045197740112, 0.872994350282486, 0.872994350282486]}], \"average_precision_score_weighted\": [{\"categories\": [\"0\", \"1\", \"2\", \"3\", \"4\", \"5\", \"6\", \"7\", \"8\", \"9\", \"10\", \"11\", \"12\", \"13\", \"14\", \"15\", \"16\", \"17\", \"18\", \"19\", \"20\", \"21\", \"22\", \"23\", \"24\", \"25\", \"26\", \"27\", \"28\", \"29\", \"30\", \"31\", \"32\", \"33\"], \"mode\": \"markers\", \"name\": \"average_precision_score_weighted\", \"stepped\": false, \"type\": \"scatter\", \"data\": [0.8955370396295249, 0.9103506263314479, 0.9271969283549606, 0.9052370697839237, 0.9073398410727309, 0.7674578174948093, 0.9181078423033316, 0.8720059756545379, 0.9185596004134746, 0.8899023871517153, 0.9128183909604417, 0.9136007655952827, 0.9027199794815131, 0.9085203702370863, 0.8977687189620761, 0.9089115070864834, 0.8982147143930279, 0.9126396483356599, 0.9026353749738172, 0.9136009779334806, 0.9159062069514639, 0.6004149461147704, 0.881293531192288, 0.8997158835981853, 0.9057894515886135, 0.8905143939331696, 0.9044364305652293, 0.9125121505959909, 0.9044876946604228, 0.9144862377835448, 0.7237234754068731, 0.9193026348686676, 0.9251781920303497, 0.9252260374996568]}, {\"categories\": [\"0\", \"1\", \"2\", \"3\", \"4\", \"5\", \"6\", \"7\", \"8\", \"9\", \"10\", \"11\", \"12\", \"13\", \"14\", \"15\", \"16\", \"17\", \"18\", \"19\", \"20\", \"21\", \"22\", \"23\", \"24\", \"25\", \"26\", \"27\", \"28\", \"29\", \"30\", \"31\", \"32\", \"33\"], \"mode\": \"lines\", \"name\": \"average_precision_score_weighted_max\", \"stepped\": true, \"type\": \"scatter\", \"data\": [0.8955370396295249, 0.9103506263314479, 0.9271969283549606, 0.9271969283549606, 0.9271969283549606, 0.9271969283549606, 0.9271969283549606, 0.9271969283549606, 0.9271969283549606, 0.9271969283549606, 0.9271969283549606, 0.9271969283549606, 0.9271969283549606, 0.9271969283549606, 0.9271969283549606, 0.9271969283549606, 0.9271969283549606, 0.9271969283549606, 0.9271969283549606, 0.9271969283549606, 0.9271969283549606, 0.9271969283549606, 0.9271969283549606, 0.9271969283549606, 0.9271969283549606, 0.9271969283549606, 0.9271969283549606, 0.9271969283549606, 0.9271969283549606, 0.9271969283549606, 0.9271969283549606, 0.9271969283549606, 0.9271969283549606, 0.9271969283549606]}], \"weighted_accuracy\": [{\"categories\": [\"0\", \"1\", \"2\", \"3\", \"4\", \"5\", \"6\", \"7\", \"8\", \"9\", \"10\", \"11\", \"12\", \"13\", \"14\", \"15\", \"16\", \"17\", \"18\", \"19\", \"20\", \"21\", \"22\", \"23\", \"24\", \"25\", \"26\", \"27\", \"28\", \"29\", \"30\", \"31\", \"32\", \"33\"], \"mode\": \"markers\", \"name\": \"weighted_accuracy\", \"stepped\": false, \"type\": \"scatter\", \"data\": [0.8252063202764133, 0.8406325321291572, 0.8626545243367986, 0.8497305713448435, 0.8427977238695702, 0.7755242910482674, 0.8459022868054585, 0.8396048623725025, 0.8769242439792221, 0.8513702623377982, 0.8613333959821501, 0.8895547482651018, 0.8533820798830117, 0.8731189342447088, 0.8586782896708176, 0.8535686900997972, 0.8149648296961984, 0.8517211212654402, 0.8764288575287598, 0.8393554096222813, 0.8488826789623214, 0.6658889945400733, 0.8062300530495342, 0.8471710786683664, 0.8608897582786085, 0.8830541660844862, 0.876880803619453, 0.852726510300166, 0.8703416998355058, 0.8491914675608963, 0.655577942340832, 0.8595210069313499, 0.8986147612977045, 0.8846861133539662]}, {\"categories\": [\"0\", \"1\", \"2\", \"3\", \"4\", \"5\", \"6\", \"7\", \"8\", \"9\", \"10\", \"11\", \"12\", \"13\", \"14\", \"15\", \"16\", \"17\", \"18\", \"19\", \"20\", \"21\", \"22\", \"23\", \"24\", \"25\", \"26\", \"27\", \"28\", \"29\", \"30\", \"31\", \"32\", \"33\"], \"mode\": \"lines\", \"name\": \"weighted_accuracy_max\", \"stepped\": true, \"type\": \"scatter\", \"data\": [0.8252063202764133, 0.8406325321291572, 0.8626545243367986, 0.8626545243367986, 0.8626545243367986, 0.8626545243367986, 0.8626545243367986, 0.8626545243367986, 0.8769242439792221, 0.8769242439792221, 0.8769242439792221, 0.8895547482651018, 0.8895547482651018, 0.8895547482651018, 0.8895547482651018, 0.8895547482651018, 0.8895547482651018, 0.8895547482651018, 0.8895547482651018, 0.8895547482651018, 0.8895547482651018, 0.8895547482651018, 0.8895547482651018, 0.8895547482651018, 0.8895547482651018, 0.8895547482651018, 0.8895547482651018, 0.8895547482651018, 0.8895547482651018, 0.8895547482651018, 0.8895547482651018, 0.8895547482651018, 0.8986147612977045, 0.8986147612977045]}], \"precision_score_macro\": [{\"categories\": [\"0\", \"1\", \"2\", \"3\", \"4\", \"5\", \"6\", \"7\", \"8\", \"9\", \"10\", \"11\", \"12\", \"13\", \"14\", \"15\", \"16\", \"17\", \"18\", \"19\", \"20\", \"21\", \"22\", \"23\", \"24\", \"25\", \"26\", \"27\", \"28\", \"29\", \"30\", \"31\", \"32\", \"33\"], \"mode\": \"markers\", \"name\": \"precision_score_macro\", \"stepped\": false, \"type\": \"scatter\", \"data\": [0.7889041743265773, 0.8086642059265495, 0.8240410416976405, 0.8162531052009431, 0.8088888596583536, 0.6952387063510116, 0.8097987062517955, 0.7842618251313904, 0.8515800865800867, 0.8106583750313735, 0.8309955634427684, 0.87345107244111, 0.8298263723233414, 0.8425044946309667, 0.824308208922212, 0.8248523629448281, 0.7754020155235961, 0.8122805274435709, 0.8490196078431372, 0.8019948586882226, 0.8122532189273273, 0.526371873721618, 0.7495898190160084, 0.8053771194588663, 0.8255238812747884, 0.8627975880734375, 0.848492463658258, 0.8153499078785179, 0.8448643626904495, 0.8132016729198226, 0.6191607061546158, 0.819893011479899, 0.8888263832103549, 0.8662000952588371]}, {\"categories\": [\"0\", \"1\", \"2\", \"3\", \"4\", \"5\", \"6\", \"7\", \"8\", \"9\", \"10\", \"11\", \"12\", \"13\", \"14\", \"15\", \"16\", \"17\", \"18\", \"19\", \"20\", \"21\", \"22\", \"23\", \"24\", \"25\", \"26\", \"27\", \"28\", \"29\", \"30\", \"31\", \"32\", \"33\"], \"mode\": \"lines\", \"name\": \"precision_score_macro_max\", \"stepped\": true, \"type\": \"scatter\", \"data\": [0.7889041743265773, 0.8086642059265495, 0.8240410416976405, 0.8240410416976405, 0.8240410416976405, 0.8240410416976405, 0.8240410416976405, 0.8240410416976405, 0.8515800865800867, 0.8515800865800867, 0.8515800865800867, 0.87345107244111, 0.87345107244111, 0.87345107244111, 0.87345107244111, 0.87345107244111, 0.87345107244111, 0.87345107244111, 0.87345107244111, 0.87345107244111, 0.87345107244111, 0.87345107244111, 0.87345107244111, 0.87345107244111, 0.87345107244111, 0.87345107244111, 0.87345107244111, 0.87345107244111, 0.87345107244111, 0.87345107244111, 0.87345107244111, 0.87345107244111, 0.8888263832103549, 0.8888263832103549]}], \"AUC_micro\": [{\"categories\": [\"0\", \"1\", \"2\", \"3\", \"4\", \"5\", \"6\", \"7\", \"8\", \"9\", \"10\", \"11\", \"12\", \"13\", \"14\", \"15\", \"16\", \"17\", \"18\", \"19\", \"20\", \"21\", \"22\", \"23\", \"24\", \"25\", \"26\", \"27\", \"28\", \"29\", \"30\", \"31\", \"32\", \"33\"], \"mode\": \"markers\", \"name\": \"AUC_micro\", \"stepped\": false, \"type\": \"scatter\", \"data\": [0.8880105014523284, 0.8999905678444892, 0.9214397523061699, 0.8981230489322993, 0.9032137476459511, 0.7785250327172906, 0.9113822975517891, 0.8762564716396948, 0.9046501005458201, 0.8854616010724887, 0.8947004372945194, 0.9046287305691212, 0.8939478119314372, 0.9027768680775001, 0.8995741166331512, 0.8994345175396598, 0.8775974017683297, 0.9067142104759169, 0.8895052826454721, 0.9073063295987742, 0.9083671039611861, 0.6286473714449871, 0.8512322608445849, 0.9036519997446455, 0.8983120271952505, 0.8815470650196303, 0.9057792460659453, 0.9029805930607424, 0.8983267260365796, 0.9028044303999488, 0.6966817325800376, 0.9054687190781705, 0.9124653835104855, 0.9095494270484217]}, {\"categories\": [\"0\", \"1\", \"2\", \"3\", \"4\", \"5\", \"6\", \"7\", \"8\", \"9\", \"10\", \"11\", \"12\", \"13\", \"14\", \"15\", \"16\", \"17\", \"18\", \"19\", \"20\", \"21\", \"22\", \"23\", \"24\", \"25\", \"26\", \"27\", \"28\", \"29\", \"30\", \"31\", \"32\", \"33\"], \"mode\": \"lines\", \"name\": \"AUC_micro_max\", \"stepped\": true, \"type\": \"scatter\", \"data\": [0.8880105014523284, 0.8999905678444892, 0.9214397523061699, 0.9214397523061699, 0.9214397523061699, 0.9214397523061699, 0.9214397523061699, 0.9214397523061699, 0.9214397523061699, 0.9214397523061699, 0.9214397523061699, 0.9214397523061699, 0.9214397523061699, 0.9214397523061699, 0.9214397523061699, 0.9214397523061699, 0.9214397523061699, 0.9214397523061699, 0.9214397523061699, 0.9214397523061699, 0.9214397523061699, 0.9214397523061699, 0.9214397523061699, 0.9214397523061699, 0.9214397523061699, 0.9214397523061699, 0.9214397523061699, 0.9214397523061699, 0.9214397523061699, 0.9214397523061699, 0.9214397523061699, 0.9214397523061699, 0.9214397523061699, 0.9214397523061699]}], \"matthews_correlation\": [{\"categories\": [\"0\", \"1\", \"2\", \"3\", \"4\", \"5\", \"6\", \"7\", \"8\", \"9\", \"10\", \"11\", \"12\", \"13\", \"14\", \"15\", \"16\", \"17\", \"18\", \"19\", \"20\", \"21\", \"22\", \"23\", \"24\", \"25\", \"26\", \"27\", \"28\", \"29\", \"30\", \"31\", \"32\", \"33\"], \"mode\": \"markers\", \"name\": \"matthews_correlation\", \"stepped\": false, \"type\": \"scatter\", \"data\": [0.5628617041183437, 0.6132552509330647, 0.6444291881433298, 0.6228139005105459, 0.6253879122570778, 0.32948630382205724, 0.6118805775029467, 0.5428697166604373, 0.6560780210975238, 0.5894205461764175, 0.5731686693141919, 0.6849252568808654, 0.6311991764150848, 0.6451955059526496, 0.6341138679482298, 0.5944741037596385, 0.4769239457378391, 0.6162782099615979, 0.6295484779091712, 0.5988374733486537, 0.6124918481848944, 0.05055493184042019, 0.3449188250226049, 0.6053252202841324, 0.6251022832698401, 0.6479736806205756, 0.6568903004948619, 0.6082490170999363, 0.6527608675748706, 0.6200629990869994, 0.34924294270985895, 0.5831712706311251, 0.7201427714790363, 0.694238926891837]}, {\"categories\": [\"0\", \"1\", \"2\", \"3\", \"4\", \"5\", \"6\", \"7\", \"8\", \"9\", \"10\", \"11\", \"12\", \"13\", \"14\", \"15\", \"16\", \"17\", \"18\", \"19\", \"20\", \"21\", \"22\", \"23\", \"24\", \"25\", \"26\", \"27\", \"28\", \"29\", \"30\", \"31\", \"32\", \"33\"], \"mode\": \"lines\", \"name\": \"matthews_correlation_max\", \"stepped\": true, \"type\": \"scatter\", \"data\": [0.5628617041183437, 0.6132552509330647, 0.6444291881433298, 0.6444291881433298, 0.6444291881433298, 0.6444291881433298, 0.6444291881433298, 0.6444291881433298, 0.6560780210975238, 0.6560780210975238, 0.6560780210975238, 0.6849252568808654, 0.6849252568808654, 0.6849252568808654, 0.6849252568808654, 0.6849252568808654, 0.6849252568808654, 0.6849252568808654, 0.6849252568808654, 0.6849252568808654, 0.6849252568808654, 0.6849252568808654, 0.6849252568808654, 0.6849252568808654, 0.6849252568808654, 0.6849252568808654, 0.6849252568808654, 0.6849252568808654, 0.6849252568808654, 0.6849252568808654, 0.6849252568808654, 0.6849252568808654, 0.7201427714790363, 0.7201427714790363]}], \"accuracy\": [{\"categories\": [\"0\", \"1\", \"2\", \"3\", \"4\", \"5\", \"6\", \"7\", \"8\", \"9\", \"10\", \"11\", \"12\", \"13\", \"14\", \"15\", \"16\", \"17\", \"18\", \"19\", \"20\", \"21\", \"22\", \"23\", \"24\", \"25\", \"26\", \"27\", \"28\", \"29\", \"30\", \"31\", \"32\", \"33\"], \"mode\": \"markers\", \"name\": \"accuracy\", \"stepped\": false, \"type\": \"scatter\", \"data\": [0.8059887005649717, 0.8259322033898304, 0.8459887005649718, 0.8325988700564972, 0.8325988700564972, 0.7224293785310734, 0.8293785310734464, 0.8093785310734465, 0.8494915254237287, 0.8227118644067797, 0.8161581920903955, 0.8596045197740112, 0.8329943502824859, 0.8461581920903954, 0.8396610169491525, 0.8228248587570622, 0.7725423728813559, 0.8327118644067795, 0.8394350282485876, 0.8225988700564972, 0.8293785310734464, 0.6086440677966103, 0.7359887005649718, 0.8296610169491526, 0.8361016949152542, 0.8462146892655367, 0.8496045197740113, 0.8293785310734464, 0.8462146892655367, 0.8325423728813559, 0.6575706214689265, 0.822768361581921, 0.872994350282486, 0.8629378531073446]}, {\"categories\": [\"0\", \"1\", \"2\", \"3\", \"4\", \"5\", \"6\", \"7\", \"8\", \"9\", \"10\", \"11\", \"12\", \"13\", \"14\", \"15\", \"16\", \"17\", \"18\", \"19\", \"20\", \"21\", \"22\", \"23\", \"24\", \"25\", \"26\", \"27\", \"28\", \"29\", \"30\", \"31\", \"32\", \"33\"], \"mode\": \"lines\", \"name\": \"accuracy_max\", \"stepped\": true, \"type\": \"scatter\", \"data\": [0.8059887005649717, 0.8259322033898304, 0.8459887005649718, 0.8459887005649718, 0.8459887005649718, 0.8459887005649718, 0.8459887005649718, 0.8459887005649718, 0.8494915254237287, 0.8494915254237287, 0.8494915254237287, 0.8596045197740112, 0.8596045197740112, 0.8596045197740112, 0.8596045197740112, 0.8596045197740112, 0.8596045197740112, 0.8596045197740112, 0.8596045197740112, 0.8596045197740112, 0.8596045197740112, 0.8596045197740112, 0.8596045197740112, 0.8596045197740112, 0.8596045197740112, 0.8596045197740112, 0.8596045197740112, 0.8596045197740112, 0.8596045197740112, 0.8596045197740112, 0.8596045197740112, 0.8596045197740112, 0.872994350282486, 0.872994350282486]}], \"average_precision_score_macro\": [{\"categories\": [\"0\", \"1\", \"2\", \"3\", \"4\", \"5\", \"6\", \"7\", \"8\", \"9\", \"10\", \"11\", \"12\", \"13\", \"14\", \"15\", \"16\", \"17\", \"18\", \"19\", \"20\", \"21\", \"22\", \"23\", \"24\", \"25\", \"26\", \"27\", \"28\", \"29\", \"30\", \"31\", \"32\", \"33\"], \"mode\": \"markers\", \"name\": \"average_precision_score_macro\", \"stepped\": false, \"type\": \"scatter\", \"data\": [0.8655792376041671, 0.8826936933050062, 0.8982621838095806, 0.874493499603074, 0.877413932161985, 0.718312699643568, 0.894210124371479, 0.8329476717741734, 0.8944158817411273, 0.851284927554245, 0.8878516927812372, 0.8909675952485119, 0.8756968477195303, 0.8827141677722498, 0.8728899332889071, 0.8738698705256456, 0.867610950423033, 0.8857182155770749, 0.8787679389310117, 0.888231640478741, 0.8895679089778662, 0.5485656566488963, 0.8358156889531323, 0.8747263440777168, 0.8819556674146056, 0.8642812172745511, 0.8802531433544377, 0.8889687587107062, 0.879373328285981, 0.8875878937881134, 0.6773557477052531, 0.8957745802768843, 0.9038007328202511, 0.9038926180116233]}, {\"categories\": [\"0\", \"1\", \"2\", \"3\", \"4\", \"5\", \"6\", \"7\", \"8\", \"9\", \"10\", \"11\", \"12\", \"13\", \"14\", \"15\", \"16\", \"17\", \"18\", \"19\", \"20\", \"21\", \"22\", \"23\", \"24\", \"25\", \"26\", \"27\", \"28\", \"29\", \"30\", \"31\", \"32\", \"33\"], \"mode\": \"lines\", \"name\": \"average_precision_score_macro_max\", \"stepped\": true, \"type\": \"scatter\", \"data\": [0.8655792376041671, 0.8826936933050062, 0.8982621838095806, 0.8982621838095806, 0.8982621838095806, 0.8982621838095806, 0.8982621838095806, 0.8982621838095806, 0.8982621838095806, 0.8982621838095806, 0.8982621838095806, 0.8982621838095806, 0.8982621838095806, 0.8982621838095806, 0.8982621838095806, 0.8982621838095806, 0.8982621838095806, 0.8982621838095806, 0.8982621838095806, 0.8982621838095806, 0.8982621838095806, 0.8982621838095806, 0.8982621838095806, 0.8982621838095806, 0.8982621838095806, 0.8982621838095806, 0.8982621838095806, 0.8982621838095806, 0.8982621838095806, 0.8982621838095806, 0.8982621838095806, 0.8982621838095806, 0.9038007328202511, 0.9038926180116233]}], \"f1_score_weighted\": [{\"categories\": [\"0\", \"1\", \"2\", \"3\", \"4\", \"5\", \"6\", \"7\", \"8\", \"9\", \"10\", \"11\", \"12\", \"13\", \"14\", \"15\", \"16\", \"17\", \"18\", \"19\", \"20\", \"21\", \"22\", \"23\", \"24\", \"25\", \"26\", \"27\", \"28\", \"29\", \"30\", \"31\", \"32\", \"33\"], \"mode\": \"markers\", \"name\": \"f1_score_weighted\", \"stepped\": false, \"type\": \"scatter\", \"data\": [0.8014398448329555, 0.8237396450256732, 0.8441894919611705, 0.8301642829537419, 0.8337516121446418, 0.7001871114865466, 0.8262168787273614, 0.8039757220257486, 0.8417949271053425, 0.8161214746749401, 0.8021759951947371, 0.8521721313053876, 0.8295428462047711, 0.8404266222721967, 0.8366627045139088, 0.8137297699171275, 0.7522144212803786, 0.830272332345156, 0.828970290792489, 0.8197301503659096, 0.8256093670697467, 0.5870295309619327, 0.6920541322045706, 0.8298509039792801, 0.8308159120176024, 0.8368328724823503, 0.8445786473037667, 0.8239946194107308, 0.841099556288342, 0.8294966345097006, 0.6170719492598638, 0.8137066492487899, 0.8664737405058688, 0.8574040501847315]}, {\"categories\": [\"0\", \"1\", \"2\", \"3\", \"4\", \"5\", \"6\", \"7\", \"8\", \"9\", \"10\", \"11\", \"12\", \"13\", \"14\", \"15\", \"16\", \"17\", \"18\", \"19\", \"20\", \"21\", \"22\", \"23\", \"24\", \"25\", \"26\", \"27\", \"28\", \"29\", \"30\", \"31\", \"32\", \"33\"], \"mode\": \"lines\", \"name\": \"f1_score_weighted_max\", \"stepped\": true, \"type\": \"scatter\", \"data\": [0.8014398448329555, 0.8237396450256732, 0.8441894919611705, 0.8441894919611705, 0.8441894919611705, 0.8441894919611705, 0.8441894919611705, 0.8441894919611705, 0.8441894919611705, 0.8441894919611705, 0.8441894919611705, 0.8521721313053876, 0.8521721313053876, 0.8521721313053876, 0.8521721313053876, 0.8521721313053876, 0.8521721313053876, 0.8521721313053876, 0.8521721313053876, 0.8521721313053876, 0.8521721313053876, 0.8521721313053876, 0.8521721313053876, 0.8521721313053876, 0.8521721313053876, 0.8521721313053876, 0.8521721313053876, 0.8521721313053876, 0.8521721313053876, 0.8521721313053876, 0.8521721313053876, 0.8521721313053876, 0.8664737405058688, 0.8664737405058688]}]}, \"metricName\": null, \"primaryMetricName\": \"accuracy\", \"showLegend\": false}, \"run_metrics\": [{\"name\": \"experiment_status\", \"run_id\": \"AutoML_da970879-bd7f-4f48-b543-7cb437fa4380\", \"categories\": [0, 1, 2, 3, 4, 5, 6, 7, 8, 9, 10, 11, 12, 13], \"series\": [{\"data\": [\"DatasetEvaluation\", \"FeaturesGeneration\", \"DatasetFeaturization\", \"DatasetFeaturizationCompleted\", \"DatasetCrossValidationSplit\", \"ModelSelection\", \"BestRunExplainModel\", \"ModelExplanationDataSetSetup\", \"PickSurrogateModel\", \"EngineeredFeatureExplanations\", \"EngineeredFeatureExplanations\", \"RawFeaturesExplanations\", \"RawFeaturesExplanations\", \"BestRunExplainModel\"]}]}, {\"name\": \"experiment_status_description\", \"run_id\": \"AutoML_da970879-bd7f-4f48-b543-7cb437fa4380\", \"categories\": [0, 1, 2, 3, 4, 5, 6, 7, 8, 9, 10, 11, 12, 13], \"series\": [{\"data\": [\"Gathering dataset statistics.\", \"Generating features for the dataset.\", \"Beginning to fit featurizers and featurize the dataset.\", \"Completed fit featurizers and featurizing the dataset.\", \"Generating individually featurized CV splits.\", \"Beginning model selection.\", \"Best run model explanations started\", \"Model explanations data setup completed\", \"Choosing LightGBM as the surrogate model for explanations\", \"Computation of engineered features started\", \"Computation of engineered features completed\", \"Computation of raw features started\", \"Computation of raw features completed\", \"Best run model explanations completed\"]}]}, {\"name\": \"AUC_weighted\", \"run_id\": \"AutoML_da970879-bd7f-4f48-b543-7cb437fa4380\", \"categories\": [0], \"series\": [{\"data\": [0.9151304909560721]}]}, {\"name\": \"matthews_correlation\", \"run_id\": \"AutoML_da970879-bd7f-4f48-b543-7cb437fa4380\", \"categories\": [0], \"series\": [{\"data\": [0.7201427714790363]}]}, {\"name\": \"recall_score_micro\", \"run_id\": \"AutoML_da970879-bd7f-4f48-b543-7cb437fa4380\", \"categories\": [0], \"series\": [{\"data\": [0.872994350282486]}]}, {\"name\": \"f1_score_macro\", \"run_id\": \"AutoML_da970879-bd7f-4f48-b543-7cb437fa4380\", \"categories\": [0], \"series\": [{\"data\": [0.8442980567211962]}]}, {\"name\": \"average_precision_score_weighted\", \"run_id\": \"AutoML_da970879-bd7f-4f48-b543-7cb437fa4380\", \"categories\": [0], \"series\": [{\"data\": [0.9251781920303497]}]}, {\"name\": \"balanced_accuracy\", \"run_id\": \"AutoML_da970879-bd7f-4f48-b543-7cb437fa4380\", \"categories\": [0], \"series\": [{\"data\": [0.8355952380952381]}]}, {\"name\": \"accuracy\", \"run_id\": \"AutoML_da970879-bd7f-4f48-b543-7cb437fa4380\", \"categories\": [0], \"series\": [{\"data\": [0.872994350282486]}]}, {\"name\": \"AUC_macro\", \"run_id\": \"AutoML_da970879-bd7f-4f48-b543-7cb437fa4380\", \"categories\": [0], \"series\": [{\"data\": [0.9151304909560725]}]}, {\"name\": \"precision_score_macro\", \"run_id\": \"AutoML_da970879-bd7f-4f48-b543-7cb437fa4380\", \"categories\": [0], \"series\": [{\"data\": [0.8888263832103549]}]}, {\"name\": \"precision_score_micro\", \"run_id\": \"AutoML_da970879-bd7f-4f48-b543-7cb437fa4380\", \"categories\": [0], \"series\": [{\"data\": [0.872994350282486]}]}, {\"name\": \"log_loss\", \"run_id\": \"AutoML_da970879-bd7f-4f48-b543-7cb437fa4380\", \"categories\": [0], \"series\": [{\"data\": [0.4024731295052681]}]}, {\"name\": \"recall_score_macro\", \"run_id\": \"AutoML_da970879-bd7f-4f48-b543-7cb437fa4380\", \"categories\": [0], \"series\": [{\"data\": [0.8355952380952381]}]}, {\"name\": \"norm_macro_recall\", \"run_id\": \"AutoML_da970879-bd7f-4f48-b543-7cb437fa4380\", \"categories\": [0], \"series\": [{\"data\": [0.6711904761904763]}]}, {\"name\": \"f1_score_micro\", \"run_id\": \"AutoML_da970879-bd7f-4f48-b543-7cb437fa4380\", \"categories\": [0], \"series\": [{\"data\": [0.872994350282486]}]}, {\"name\": \"precision_score_weighted\", \"run_id\": \"AutoML_da970879-bd7f-4f48-b543-7cb437fa4380\", \"categories\": [0], \"series\": [{\"data\": [0.8911353521682471]}]}, {\"name\": \"weighted_accuracy\", \"run_id\": \"AutoML_da970879-bd7f-4f48-b543-7cb437fa4380\", \"categories\": [0], \"series\": [{\"data\": [0.8986147612977045]}]}, {\"name\": \"recall_score_weighted\", \"run_id\": \"AutoML_da970879-bd7f-4f48-b543-7cb437fa4380\", \"categories\": [0], \"series\": [{\"data\": [0.872994350282486]}]}, {\"name\": \"average_precision_score_micro\", \"run_id\": \"AutoML_da970879-bd7f-4f48-b543-7cb437fa4380\", \"categories\": [0], \"series\": [{\"data\": [0.9148793997920681]}]}, {\"name\": \"average_precision_score_macro\", \"run_id\": \"AutoML_da970879-bd7f-4f48-b543-7cb437fa4380\", \"categories\": [0], \"series\": [{\"data\": [0.9038007328202511]}]}, {\"name\": \"f1_score_weighted\", \"run_id\": \"AutoML_da970879-bd7f-4f48-b543-7cb437fa4380\", \"categories\": [0], \"series\": [{\"data\": [0.8664737405058688]}]}, {\"name\": \"AUC_micro\", \"run_id\": \"AutoML_da970879-bd7f-4f48-b543-7cb437fa4380\", \"categories\": [0], \"series\": [{\"data\": [0.9124653835104855]}]}], \"run_logs\": \"\\nRun is completed.\", \"graph\": {}, \"widget_settings\": {\"childWidgetDisplay\": \"popup\", \"send_telemetry\": false, \"log_level\": \"INFO\", \"sdk_version\": \"1.20.0\"}, \"loading\": false}"
     },
     "metadata": {},
     "output_type": "display_data"
    }
   ],
   "source": [
    "# show the run details of the experiment\n",
    "from azureml.widgets import RunDetails\n",
    "RunDetails(remote_run).show()"
   ]
  },
  {
   "cell_type": "code",
   "execution_count": 9,
   "metadata": {},
   "outputs": [
    {
     "name": "stdout",
     "output_type": "stream",
     "text": [
      "\n",
      "\n",
      "****************************************************************************************************\n",
      "DATA GUARDRAILS: \n",
      "\n",
      "TYPE:         Class balancing detection\n",
      "STATUS:       PASSED\n",
      "DESCRIPTION:  Your inputs were analyzed, and all classes are balanced in your training data.\n",
      "              Learn more about imbalanced data: https://aka.ms/AutomatedMLImbalancedData\n",
      "\n",
      "****************************************************************************************************\n",
      "\n",
      "TYPE:         Missing feature values imputation\n",
      "STATUS:       PASSED\n",
      "DESCRIPTION:  No feature missing values were detected in the training data.\n",
      "              Learn more about missing value imputation: https://aka.ms/AutomatedMLFeaturization\n",
      "\n",
      "****************************************************************************************************\n",
      "\n",
      "TYPE:         High cardinality feature detection\n",
      "STATUS:       PASSED\n",
      "DESCRIPTION:  Your inputs were analyzed, and no high cardinality features were detected.\n",
      "              Learn more about high cardinality feature handling: https://aka.ms/AutomatedMLFeaturization\n",
      "\n",
      "****************************************************************************************************\n",
      "\n",
      "****************************************************************************************************\n",
      "ITERATION: The iteration being evaluated.\n",
      "PIPELINE: A summary description of the pipeline being evaluated.\n",
      "DURATION: Time taken for the current iteration.\n",
      "METRIC: The result of computing score on the fitted pipeline.\n",
      "BEST: The best observed score thus far.\n",
      "****************************************************************************************************\n",
      "\n",
      " ITERATION   PIPELINE                                       DURATION      METRIC      BEST\n",
      "         0   MaxAbsScaler LightGBM                          0:00:43       0.8060    0.8060\n",
      "         1   MaxAbsScaler XGBoostClassifier                 0:00:45       0.8259    0.8259\n",
      "         2   MinMaxScaler RandomForest                      0:00:57       0.8460    0.8460\n",
      "         3   MinMaxScaler RandomForest                      0:00:46       0.8326    0.8460\n",
      "         4   MinMaxScaler RandomForest                      0:02:07       0.8326    0.8460\n",
      "         5   MinMaxScaler SVM                               0:01:04       0.7224    0.8460\n",
      "         6   MaxAbsScaler GradientBoosting                  0:00:47       0.8294    0.8460\n",
      "         7   SparseNormalizer XGBoostClassifier             0:00:44       0.8094    0.8460\n",
      "         8   StandardScalerWrapper RandomForest             0:00:46       0.8495    0.8495\n",
      "         9   MaxAbsScaler LightGBM                          0:00:43       0.8227    0.8495\n",
      "        10   MinMaxScaler LightGBM                          0:00:49       0.8162    0.8495\n",
      "        11   RobustScaler ExtremeRandomTrees                0:00:45       0.8596    0.8596\n",
      "        12   SparseNormalizer LightGBM                      0:00:46       0.8330    0.8596\n",
      "        13   SparseNormalizer XGBoostClassifier             0:00:48       0.8462    0.8596\n",
      "        14   SparseNormalizer XGBoostClassifier             0:00:46       0.8397    0.8596\n",
      "        15   SparseNormalizer XGBoostClassifier             0:00:51       0.8228    0.8596\n",
      "        16   MinMaxScaler LightGBM                          0:00:45       0.7725    0.8596\n",
      "        17   MaxAbsScaler LightGBM                          0:00:43       0.8327    0.8596\n",
      "        18   StandardScalerWrapper ExtremeRandomTrees       0:00:47       0.8394    0.8596\n",
      "        19   StandardScalerWrapper LightGBM                 0:00:43       0.8226    0.8596\n",
      "        20   StandardScalerWrapper LightGBM                 0:00:46       0.8294    0.8596\n",
      "        21   RobustScaler KNN                               0:00:49       0.6086    0.8596\n",
      "        22   SparseNormalizer LightGBM                      0:00:37       0.7360    0.8596\n",
      "        23   SparseNormalizer RandomForest                  0:00:39       0.8297    0.8596\n",
      "        24   StandardScalerWrapper LightGBM                 0:00:49       0.8361    0.8596\n",
      "        25   StandardScalerWrapper ExtremeRandomTrees       0:00:52       0.8462    0.8596\n",
      "        26   SparseNormalizer XGBoostClassifier             0:00:47       0.8496    0.8596\n",
      "        27   MaxAbsScaler LightGBM                          0:00:43       0.8294    0.8596\n",
      "        28   SparseNormalizer GradientBoosting              0:00:42       0.8462    0.8596\n",
      "        29   StandardScalerWrapper LightGBM                 0:00:45       0.8325    0.8596\n",
      "        30   StandardScalerWrapper ExtremeRandomTrees       0:00:46       0.6576    0.8596\n",
      "        31   RobustScaler LightGBM                          0:00:35       0.8228    0.8596\n",
      "        32    VotingEnsemble                                0:01:12       0.8730    0.8730\n",
      "        33    StackEnsemble                                 0:01:13       0.8629    0.8730\n"
     ]
    },
    {
     "data": {
      "text/plain": [
       "{'runId': 'AutoML_da970879-bd7f-4f48-b543-7cb437fa4380',\n",
       " 'target': 'cpu-cluster',\n",
       " 'status': 'Completed',\n",
       " 'startTimeUtc': '2021-01-23T09:14:04.704213Z',\n",
       " 'endTimeUtc': '2021-01-23T09:41:20.099817Z',\n",
       " 'properties': {'num_iterations': '1000',\n",
       "  'training_type': 'TrainFull',\n",
       "  'acquisition_function': 'EI',\n",
       "  'primary_metric': 'accuracy',\n",
       "  'train_split': '0',\n",
       "  'acquisition_parameter': '0',\n",
       "  'num_cross_validation': '5',\n",
       "  'target': 'cpu-cluster',\n",
       "  'AMLSettingsJsonString': '{\"path\":null,\"name\":\"auto-ml-heart-failure-exp\",\"subscription_id\":\"6971f5ac-8af1-446e-8034-05acea24681f\",\"resource_group\":\"aml-quickstarts-135762\",\"workspace_name\":\"quick-starts-ws-135762\",\"region\":\"southcentralus\",\"compute_target\":\"cpu-cluster\",\"spark_service\":null,\"azure_service\":\"remote\",\"many_models\":false,\"pipeline_fetch_max_batch_size\":1,\"iterations\":1000,\"primary_metric\":\"accuracy\",\"task_type\":\"classification\",\"data_script\":null,\"validation_size\":0.0,\"n_cross_validations\":5,\"y_min\":null,\"y_max\":null,\"num_classes\":null,\"featurization\":\"auto\",\"_ignore_package_version_incompatibilities\":false,\"is_timeseries\":false,\"max_cores_per_iteration\":1,\"max_concurrent_iterations\":2,\"iteration_timeout_minutes\":null,\"mem_in_mb\":null,\"enforce_time_on_windows\":false,\"experiment_timeout_minutes\":60,\"experiment_exit_score\":null,\"whitelist_models\":null,\"blacklist_algos\":[\"TensorFlowLinearClassifier\",\"TensorFlowDNN\"],\"supported_models\":[\"BernoulliNaiveBayes\",\"XGBoostClassifier\",\"AveragedPerceptronClassifier\",\"MultinomialNaiveBayes\",\"ExtremeRandomTrees\",\"GradientBoosting\",\"LightGBM\",\"SGD\",\"RandomForest\",\"DecisionTree\",\"KNN\",\"TensorFlowDNN\",\"LinearSVM\",\"LogisticRegression\",\"SVM\",\"TensorFlowLinearClassifier\"],\"auto_blacklist\":true,\"blacklist_samples_reached\":false,\"exclude_nan_labels\":true,\"verbosity\":20,\"_debug_log\":\"azureml_automl.log\",\"show_warnings\":false,\"model_explainability\":true,\"service_url\":null,\"sdk_url\":null,\"sdk_packages\":null,\"enable_onnx_compatible_models\":false,\"enable_split_onnx_featurizer_estimator_models\":false,\"vm_type\":\"STANDARD_DS12_V2\",\"telemetry_verbosity\":20,\"send_telemetry\":true,\"enable_dnn\":false,\"scenario\":\"SDK-1.13.0\",\"environment_label\":null,\"force_text_dnn\":false,\"enable_feature_sweeping\":true,\"enable_early_stopping\":true,\"early_stopping_n_iters\":10,\"metrics\":null,\"enable_ensembling\":true,\"enable_stack_ensembling\":true,\"ensemble_iterations\":15,\"enable_tf\":false,\"enable_subsampling\":null,\"subsample_seed\":null,\"enable_nimbusml\":false,\"enable_streaming\":false,\"force_streaming\":false,\"track_child_runs\":true,\"allowed_private_models\":[],\"label_column_name\":\"DEATH_EVENT\",\"weight_column_name\":null,\"cv_split_column_names\":null,\"enable_local_managed\":false,\"_local_managed_run_id\":null,\"cost_mode\":1,\"lag_length\":0,\"metric_operation\":\"maximize\",\"preprocess\":true}',\n",
       "  'DataPrepJsonString': '{\\\\\"training_data\\\\\": \\\\\"{\\\\\\\\\\\\\"blocks\\\\\\\\\\\\\": [{\\\\\\\\\\\\\"id\\\\\\\\\\\\\": \\\\\\\\\\\\\"fed784b8-4979-4243-8f9f-aa109c8ba457\\\\\\\\\\\\\", \\\\\\\\\\\\\"type\\\\\\\\\\\\\": \\\\\\\\\\\\\"Microsoft.DPrep.GetFilesBlock\\\\\\\\\\\\\", \\\\\\\\\\\\\"arguments\\\\\\\\\\\\\": {\\\\\\\\\\\\\"isArchive\\\\\\\\\\\\\": false, \\\\\\\\\\\\\"path\\\\\\\\\\\\\": {\\\\\\\\\\\\\"target\\\\\\\\\\\\\": 4, \\\\\\\\\\\\\"resourceDetails\\\\\\\\\\\\\": [{\\\\\\\\\\\\\"path\\\\\\\\\\\\\": \\\\\\\\\\\\\"https://archive.ics.uci.edu/ml/machine-learning-databases/00519/heart_failure_clinical_records_dataset.csv\\\\\\\\\\\\\"}]}}, \\\\\\\\\\\\\"localData\\\\\\\\\\\\\": {}, \\\\\\\\\\\\\"isEnabled\\\\\\\\\\\\\": true, \\\\\\\\\\\\\"name\\\\\\\\\\\\\": null, \\\\\\\\\\\\\"annotation\\\\\\\\\\\\\": null}, {\\\\\\\\\\\\\"id\\\\\\\\\\\\\": \\\\\\\\\\\\\"4216e5d7-3862-4e39-b5c3-f3db40d78cf7\\\\\\\\\\\\\", \\\\\\\\\\\\\"type\\\\\\\\\\\\\": \\\\\\\\\\\\\"Microsoft.DPrep.ParseDelimitedBlock\\\\\\\\\\\\\", \\\\\\\\\\\\\"arguments\\\\\\\\\\\\\": {\\\\\\\\\\\\\"columnHeadersMode\\\\\\\\\\\\\": 3, \\\\\\\\\\\\\"fileEncoding\\\\\\\\\\\\\": 0, \\\\\\\\\\\\\"handleQuotedLineBreaks\\\\\\\\\\\\\": false, \\\\\\\\\\\\\"preview\\\\\\\\\\\\\": false, \\\\\\\\\\\\\"separator\\\\\\\\\\\\\": \\\\\\\\\\\\\",\\\\\\\\\\\\\", \\\\\\\\\\\\\"skipRows\\\\\\\\\\\\\": 0, \\\\\\\\\\\\\"skipRowsMode\\\\\\\\\\\\\": 0}, \\\\\\\\\\\\\"localData\\\\\\\\\\\\\": {}, \\\\\\\\\\\\\"isEnabled\\\\\\\\\\\\\": true, \\\\\\\\\\\\\"name\\\\\\\\\\\\\": null, \\\\\\\\\\\\\"annotation\\\\\\\\\\\\\": null}, {\\\\\\\\\\\\\"id\\\\\\\\\\\\\": \\\\\\\\\\\\\"5cf80e6d-8e8b-426c-b38b-efab2da06928\\\\\\\\\\\\\", \\\\\\\\\\\\\"type\\\\\\\\\\\\\": \\\\\\\\\\\\\"Microsoft.DPrep.DropColumnsBlock\\\\\\\\\\\\\", \\\\\\\\\\\\\"arguments\\\\\\\\\\\\\": {\\\\\\\\\\\\\"columns\\\\\\\\\\\\\": {\\\\\\\\\\\\\"type\\\\\\\\\\\\\": 0, \\\\\\\\\\\\\"details\\\\\\\\\\\\\": {\\\\\\\\\\\\\"selectedColumns\\\\\\\\\\\\\": [\\\\\\\\\\\\\"Path\\\\\\\\\\\\\"]}}}, \\\\\\\\\\\\\"localData\\\\\\\\\\\\\": {}, \\\\\\\\\\\\\"isEnabled\\\\\\\\\\\\\": true, \\\\\\\\\\\\\"name\\\\\\\\\\\\\": null, \\\\\\\\\\\\\"annotation\\\\\\\\\\\\\": null}, {\\\\\\\\\\\\\"id\\\\\\\\\\\\\": \\\\\\\\\\\\\"fa2ccdfb-b488-4cf7-96bb-2847c65abdae\\\\\\\\\\\\\", \\\\\\\\\\\\\"type\\\\\\\\\\\\\": \\\\\\\\\\\\\"Microsoft.DPrep.SetColumnTypesBlock\\\\\\\\\\\\\", \\\\\\\\\\\\\"arguments\\\\\\\\\\\\\": {\\\\\\\\\\\\\"columnConversion\\\\\\\\\\\\\": [{\\\\\\\\\\\\\"column\\\\\\\\\\\\\": {\\\\\\\\\\\\\"type\\\\\\\\\\\\\": 2, \\\\\\\\\\\\\"details\\\\\\\\\\\\\": {\\\\\\\\\\\\\"selectedColumn\\\\\\\\\\\\\": \\\\\\\\\\\\\"age\\\\\\\\\\\\\"}}, \\\\\\\\\\\\\"typeProperty\\\\\\\\\\\\\": 3}, {\\\\\\\\\\\\\"column\\\\\\\\\\\\\": {\\\\\\\\\\\\\"type\\\\\\\\\\\\\": 2, \\\\\\\\\\\\\"details\\\\\\\\\\\\\": {\\\\\\\\\\\\\"selectedColumn\\\\\\\\\\\\\": \\\\\\\\\\\\\"anaemia\\\\\\\\\\\\\"}}, \\\\\\\\\\\\\"typeProperty\\\\\\\\\\\\\": 2}, {\\\\\\\\\\\\\"column\\\\\\\\\\\\\": {\\\\\\\\\\\\\"type\\\\\\\\\\\\\": 2, \\\\\\\\\\\\\"details\\\\\\\\\\\\\": {\\\\\\\\\\\\\"selectedColumn\\\\\\\\\\\\\": \\\\\\\\\\\\\"creatinine_phosphokinase\\\\\\\\\\\\\"}}, \\\\\\\\\\\\\"typeProperty\\\\\\\\\\\\\": 2}, {\\\\\\\\\\\\\"column\\\\\\\\\\\\\": {\\\\\\\\\\\\\"type\\\\\\\\\\\\\": 2, \\\\\\\\\\\\\"details\\\\\\\\\\\\\": {\\\\\\\\\\\\\"selectedColumn\\\\\\\\\\\\\": \\\\\\\\\\\\\"diabetes\\\\\\\\\\\\\"}}, \\\\\\\\\\\\\"typeProperty\\\\\\\\\\\\\": 2}, {\\\\\\\\\\\\\"column\\\\\\\\\\\\\": {\\\\\\\\\\\\\"type\\\\\\\\\\\\\": 2, \\\\\\\\\\\\\"details\\\\\\\\\\\\\": {\\\\\\\\\\\\\"selectedColumn\\\\\\\\\\\\\": \\\\\\\\\\\\\"ejection_fraction\\\\\\\\\\\\\"}}, \\\\\\\\\\\\\"typeProperty\\\\\\\\\\\\\": 2}, {\\\\\\\\\\\\\"column\\\\\\\\\\\\\": {\\\\\\\\\\\\\"type\\\\\\\\\\\\\": 2, \\\\\\\\\\\\\"details\\\\\\\\\\\\\": {\\\\\\\\\\\\\"selectedColumn\\\\\\\\\\\\\": \\\\\\\\\\\\\"high_blood_pressure\\\\\\\\\\\\\"}}, \\\\\\\\\\\\\"typeProperty\\\\\\\\\\\\\": 2}, {\\\\\\\\\\\\\"column\\\\\\\\\\\\\": {\\\\\\\\\\\\\"type\\\\\\\\\\\\\": 2, \\\\\\\\\\\\\"details\\\\\\\\\\\\\": {\\\\\\\\\\\\\"selectedColumn\\\\\\\\\\\\\": \\\\\\\\\\\\\"platelets\\\\\\\\\\\\\"}}, \\\\\\\\\\\\\"typeProperty\\\\\\\\\\\\\": 3}, {\\\\\\\\\\\\\"column\\\\\\\\\\\\\": {\\\\\\\\\\\\\"type\\\\\\\\\\\\\": 2, \\\\\\\\\\\\\"details\\\\\\\\\\\\\": {\\\\\\\\\\\\\"selectedColumn\\\\\\\\\\\\\": \\\\\\\\\\\\\"serum_creatinine\\\\\\\\\\\\\"}}, \\\\\\\\\\\\\"typeProperty\\\\\\\\\\\\\": 3}, {\\\\\\\\\\\\\"column\\\\\\\\\\\\\": {\\\\\\\\\\\\\"type\\\\\\\\\\\\\": 2, \\\\\\\\\\\\\"details\\\\\\\\\\\\\": {\\\\\\\\\\\\\"selectedColumn\\\\\\\\\\\\\": \\\\\\\\\\\\\"serum_sodium\\\\\\\\\\\\\"}}, \\\\\\\\\\\\\"typeProperty\\\\\\\\\\\\\": 2}, {\\\\\\\\\\\\\"column\\\\\\\\\\\\\": {\\\\\\\\\\\\\"type\\\\\\\\\\\\\": 2, \\\\\\\\\\\\\"details\\\\\\\\\\\\\": {\\\\\\\\\\\\\"selectedColumn\\\\\\\\\\\\\": \\\\\\\\\\\\\"sex\\\\\\\\\\\\\"}}, \\\\\\\\\\\\\"typeProperty\\\\\\\\\\\\\": 2}, {\\\\\\\\\\\\\"column\\\\\\\\\\\\\": {\\\\\\\\\\\\\"type\\\\\\\\\\\\\": 2, \\\\\\\\\\\\\"details\\\\\\\\\\\\\": {\\\\\\\\\\\\\"selectedColumn\\\\\\\\\\\\\": \\\\\\\\\\\\\"smoking\\\\\\\\\\\\\"}}, \\\\\\\\\\\\\"typeProperty\\\\\\\\\\\\\": 2}, {\\\\\\\\\\\\\"column\\\\\\\\\\\\\": {\\\\\\\\\\\\\"type\\\\\\\\\\\\\": 2, \\\\\\\\\\\\\"details\\\\\\\\\\\\\": {\\\\\\\\\\\\\"selectedColumn\\\\\\\\\\\\\": \\\\\\\\\\\\\"time\\\\\\\\\\\\\"}}, \\\\\\\\\\\\\"typeProperty\\\\\\\\\\\\\": 2}, {\\\\\\\\\\\\\"column\\\\\\\\\\\\\": {\\\\\\\\\\\\\"type\\\\\\\\\\\\\": 2, \\\\\\\\\\\\\"details\\\\\\\\\\\\\": {\\\\\\\\\\\\\"selectedColumn\\\\\\\\\\\\\": \\\\\\\\\\\\\"DEATH_EVENT\\\\\\\\\\\\\"}}, \\\\\\\\\\\\\"typeProperty\\\\\\\\\\\\\": 2}]}, \\\\\\\\\\\\\"localData\\\\\\\\\\\\\": {}, \\\\\\\\\\\\\"isEnabled\\\\\\\\\\\\\": true, \\\\\\\\\\\\\"name\\\\\\\\\\\\\": null, \\\\\\\\\\\\\"annotation\\\\\\\\\\\\\": null}], \\\\\\\\\\\\\"inspectors\\\\\\\\\\\\\": [], \\\\\\\\\\\\\"meta\\\\\\\\\\\\\": {\\\\\\\\\\\\\"savedDatasetId\\\\\\\\\\\\\": \\\\\\\\\\\\\"af8d37c1-425e-4f85-bb31-9753e3aaa926\\\\\\\\\\\\\", \\\\\\\\\\\\\"datasetType\\\\\\\\\\\\\": \\\\\\\\\\\\\"tabular\\\\\\\\\\\\\", \\\\\\\\\\\\\"subscriptionId\\\\\\\\\\\\\": \\\\\\\\\\\\\"6971f5ac-8af1-446e-8034-05acea24681f\\\\\\\\\\\\\", \\\\\\\\\\\\\"workspaceId\\\\\\\\\\\\\": \\\\\\\\\\\\\"39b592a7-4fcc-4272-a890-ee16011200a1\\\\\\\\\\\\\", \\\\\\\\\\\\\"workspaceLocation\\\\\\\\\\\\\": \\\\\\\\\\\\\"southcentralus\\\\\\\\\\\\\"}}\\\\\", \\\\\"activities\\\\\": 0}',\n",
       "  'EnableSubsampling': None,\n",
       "  'runTemplate': 'AutoML',\n",
       "  'azureml.runsource': 'automl',\n",
       "  'display_task_type': 'classification',\n",
       "  'dependencies_versions': '{\"azureml-widgets\": \"1.19.0\", \"azureml-train\": \"1.20.0\", \"azureml-train-restclients-hyperdrive\": \"1.20.0\", \"azureml-train-core\": \"1.20.0\", \"azureml-train-automl\": \"1.20.0\", \"azureml-train-automl-runtime\": \"1.20.0.post1\", \"azureml-train-automl-client\": \"1.20.0\", \"azureml-tensorboard\": \"1.19.0\", \"azureml-telemetry\": \"1.20.0\", \"azureml-sdk\": \"1.20.0\", \"azureml-samples\": \"0+unknown\", \"azureml-pipeline\": \"1.20.0\", \"azureml-pipeline-steps\": \"1.20.0\", \"azureml-pipeline-core\": \"1.20.0\", \"azureml-opendatasets\": \"1.19.0\", \"azureml-model-management-sdk\": \"1.0.1b6.post1\", \"azureml-mlflow\": \"1.19.0\", \"azureml-interpret\": \"1.20.0\", \"azureml-explain-model\": \"1.19.0\", \"azureml-defaults\": \"1.20.0\", \"azureml-dataset-runtime\": \"1.20.0\", \"azureml-dataprep\": \"2.7.3\", \"azureml-dataprep-rslex\": \"1.5.0\", \"azureml-dataprep-native\": \"27.0.0\", \"azureml-datadrift\": \"1.19.0\", \"azureml-core\": \"1.20.0\", \"azureml-contrib-services\": \"1.19.0\", \"azureml-contrib-server\": \"1.19.0\", \"azureml-contrib-reinforcementlearning\": \"1.19.0\", \"azureml-contrib-pipeline-steps\": \"1.19.0\", \"azureml-contrib-notebook\": \"1.19.0\", \"azureml-contrib-interpret\": \"1.19.0\", \"azureml-contrib-gbdt\": \"1.19.0\", \"azureml-contrib-fairness\": \"1.19.0\", \"azureml-contrib-dataset\": \"1.19.0\", \"azureml-cli-common\": \"1.19.0\", \"azureml-automl-runtime\": \"1.20.0\", \"azureml-automl-core\": \"1.20.0\", \"azureml-accel-models\": \"1.19.0\"}',\n",
       "  '_aml_system_scenario_identification': 'Remote.Parent',\n",
       "  'ClientType': 'SDK',\n",
       "  'environment_cpu_name': 'AzureML-AutoML',\n",
       "  'environment_cpu_label': 'prod',\n",
       "  'environment_gpu_name': 'AzureML-AutoML-GPU',\n",
       "  'environment_gpu_label': 'prod',\n",
       "  'root_attribution': 'automl',\n",
       "  'attribution': 'AutoML',\n",
       "  'Orchestrator': 'AutoML',\n",
       "  'CancelUri': 'https://southcentralus.experiments.azureml.net/jasmine/v1.0/subscriptions/6971f5ac-8af1-446e-8034-05acea24681f/resourceGroups/aml-quickstarts-135762/providers/Microsoft.MachineLearningServices/workspaces/quick-starts-ws-135762/experimentids/1d325d90-387b-4596-ad5d-a57034566f38/cancel/AutoML_da970879-bd7f-4f48-b543-7cb437fa4380',\n",
       "  'azureml.git.repository_uri': 'https://github.com/donjude/azureml-engineer-capstone.git',\n",
       "  'mlflow.source.git.repoURL': 'https://github.com/donjude/azureml-engineer-capstone.git',\n",
       "  'azureml.git.branch': 'main',\n",
       "  'mlflow.source.git.branch': 'main',\n",
       "  'azureml.git.commit': 'c43f791ea7494b791fc63d39d33611d09de150fa',\n",
       "  'mlflow.source.git.commit': 'c43f791ea7494b791fc63d39d33611d09de150fa',\n",
       "  'azureml.git.dirty': 'False',\n",
       "  'ClientSdkVersion': '1.20.0',\n",
       "  'snapshotId': '00000000-0000-0000-0000-000000000000',\n",
       "  'SetupRunId': 'AutoML_da970879-bd7f-4f48-b543-7cb437fa4380_setup',\n",
       "  'SetupRunContainerId': 'dcid.AutoML_da970879-bd7f-4f48-b543-7cb437fa4380_setup',\n",
       "  'FeaturizationRunJsonPath': 'featurizer_container.json',\n",
       "  'FeaturizationRunId': 'AutoML_da970879-bd7f-4f48-b543-7cb437fa4380_featurize',\n",
       "  'ProblemInfoJsonString': '{\"dataset_num_categorical\": 0, \"is_sparse\": false, \"subsampling\": false, \"dataset_classes\": 2, \"dataset_features\": 12, \"dataset_samples\": 299, \"single_frequency_class_detected\": false}',\n",
       "  'ModelExplainRunId': 'AutoML_da970879-bd7f-4f48-b543-7cb437fa4380_ModelExplain'},\n",
       " 'inputDatasets': [{'dataset': {'id': 'af8d37c1-425e-4f85-bb31-9753e3aaa926'}, 'consumptionDetails': {'type': 'RunInput', 'inputName': 'training_data', 'mechanism': 'Direct'}}],\n",
       " 'outputDatasets': [],\n",
       " 'logFiles': {},\n",
       " 'submittedBy': 'ODL_User 135762'}"
      ]
     },
     "execution_count": 9,
     "metadata": {},
     "output_type": "execute_result"
    }
   ],
   "source": [
    "# return details of the run\n",
    "remote_run.wait_for_completion(show_output=True)"
   ]
  },
  {
   "cell_type": "markdown",
   "metadata": {},
   "source": [
    "## Best Model\n",
    "\n",
    "TODO: In the cell below, get the best model from the automl experiments and display all the properties of the model.\n",
    "\n"
   ]
  },
  {
   "cell_type": "code",
   "execution_count": 16,
   "metadata": {
    "gather": {
     "logged": 1598431425670
    },
    "jupyter": {
     "outputs_hidden": false,
     "source_hidden": false
    },
    "nteract": {
     "transient": {
      "deleting": false
     }
    }
   },
   "outputs": [
    {
     "data": {
      "text/html": [
       "<table style=\"width:100%\"><tr><th>Experiment</th><th>Id</th><th>Type</th><th>Status</th><th>Details Page</th><th>Docs Page</th></tr><tr><td>auto-ml-heart-failure-exp</td><td>AutoML_da970879-bd7f-4f48-b543-7cb437fa4380_32</td><td>azureml.scriptrun</td><td>Completed</td><td><a href=\"https://ml.azure.com/experiments/auto-ml-heart-failure-exp/runs/AutoML_da970879-bd7f-4f48-b543-7cb437fa4380_32?wsid=/subscriptions/6971f5ac-8af1-446e-8034-05acea24681f/resourcegroups/aml-quickstarts-135762/workspaces/quick-starts-ws-135762\" target=\"_blank\" rel=\"noopener\">Link to Azure Machine Learning studio</a></td><td><a href=\"https://docs.microsoft.com/en-us/python/api/azureml-core/azureml.core.run.Run?view=azure-ml-py\" target=\"_blank\" rel=\"noopener\">Link to Documentation</a></td></tr></table>"
      ],
      "text/plain": [
       "Run(Experiment: auto-ml-heart-failure-exp,\n",
       "Id: AutoML_da970879-bd7f-4f48-b543-7cb437fa4380_32,\n",
       "Type: azureml.scriptrun,\n",
       "Status: Completed)"
      ]
     },
     "execution_count": 16,
     "metadata": {},
     "output_type": "execute_result"
    }
   ],
   "source": [
    "# get the best model\n",
    "best_run, fitted_model = remote_run.get_output()\n",
    "\n",
    "best_run"
   ]
  },
  {
   "cell_type": "code",
   "execution_count": 10,
   "metadata": {},
   "outputs": [
    {
     "data": {
      "text/plain": [
       "Pipeline(memory=None,\n",
       "         steps=[('datatransformer',\n",
       "                 DataTransformer(enable_dnn=None, enable_feature_sweeping=None,\n",
       "                                 feature_sweeping_config=None,\n",
       "                                 feature_sweeping_timeout=None,\n",
       "                                 featurization_config=None, force_text_dnn=None,\n",
       "                                 is_cross_validation=None,\n",
       "                                 is_onnx_compatible=None, logger=None,\n",
       "                                 observer=None, task=None, working_dir=None)),\n",
       "                ('prefittedsoftvotingclassifier',...\n",
       "                                                                                                random_state=None,\n",
       "                                                                                                reg_alpha=0.0,\n",
       "                                                                                                reg_lambda=0.0,\n",
       "                                                                                                silent=True,\n",
       "                                                                                                subsample=1.0,\n",
       "                                                                                                subsample_for_bin=200000,\n",
       "                                                                                                subsample_freq=0,\n",
       "                                                                                                verbose=-10))],\n",
       "                                                                     verbose=False))],\n",
       "                                               flatten_transform=None,\n",
       "                                               weights=[0.08333333333333333,\n",
       "                                                        0.08333333333333333,\n",
       "                                                        0.08333333333333333,\n",
       "                                                        0.08333333333333333,\n",
       "                                                        0.08333333333333333,\n",
       "                                                        0.08333333333333333,\n",
       "                                                        0.25,\n",
       "                                                        0.16666666666666666,\n",
       "                                                        0.08333333333333333]))],\n",
       "         verbose=False)"
      ]
     },
     "execution_count": 10,
     "metadata": {},
     "output_type": "execute_result"
    }
   ],
   "source": [
    "# display the properties of the model\n",
    "fitted_model"
   ]
  },
  {
   "cell_type": "code",
   "execution_count": 11,
   "metadata": {},
   "outputs": [],
   "source": [
    "# create inference folder\n",
    "folder_name = 'inference'\n",
    "\n",
    "if folder_name not in os.listdir():\n",
    "    os.mkdir(folder_name)\n",
    "    print(\"The folder\", folder_name, \"has been created\")"
   ]
  },
  {
   "cell_type": "code",
   "execution_count": 12,
   "metadata": {
    "gather": {
     "logged": 1598431426111
    },
    "jupyter": {
     "outputs_hidden": false,
     "source_hidden": false
    },
    "nteract": {
     "transient": {
      "deleting": false
     }
    }
   },
   "outputs": [],
   "source": [
    "# Save the best model, scoring script, and conda env files in inference folder\n",
    "best_run.download_file('outputs/scoring_file_v_1_0_0.py', 'inference/score.py')\n",
    "best_run.download_file('outputs/model.pkl', 'inference/model.pkl')\n",
    "best_run.download_file('outputs/conda_env_v_1_0_0.yml', 'inference/conda_env.yml')"
   ]
  },
  {
   "cell_type": "markdown",
   "metadata": {},
   "source": [
    "## Model Deployment\n",
    "\n",
    "Remember you have to deploy only one of the two models you trained.. Perform the steps in the rest of this notebook only if you wish to deploy this model.\n",
    "\n",
    "TODO: In the cell below, register the model, create an inference config and deploy the model as a web service."
   ]
  },
  {
   "cell_type": "code",
   "execution_count": 13,
   "metadata": {
    "gather": {
     "logged": 1598431435189
    },
    "jupyter": {
     "outputs_hidden": false,
     "source_hidden": false
    },
    "nteract": {
     "transient": {
      "deleting": false
     }
    }
   },
   "outputs": [
    {
     "name": "stdout",
     "output_type": "stream",
     "text": [
      "Registering model AutoMLda970879b32\n",
      "Name: AutoMLda970879b32\n",
      "Version: 1\n"
     ]
    }
   ],
   "source": [
    "# Register the model\n",
    "import sklearn\n",
    "\n",
    "from azureml.core import Model\n",
    "from azureml.core.resource_configuration import ResourceConfiguration\n",
    "\n",
    "model_name = best_run.properties['model_name']\n",
    "\n",
    "run_id = best_run.id\n",
    "experiment_name = best_run.experiment.name\n",
    "\n",
    "model = Model.register(workspace=ws,\n",
    "                       model_name=model_name, # Name of the registered model in your workspace.\n",
    "                       model_path='inference/model.pkl',  # Local file to upload and register as a model.\n",
    "                       model_framework=Model.Framework.SCIKITLEARN,  # Framework used to create the model.\n",
    "                       model_framework_version=sklearn.__version__,  # Version of scikit-learn used to create the model.\n",
    "                       description='Auto ML model to predict motality caused by heart failure.',\n",
    "                       tags={'area': 'heart-failure', 'type': 'classification'})\n",
    "\n",
    "print('Name:', model.name)\n",
    "print('Version:', model.version)"
   ]
  },
  {
   "cell_type": "code",
   "execution_count": 14,
   "metadata": {},
   "outputs": [
    {
     "name": "stdout",
     "output_type": "stream",
     "text": [
      "# Conda environment specification. The dependencies defined in this file will\n",
      "# be automatically provisioned for runs with userManagedDependencies=False.\n",
      "\n",
      "# Details about the Conda environment file format:\n",
      "# https://conda.io/docs/user-guide/tasks/manage-environments.html#create-env-file-manually\n",
      "\n",
      "name: project_environment\n",
      "dependencies:\n",
      "  # The python interpreter version.\n",
      "  # Currently Azure ML only supports 3.5.2 and later.\n",
      "- python=3.6.2\n",
      "\n",
      "- pip:\n",
      "  - azureml-train-automl-runtime==1.20.0\n",
      "  - inference-schema\n",
      "  - azureml-interpret==1.20.0\n",
      "  - azureml-defaults==1.20.0\n",
      "- numpy>=1.16.0,<1.19.0\n",
      "- pandas==0.25.1\n",
      "- scikit-learn==0.22.1\n",
      "- py-xgboost<=0.90\n",
      "- fbprophet==0.5\n",
      "- holidays==0.9.11\n",
      "- psutil>=5.2.2,<6.0.0\n",
      "channels:\n",
      "- anaconda\n",
      "- conda-forge\n",
      "\n"
     ]
    }
   ],
   "source": [
    "# create inference configuration\n",
    "from azureml.core.environment import Environment\n",
    "from azureml.core.model import InferenceConfig\n",
    "\n",
    "myenv = Environment.from_conda_specification(name=\"myenv\", file_path=\"inference/conda_env.yml\")\n",
    "inference_config = InferenceConfig(entry_script=\"inference/score.py\", environment=myenv)\n",
    "\n",
    "# display the environment file\n",
    "with open('inference/conda_env.yml', 'r') as file:\n",
    "    env_file = file.read()\n",
    "    print(env_file)"
   ]
  },
  {
   "cell_type": "code",
   "execution_count": 15,
   "metadata": {},
   "outputs": [
    {
     "name": "stdout",
     "output_type": "stream",
     "text": [
      "Tips: You can try get_logs(): https://aka.ms/debugimage#dockerlog or local deployment: https://aka.ms/debugimage#debug-locally to debug if deployment takes longer than 10 minutes.\n",
      "Running....................................................................................................................................................................................\n",
      "Succeeded\n",
      "ACI service creation operation finished, operation \"Succeeded\"\n",
      "Healthy\n"
     ]
    }
   ],
   "source": [
    "# Model Deployment\n",
    "from azureml.core.webservice import AciWebservice\n",
    "\n",
    "# define deployment configuration\n",
    "aci_deployment_config = AciWebservice.deploy_configuration(cpu_cores=1,\n",
    "                                                           memory_gb=1,\n",
    "                                                           tags={'area': \"heart-failure\", 'type': \"classification\"},\n",
    "                                                           description=\"Predict heart failure mortality using classification model\",\n",
    "                                                           enable_app_insights=True)\n",
    "\n",
    "# deploy model as webservice using Azure Container Instance(ACI)\n",
    "aci_service_name = \"aci-heart-failure-deploy\"\n",
    "\n",
    "aci_service = Model.deploy(ws, aci_service_name, [model], inference_config, aci_deployment_config, overwrite=True)\n",
    "aci_service.wait_for_deployment(show_output=True)\n",
    "\n",
    "print(aci_service.state)"
   ]
  },
  {
   "cell_type": "markdown",
   "metadata": {
    "collapsed": true,
    "gather": {
     "logged": 1598431657736
    },
    "jupyter": {
     "outputs_hidden": false,
     "source_hidden": false
    },
    "nteract": {
     "transient": {
      "deleting": false
     }
    }
   },
   "source": [
    "TODO: In the cell below, send a request to the web service you deployed to test it."
   ]
  },
  {
   "cell_type": "code",
   "execution_count": 17,
   "metadata": {},
   "outputs": [
    {
     "name": "stdout",
     "output_type": "stream",
     "text": [
      "http://334d7332-054d-4101-bc84-9e7f178260e4.southcentralus.azurecontainer.io/score\n"
     ]
    }
   ],
   "source": [
    "# get the active api endpoint for scoring\n",
    "print(aci_service.scoring_uri)"
   ]
  },
  {
   "cell_type": "code",
   "execution_count": 18,
   "metadata": {},
   "outputs": [
    {
     "name": "stdout",
     "output_type": "stream",
     "text": [
      "Results: {\"result\": [1, 1, 0, 1]}\n"
     ]
    }
   ],
   "source": [
    "# run script to score the 4 observations below in the json payloader\n",
    "import json\n",
    "import requests\n",
    "\n",
    "scoring_uri = 'http://334d7332-054d-4101-bc84-9e7f178260e4.southcentralus.azurecontainer.io/score'\n",
    "headers = {'Content-Type':'application/json'}\n",
    "\n",
    "test_sample = json.dumps({\n",
    "    \"data\": [\n",
    "            [75.0, 0.0, 582.0, 0.0, 20.0, 1.0, 265000.0, 1.9, 130.0, 1.0, 0.0, 4.0],\n",
    "            [80.0, 1.0, 123.0, 0.0, 35.0, 1.0, 388000.0, 9.4, 133.0, 1.0, 1.0, 10.0],\n",
    "            [62.0, 0.0, 61.0, 1.0, 38.0, 1.0, 155000.0, 1.1, 143.0, 1.0, 1.0, 270.0],\n",
    "            [50.0, 1.0, 111.0, 0.0, 20.0, 0.0, 210000.0, 1.9, 137.0, 1.0, 0.0, 7.0]\n",
    "        ]\n",
    "    })\n",
    "\n",
    "response = requests.post(scoring_uri, data=test_sample, headers=headers)\n",
    "print(\"Results:\", response.json())"
   ]
  },
  {
   "cell_type": "markdown",
   "metadata": {
    "collapsed": true,
    "gather": {
     "logged": 1598432765711
    },
    "jupyter": {
     "outputs_hidden": false,
     "source_hidden": false
    },
    "nteract": {
     "transient": {
      "deleting": false
     }
    }
   },
   "source": [
    "TODO: In the cell below, print the logs of the web service and delete the service"
   ]
  },
  {
   "cell_type": "code",
   "execution_count": 19,
   "metadata": {},
   "outputs": [
    {
     "name": "stdout",
     "output_type": "stream",
     "text": [
      "2021-01-23T10:55:32,096428727+00:00 - gunicorn/run \n",
      "2021-01-23T10:55:32,098135829+00:00 - iot-server/run \n",
      "2021-01-23T10:55:32,098357230+00:00 - rsyslog/run \n",
      "2021-01-23T10:55:32,103602038+00:00 - nginx/run \n",
      "/usr/sbin/nginx: /azureml-envs/azureml_fc7e1840225416a471556263041ca33e/lib/libcrypto.so.1.0.0: no version information available (required by /usr/sbin/nginx)\n",
      "/usr/sbin/nginx: /azureml-envs/azureml_fc7e1840225416a471556263041ca33e/lib/libcrypto.so.1.0.0: no version information available (required by /usr/sbin/nginx)\n",
      "/usr/sbin/nginx: /azureml-envs/azureml_fc7e1840225416a471556263041ca33e/lib/libssl.so.1.0.0: no version information available (required by /usr/sbin/nginx)\n",
      "/usr/sbin/nginx: /azureml-envs/azureml_fc7e1840225416a471556263041ca33e/lib/libssl.so.1.0.0: no version information available (required by /usr/sbin/nginx)\n",
      "/usr/sbin/nginx: /azureml-envs/azureml_fc7e1840225416a471556263041ca33e/lib/libssl.so.1.0.0: no version information available (required by /usr/sbin/nginx)\n",
      "rsyslogd: /azureml-envs/azureml_fc7e1840225416a471556263041ca33e/lib/libuuid.so.1: no version information available (required by rsyslogd)\n",
      "EdgeHubConnectionString and IOTEDGE_IOTHUBHOSTNAME are not set. Exiting...\n",
      "2021-01-23T10:55:32,224483921+00:00 - iot-server/finish 1 0\n",
      "2021-01-23T10:55:32,226098123+00:00 - Exit code 1 is normal. Not restarting iot-server.\n",
      "Starting gunicorn 19.9.0\n",
      "Listening at: http://127.0.0.1:31311 (17)\n",
      "Using worker: sync\n",
      "worker timeout is set to 300\n",
      "Booting worker with pid: 46\n",
      "SPARK_HOME not set. Skipping PySpark Initialization.\n",
      "Generating new fontManager, this may take some time...\n",
      "Initializing logger\n",
      "2021-01-23 10:55:33,645 | root | INFO | Starting up app insights client\n",
      "2021-01-23 10:55:33,646 | root | INFO | Starting up request id generator\n",
      "2021-01-23 10:55:33,646 | root | INFO | Starting up app insight hooks\n",
      "2021-01-23 10:55:33,646 | root | INFO | Invoking user's init function\n",
      "2021-01-23 10:55:37,383 | azureml.core | WARNING | Failure while loading azureml_run_type_providers. Failed to load entrypoint automl = azureml.train.automl.run:AutoMLRun._from_run_dto with exception cannot import name 'RunType'.\n",
      "Failure while loading azureml_run_type_providers. Failed to load entrypoint automl = azureml.train.automl.run:AutoMLRun._from_run_dto with exception cannot import name 'RunType'.\n",
      "2021-01-23 10:55:37,511 | root | INFO | Users's init has completed successfully\n",
      "2021-01-23 10:55:37,514 | root | INFO | Skipping middleware: dbg_model_info as it's not enabled.\n",
      "2021-01-23 10:55:37,514 | root | INFO | Skipping middleware: dbg_resource_usage as it's not enabled.\n",
      "2021-01-23 10:55:37,516 | root | INFO | Scoring timeout is found from os.environ: 60000 ms\n",
      "2021-01-23 10:55:44,163 | root | INFO | 200\n",
      "127.0.0.1 - - [23/Jan/2021:10:55:44 +0000] \"GET /swagger.json HTTP/1.0\" 200 2860 \"-\" \"Go-http-client/1.1\"\n",
      "2021-01-23 10:55:50,474 | root | INFO | 200\n",
      "127.0.0.1 - - [23/Jan/2021:10:55:50 +0000] \"GET /swagger.json HTTP/1.0\" 200 2860 \"-\" \"Go-http-client/1.1\"\n",
      "2021-01-23 11:06:27,461 | root | INFO | Scoring Timer is set to 60.0 seconds\n",
      "2021-01-23 11:06:27,470 | root | ERROR | Encountered Exception: Traceback (most recent call last):\n",
      "  File \"/var/azureml-server/synchronous/routes.py\", line 64, in run_scoring\n",
      "    response = invoke_user_with_timer(service_input, request_headers)\n",
      "  File \"/var/azureml-server/synchronous/routes.py\", line 97, in invoke_user_with_timer\n",
      "    result = user_main.run(**params)\n",
      "  File \"/azureml-envs/azureml_fc7e1840225416a471556263041ca33e/lib/python3.6/site-packages/wrapt/wrappers.py\", line 564, in __call__\n",
      "    args, kwargs)\n",
      "  File \"/azureml-envs/azureml_fc7e1840225416a471556263041ca33e/lib/python3.6/site-packages/inference_schema/schema_decorators.py\", line 55, in decorator_input\n",
      "    args[param_position] = _deserialize_input_argument(args[param_position], param_type, param_name)\n",
      "IndexError: list index out of range\n",
      "\n",
      "During handling of the above exception, another exception occurred:\n",
      "\n",
      "Traceback (most recent call last):\n",
      "  File \"/azureml-envs/azureml_fc7e1840225416a471556263041ca33e/lib/python3.6/site-packages/flask/app.py\", line 1832, in full_dispatch_request\n",
      "    rv = self.dispatch_request()\n",
      "  File \"/azureml-envs/azureml_fc7e1840225416a471556263041ca33e/lib/python3.6/site-packages/flask/app.py\", line 1818, in dispatch_request\n",
      "    return self.view_functions[rule.endpoint](**req.view_args)\n",
      "  File \"/var/azureml-server/synchronous/routes.py\", line 20, in get_prediction_realtime\n",
      "    return run_scoring(service_input, request.headers, request.environ.get('REQUEST_ID', '00000000-0000-0000-0000-000000000000'))\n",
      "  File \"/var/azureml-server/synchronous/routes.py\", line 77, in run_scoring\n",
      "    raise RunFunctionException(str(exc))\n",
      "run_function_exception.RunFunctionException\n",
      "\n",
      "2021-01-23 11:06:27,470 | root | INFO | 500\n",
      "127.0.0.1 - - [23/Jan/2021:11:06:27 +0000] \"GET /score HTTP/1.0\" 500 23 \"-\" \"Mozilla/5.0 (Windows NT 10.0; Win64; x64) AppleWebKit/537.36 (KHTML, like Gecko) Chrome/80.0.3987.163 Safari/537.36 Edg/80.0.361.111\"\n",
      "127.0.0.1 - - [23/Jan/2021:11:06:27 +0000] \"GET /favicon.ico HTTP/1.0\" 404 232 \"http://334d7332-054d-4101-bc84-9e7f178260e4.southcentralus.azurecontainer.io/score\" \"Mozilla/5.0 (Windows NT 10.0; Win64; x64) AppleWebKit/537.36 (KHTML, like Gecko) Chrome/80.0.3987.163 Safari/537.36 Edg/80.0.361.111\"\n",
      "Exception in worker process\n",
      "Traceback (most recent call last):\n",
      "  File \"/azureml-envs/azureml_fc7e1840225416a471556263041ca33e/lib/python3.6/site-packages/gunicorn/arbiter.py\", line 583, in spawn_worker\n",
      "    worker.init_process()\n",
      "  File \"/azureml-envs/azureml_fc7e1840225416a471556263041ca33e/lib/python3.6/site-packages/gunicorn/workers/base.py\", line 134, in init_process\n",
      "    self.run()\n",
      "  File \"/azureml-envs/azureml_fc7e1840225416a471556263041ca33e/lib/python3.6/site-packages/gunicorn/workers/sync.py\", line 124, in run\n",
      "    self.run_for_one(timeout)\n",
      "  File \"/azureml-envs/azureml_fc7e1840225416a471556263041ca33e/lib/python3.6/site-packages/gunicorn/workers/sync.py\", line 83, in run_for_one\n",
      "    self.wait(timeout)\n",
      "  File \"/azureml-envs/azureml_fc7e1840225416a471556263041ca33e/lib/python3.6/site-packages/gunicorn/workers/sync.py\", line 35, in wait\n",
      "    ret = select.select(self.wait_fds, [], [], timeout)\n",
      "  File \"/var/azureml-server/routes_common.py\", line 162, in alarm_handler\n",
      "    raise TimeoutException(error_message)\n",
      "timeout_exception.TimeoutException\n",
      "Worker exiting (pid: 46)\n",
      "worker timeout is set to 300\n",
      "Booting worker with pid: 73\n",
      "SPARK_HOME not set. Skipping PySpark Initialization.\n",
      "Initializing logger\n",
      "2021-01-23 11:07:29,211 | root | INFO | Starting up app insights client\n",
      "2021-01-23 11:07:29,211 | root | INFO | Starting up request id generator\n",
      "2021-01-23 11:07:29,211 | root | INFO | Starting up app insight hooks\n",
      "2021-01-23 11:07:29,211 | root | INFO | Invoking user's init function\n",
      "2021-01-23 11:07:31,102 | azureml.core | WARNING | Failure while loading azureml_run_type_providers. Failed to load entrypoint automl = azureml.train.automl.run:AutoMLRun._from_run_dto with exception cannot import name 'RunType'.\n",
      "Failure while loading azureml_run_type_providers. Failed to load entrypoint automl = azureml.train.automl.run:AutoMLRun._from_run_dto with exception cannot import name 'RunType'.\n",
      "2021-01-23 11:07:31,240 | root | INFO | Users's init has completed successfully\n",
      "2021-01-23 11:07:31,241 | root | INFO | Skipping middleware: dbg_model_info as it's not enabled.\n",
      "2021-01-23 11:07:31,241 | root | INFO | Skipping middleware: dbg_resource_usage as it's not enabled.\n",
      "2021-01-23 11:07:31,243 | root | INFO | Scoring timeout is found from os.environ: 60000 ms\n",
      "2021-01-23 11:07:57,202 | root | INFO | Validation Request Content-Type\n",
      "2021-01-23 11:07:57,203 | root | INFO | Scoring Timer is set to 60.0 seconds\n",
      "2021-01-23 11:07:57,289 | root | INFO | 200\n",
      "127.0.0.1 - - [23/Jan/2021:11:07:57 +0000] \"POST /score HTTP/1.0\" 200 28 \"-\" \"python-requests/2.25.0\"\n",
      "\n"
     ]
    }
   ],
   "source": [
    "# print the log of the webservice\n",
    "print(aci_service.get_logs())"
   ]
  },
  {
   "cell_type": "code",
   "execution_count": 111,
   "metadata": {},
   "outputs": [
    {
     "name": "stdout",
     "output_type": "stream",
     "text": [
      "No service with name aci-heart-failure-deploy found to delete.\n"
     ]
    }
   ],
   "source": [
    "# delete the web service\n",
    "aci_service.delete()\n",
    "model.delete()"
   ]
  },
  {
   "cell_type": "code",
   "execution_count": null,
   "metadata": {},
   "outputs": [],
   "source": []
  }
 ],
 "metadata": {
  "kernel_info": {
   "name": "python3-azureml"
  },
  "kernelspec": {
   "display_name": "Python 3.6 - AzureML",
   "language": "python",
   "name": "python3-azureml"
  },
  "language_info": {
   "codemirror_mode": {
    "name": "ipython",
    "version": 3
   },
   "file_extension": ".py",
   "mimetype": "text/x-python",
   "name": "python",
   "nbconvert_exporter": "python",
   "pygments_lexer": "ipython3",
   "version": "3.6.9"
  },
  "nteract": {
   "version": "nteract-front-end@1.0.0"
  }
 },
 "nbformat": 4,
 "nbformat_minor": 2
}
